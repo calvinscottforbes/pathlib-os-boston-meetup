{
 "cells": [
  {
   "attachments": {},
   "cell_type": "markdown",
   "metadata": {},
   "source": [
    "# pathlib - Path Objects in Python"
   ]
  },
  {
   "attachments": {},
   "cell_type": "markdown",
   "metadata": {},
   "source": [
    "### Links\n",
    "pathlib - https://docs.python.org/3/library/pathlib.html\n",
    "\n",
    "os.path - https://docs.python.org/3/library/os.path.html\n"
   ]
  },
  {
   "attachments": {},
   "cell_type": "markdown",
   "metadata": {},
   "source": [
    "### A Quick Example"
   ]
  },
  {
   "cell_type": "code",
   "execution_count": 1,
   "metadata": {},
   "outputs": [],
   "source": [
    "from pathlib import Path # \"Path is most likely what you'll need\""
   ]
  },
  {
   "cell_type": "code",
   "execution_count": 2,
   "metadata": {},
   "outputs": [
    {
     "data": {
      "text/plain": [
       "WindowsPath('c:/Users/calvin/Documents/GitHub/pathlib-os-boston-meetup')"
      ]
     },
     "execution_count": 2,
     "metadata": {},
     "output_type": "execute_result"
    }
   ],
   "source": [
    "Path.cwd()"
   ]
  },
  {
   "cell_type": "code",
   "execution_count": 3,
   "metadata": {},
   "outputs": [
    {
     "data": {
      "text/plain": [
       "WindowsPath('requirements.txt')"
      ]
     },
     "execution_count": 3,
     "metadata": {},
     "output_type": "execute_result"
    }
   ],
   "source": [
    "path = Path(\"requirements.txt\")\n",
    "path"
   ]
  },
  {
   "cell_type": "code",
   "execution_count": 4,
   "metadata": {},
   "outputs": [
    {
     "data": {
      "text/plain": [
       "True"
      ]
     },
     "execution_count": 4,
     "metadata": {},
     "output_type": "execute_result"
    }
   ],
   "source": [
    "path.exists()"
   ]
  },
  {
   "cell_type": "code",
   "execution_count": 5,
   "metadata": {},
   "outputs": [
    {
     "data": {
      "text/plain": [
       "('c:\\\\',\n",
       " 'Users',\n",
       " 'calvin',\n",
       " 'Documents',\n",
       " 'GitHub',\n",
       " 'pathlib-os-boston-meetup',\n",
       " 'requirements.txt')"
      ]
     },
     "execution_count": 5,
     "metadata": {},
     "output_type": "execute_result"
    }
   ],
   "source": [
    "path.absolute().parts"
   ]
  },
  {
   "attachments": {},
   "cell_type": "markdown",
   "metadata": {},
   "source": [
    "## Paths as  Objects"
   ]
  },
  {
   "attachments": {},
   "cell_type": "markdown",
   "metadata": {},
   "source": [
    "### Pure Paths and Concrete Paths\n",
    "Pure paths are objects without respect to the file system.\n",
    "\n",
    "Concrete paths can interact with the file system. They inherit from Pure paths.\n",
    "\n",
    "Most likely you'll just use the <b>Path</b> class because it gives you everything a PurePath does and i/o operations without any real tradeoffs (see appendix)."
   ]
  },
  {
   "cell_type": "code",
   "execution_count": 6,
   "metadata": {},
   "outputs": [],
   "source": [
    "from pathlib import PurePath, Path"
   ]
  },
  {
   "cell_type": "code",
   "execution_count": 7,
   "metadata": {},
   "outputs": [],
   "source": [
    "# Change to your path\n",
    "path_string = \"c:/Users/calvin/Documents/Github/pathlib-os-boston-meetup/requirements.txt\""
   ]
  },
  {
   "cell_type": "code",
   "execution_count": 8,
   "metadata": {},
   "outputs": [
    {
     "data": {
      "text/plain": [
       "PureWindowsPath('c:/Users/calvin/Documents/Github/pathlib-os-boston-meetup/requirements.txt')"
      ]
     },
     "execution_count": 8,
     "metadata": {},
     "output_type": "execute_result"
    }
   ],
   "source": [
    "pure_path = PurePath(path_string)\n",
    "pure_path"
   ]
  },
  {
   "cell_type": "code",
   "execution_count": 9,
   "metadata": {},
   "outputs": [
    {
     "data": {
      "text/plain": [
       "WindowsPath('c:/Users/calvin/Documents/Github/pathlib-os-boston-meetup/requirements.txt')"
      ]
     },
     "execution_count": 9,
     "metadata": {},
     "output_type": "execute_result"
    }
   ],
   "source": [
    "path = Path(path_string)\n",
    "path"
   ]
  },
  {
   "cell_type": "code",
   "execution_count": 10,
   "metadata": {},
   "outputs": [
    {
     "data": {
      "text/plain": [
       "('c:\\\\',\n",
       " 'Users',\n",
       " 'calvin',\n",
       " 'Documents',\n",
       " 'Github',\n",
       " 'pathlib-os-boston-meetup',\n",
       " 'requirements.txt')"
      ]
     },
     "execution_count": 10,
     "metadata": {},
     "output_type": "execute_result"
    }
   ],
   "source": [
    "pure_path.parts"
   ]
  },
  {
   "cell_type": "code",
   "execution_count": 11,
   "metadata": {},
   "outputs": [
    {
     "data": {
      "text/plain": [
       "('c:\\\\',\n",
       " 'Users',\n",
       " 'calvin',\n",
       " 'Documents',\n",
       " 'Github',\n",
       " 'pathlib-os-boston-meetup',\n",
       " 'requirements.txt')"
      ]
     },
     "execution_count": 11,
     "metadata": {},
     "output_type": "execute_result"
    }
   ],
   "source": [
    "path.parts"
   ]
  },
  {
   "cell_type": "code",
   "execution_count": 12,
   "metadata": {},
   "outputs": [
    {
     "ename": "AttributeError",
     "evalue": "'PureWindowsPath' object has no attribute 'exists'",
     "output_type": "error",
     "traceback": [
      "\u001b[1;31m---------------------------------------------------------------------------\u001b[0m",
      "\u001b[1;31mAttributeError\u001b[0m                            Traceback (most recent call last)",
      "Cell \u001b[1;32mIn[12], line 1\u001b[0m\n\u001b[1;32m----> 1\u001b[0m pure_path\u001b[39m.\u001b[39;49mexists()\n",
      "\u001b[1;31mAttributeError\u001b[0m: 'PureWindowsPath' object has no attribute 'exists'"
     ]
    }
   ],
   "source": [
    "pure_path.exists()"
   ]
  },
  {
   "cell_type": "code",
   "execution_count": 13,
   "metadata": {},
   "outputs": [
    {
     "data": {
      "text/plain": [
       "True"
      ]
     },
     "execution_count": 13,
     "metadata": {},
     "output_type": "execute_result"
    }
   ],
   "source": [
    "path.exists()"
   ]
  },
  {
   "attachments": {},
   "cell_type": "markdown",
   "metadata": {},
   "source": [
    "### Flavo(u)rs\n",
    "\n",
    "Flavors/OS - Windows or POSIX\n",
    "\n",
    "Both PurePath and Path have these flavors\n",
    "\n",
    "Purepath - PureWindowsPath, PurePosixPath\n",
    "\n",
    "Path - WindowsPath, PosixPath\n",
    "\n",
    "PurePath and Path objects will figure it out for you - as you can see from the example above. The use the os.name to figure it out under the hood.\n",
    "\n",
    "os.name == 'nt' (Windows) or not (POSIX)\n",
    "https://github.com/python/cpython/blob/ba16324b276c7b2b5ecf09479f30fc82c12192ae/Lib/pathlib.py#L469"
   ]
  },
  {
   "cell_type": "code",
   "execution_count": 14,
   "metadata": {},
   "outputs": [],
   "source": [
    "from pathlib import PureWindowsPath, PurePosixPath, WindowsPath, PosixPath"
   ]
  },
  {
   "attachments": {},
   "cell_type": "markdown",
   "metadata": {},
   "source": [
    "Pure paths will let me use Posix, but not concrete paths"
   ]
  },
  {
   "cell_type": "code",
   "execution_count": 15,
   "metadata": {},
   "outputs": [
    {
     "data": {
      "text/plain": [
       "PurePosixPath('c:/Users/calvin/Documents/Github/pathlib-os-boston-meetup/requirements.txt')"
      ]
     },
     "execution_count": 15,
     "metadata": {},
     "output_type": "execute_result"
    }
   ],
   "source": [
    "PurePosixPath(path_string)"
   ]
  },
  {
   "cell_type": "code",
   "execution_count": 16,
   "metadata": {},
   "outputs": [
    {
     "ename": "NotImplementedError",
     "evalue": "cannot instantiate 'PosixPath' on your system",
     "output_type": "error",
     "traceback": [
      "\u001b[1;31m---------------------------------------------------------------------------\u001b[0m",
      "\u001b[1;31mNotImplementedError\u001b[0m                       Traceback (most recent call last)",
      "Cell \u001b[1;32mIn[16], line 1\u001b[0m\n\u001b[1;32m----> 1\u001b[0m PosixPath(path_string)\n",
      "File \u001b[1;32m~\\.pyenv\\pyenv-win\\versions\\3.11.2\\Lib\\pathlib.py:873\u001b[0m, in \u001b[0;36mPath.__new__\u001b[1;34m(cls, *args, **kwargs)\u001b[0m\n\u001b[0;32m    871\u001b[0m \u001b[39mself\u001b[39m \u001b[39m=\u001b[39m \u001b[39mcls\u001b[39m\u001b[39m.\u001b[39m_from_parts(args)\n\u001b[0;32m    872\u001b[0m \u001b[39mif\u001b[39;00m \u001b[39mnot\u001b[39;00m \u001b[39mself\u001b[39m\u001b[39m.\u001b[39m_flavour\u001b[39m.\u001b[39mis_supported:\n\u001b[1;32m--> 873\u001b[0m     \u001b[39mraise\u001b[39;00m \u001b[39mNotImplementedError\u001b[39;00m(\u001b[39m\"\u001b[39m\u001b[39mcannot instantiate \u001b[39m\u001b[39m%r\u001b[39;00m\u001b[39m on your system\u001b[39m\u001b[39m\"\u001b[39m\n\u001b[0;32m    874\u001b[0m                               \u001b[39m%\u001b[39m (\u001b[39mcls\u001b[39m\u001b[39m.\u001b[39m\u001b[39m__name__\u001b[39m,))\n\u001b[0;32m    875\u001b[0m \u001b[39mreturn\u001b[39;00m \u001b[39mself\u001b[39m\n",
      "\u001b[1;31mNotImplementedError\u001b[0m: cannot instantiate 'PosixPath' on your system"
     ]
    }
   ],
   "source": [
    "PosixPath(path_string)"
   ]
  },
  {
   "attachments": {},
   "cell_type": "markdown",
   "metadata": {},
   "source": [
    "Some Windows and POSIX flavor difference:\n",
    "\n",
    "* Windows handles UNC paths \n",
    "* Slashes are different. - / and \\\n",
    "* POSIX is case sensitive, Windows is not."
   ]
  },
  {
   "attachments": {},
   "cell_type": "markdown",
   "metadata": {},
   "source": [
    "### Path Parts"
   ]
  },
  {
   "cell_type": "code",
   "execution_count": 17,
   "metadata": {},
   "outputs": [
    {
     "data": {
      "text/plain": [
       "('c:\\\\',\n",
       " 'Users',\n",
       " 'calvin',\n",
       " 'Documents',\n",
       " 'Github',\n",
       " 'pathlib-os-boston-meetup',\n",
       " 'requirements.txt')"
      ]
     },
     "execution_count": 17,
     "metadata": {},
     "output_type": "execute_result"
    }
   ],
   "source": [
    "path = Path(path_string)\n",
    "path.parts"
   ]
  },
  {
   "cell_type": "code",
   "execution_count": 18,
   "metadata": {},
   "outputs": [
    {
     "data": {
      "text/plain": [
       "{'path': 'c:\\\\Users\\\\calvin\\\\Documents\\\\Github\\\\pathlib-os-boston-meetup\\\\requirements.txt',\n",
       " 'anchor': 'c:\\\\',\n",
       " 'parent': WindowsPath('c:/Users/calvin/Documents/Github/pathlib-os-boston-meetup'),\n",
       " 'name': 'requirements.txt',\n",
       " 'suffix': '.txt',\n",
       " 'suffixes': ['.txt'],\n",
       " 'stem': 'requirements'}"
      ]
     },
     "execution_count": 18,
     "metadata": {},
     "output_type": "execute_result"
    }
   ],
   "source": [
    "{\n",
    "    \"path\": str(path),\n",
    "    \"anchor\": path.anchor,\n",
    "    \"parent\": path.parent,\n",
    "    \"name\": path.name,\n",
    "    \"suffix\": path.suffix,\n",
    "    \"suffixes\": path.suffixes,\n",
    "    \"stem\": path.stem,\n",
    "}"
   ]
  },
  {
   "attachments": {},
   "cell_type": "markdown",
   "metadata": {},
   "source": [
    "### Simple Methods"
   ]
  },
  {
   "cell_type": "code",
   "execution_count": 19,
   "metadata": {},
   "outputs": [
    {
     "data": {
      "text/plain": [
       "('c:\\\\Users\\\\calvin\\\\Documents\\\\Github\\\\pathlib-os-boston-meetup\\\\requirements.txt',\n",
       " True,\n",
       " True,\n",
       " WindowsPath('c:/Users/calvin/Documents/Github/pathlib-os-boston-meetup/dev-requirements.txt'),\n",
       " WindowsPath('c:/Users/calvin/Documents/Github/pathlib-os-boston-meetup/dev-requirements.txt'),\n",
       " WindowsPath('c:/Users/calvin/Documents/Github/pathlib-os-boston-meetup/requirements.in'))"
      ]
     },
     "execution_count": 19,
     "metadata": {},
     "output_type": "execute_result"
    }
   ],
   "source": [
    "(\n",
    "    str(path),\n",
    "    path.is_absolute(),\n",
    "    path.is_relative_to(\"c:\\\\Users\"),\n",
    "    # Create similar paths\n",
    "    path.with_name(\"dev-requirements.txt\"),\n",
    "    path.with_stem(\"dev-requirements\"),\n",
    "    path.with_suffix(\".in\"),\n",
    ")"
   ]
  },
  {
   "cell_type": "code",
   "execution_count": 20,
   "metadata": {},
   "outputs": [
    {
     "data": {
      "text/plain": [
       "('c:\\\\Users\\\\calvin\\\\Documents\\\\Github\\\\pathlib-os-boston-meetup\\\\requirements.txt',\n",
       " WindowsPath('c:/Users/calvin/Documents/GitHub/pathlib-os-boston-meetup'),\n",
       " WindowsPath('c:/Users/calvin/Documents/GitHub/pathlib-os-boston-meetup'),\n",
       " WindowsPath('C:/Users/calvin'),\n",
       " WindowsPath('C:/Users/calvin'),\n",
       " os.stat_result(st_mode=33206, st_ino=11540474045207525, st_dev=2093496561, st_nlink=1, st_uid=0, st_gid=0, st_size=19, st_atime=1683825588, st_mtime=1683824985, st_ctime=1683742556),\n",
       " False,\n",
       " True,\n",
       " WindowsPath('c:/Users/calvin/Documents/Github/pathlib-os-boston-meetup/requirements.txt'),\n",
       " WindowsPath('C:/Users/calvin/Documents/GitHub/pathlib-os-boston-meetup/requirements.txt'))"
      ]
     },
     "execution_count": 20,
     "metadata": {},
     "output_type": "execute_result"
    }
   ],
   "source": [
    "# Concrete Path Only - These interact with the file system\n",
    "(\n",
    "    str(path),\n",
    "    path.cwd(),# using instance of Path\n",
    "    Path.cwd(), # using Path class\n",
    "    path.home(), # using instance of Path\n",
    "    Path.home(), # using Path class\n",
    "    path.stat(),\n",
    "    path.is_dir(),\n",
    "    path.is_file(),\n",
    "    path.absolute(),\n",
    "    path.resolve(),\n",
    "    \n",
    ")"
   ]
  },
  {
   "attachments": {},
   "cell_type": "markdown",
   "metadata": {},
   "source": [
    "### Joining Paths\n",
    "You can use .joinpath() or the \"/\" operator 😮"
   ]
  },
  {
   "cell_type": "code",
   "execution_count": 21,
   "metadata": {},
   "outputs": [
    {
     "data": {
      "text/plain": [
       "WindowsPath('c:/Users/cforbes')"
      ]
     },
     "execution_count": 21,
     "metadata": {},
     "output_type": "execute_result"
    }
   ],
   "source": [
    "Path(\"c:/Users\") / Path(\"cforbes\")"
   ]
  },
  {
   "cell_type": "code",
   "execution_count": 22,
   "metadata": {},
   "outputs": [
    {
     "data": {
      "text/plain": [
       "WindowsPath('c:/Users/cforbes')"
      ]
     },
     "execution_count": 22,
     "metadata": {},
     "output_type": "execute_result"
    }
   ],
   "source": [
    "Path(\"c:/Users\").joinpath(Path(\"cforbes\"))"
   ]
  },
  {
   "cell_type": "code",
   "execution_count": 23,
   "metadata": {},
   "outputs": [
    {
     "data": {
      "text/plain": [
       "WindowsPath('c:/Users/cforbes/Documents')"
      ]
     },
     "execution_count": 23,
     "metadata": {},
     "output_type": "execute_result"
    }
   ],
   "source": [
    "# mix and match strings and Path objects\n",
    "Path(\"c:/Users\") / \"cforbes\" / Path(\"Documents\")"
   ]
  },
  {
   "attachments": {},
   "cell_type": "markdown",
   "metadata": {},
   "source": [
    "### Change Files"
   ]
  },
  {
   "attachments": {},
   "cell_type": "markdown",
   "metadata": {},
   "source": [
    "Create, change, and remove file"
   ]
  },
  {
   "cell_type": "code",
   "execution_count": 24,
   "metadata": {},
   "outputs": [],
   "source": [
    "new_file = Path(\"change_this.txt\")"
   ]
  },
  {
   "cell_type": "code",
   "execution_count": 25,
   "metadata": {},
   "outputs": [
    {
     "data": {
      "text/plain": [
       "False"
      ]
     },
     "execution_count": 25,
     "metadata": {},
     "output_type": "execute_result"
    }
   ],
   "source": [
    "new_file.exists()"
   ]
  },
  {
   "cell_type": "code",
   "execution_count": 26,
   "metadata": {},
   "outputs": [],
   "source": [
    "# Create Empty File\n",
    "new_file.touch()"
   ]
  },
  {
   "cell_type": "code",
   "execution_count": 27,
   "metadata": {},
   "outputs": [
    {
     "data": {
      "text/plain": [
       "True"
      ]
     },
     "execution_count": 27,
     "metadata": {},
     "output_type": "execute_result"
    }
   ],
   "source": [
    "new_file.exists()"
   ]
  },
  {
   "cell_type": "code",
   "execution_count": 28,
   "metadata": {},
   "outputs": [],
   "source": [
    "# chmod\n",
    "import stat\n",
    "new_file.chmod(stat.S_IWRITE) # there is no chown in pathlib - use os.chown()"
   ]
  },
  {
   "cell_type": "code",
   "execution_count": 29,
   "metadata": {},
   "outputs": [
    {
     "data": {
      "text/plain": [
       "(False, True)"
      ]
     },
     "execution_count": 29,
     "metadata": {},
     "output_type": "execute_result"
    }
   ],
   "source": [
    "# Rename\n",
    "new_file_renamed = new_file.rename(\"change_this_1.txt\") # new_file gets removed \n",
    "new_file.exists(), new_file_renamed.exists()"
   ]
  },
  {
   "cell_type": "code",
   "execution_count": 30,
   "metadata": {},
   "outputs": [
    {
     "data": {
      "text/plain": [
       "False"
      ]
     },
     "execution_count": 30,
     "metadata": {},
     "output_type": "execute_result"
    }
   ],
   "source": [
    "# Delete File\n",
    "new_file_renamed.unlink()\n",
    "new_file_renamed.exists()"
   ]
  },
  {
   "attachments": {},
   "cell_type": "markdown",
   "metadata": {},
   "source": [
    "Create and remove directory"
   ]
  },
  {
   "cell_type": "code",
   "execution_count": 31,
   "metadata": {},
   "outputs": [
    {
     "data": {
      "text/plain": [
       "(False, False)"
      ]
     },
     "execution_count": 31,
     "metadata": {},
     "output_type": "execute_result"
    }
   ],
   "source": [
    "new_dir = Path(\"change_me\")\n",
    "new_dir.exists(), new_dir.is_dir()"
   ]
  },
  {
   "cell_type": "code",
   "execution_count": 32,
   "metadata": {},
   "outputs": [
    {
     "data": {
      "text/plain": [
       "(True, True)"
      ]
     },
     "execution_count": 32,
     "metadata": {},
     "output_type": "execute_result"
    }
   ],
   "source": [
    "# Make Directory\n",
    "new_dir.mkdir()\n",
    "new_dir.exists(), new_dir.is_dir()"
   ]
  },
  {
   "cell_type": "code",
   "execution_count": 33,
   "metadata": {},
   "outputs": [
    {
     "data": {
      "text/plain": [
       "(False, False)"
      ]
     },
     "execution_count": 33,
     "metadata": {},
     "output_type": "execute_result"
    }
   ],
   "source": [
    "# Remove Directory\n",
    "new_dir.rmdir()\n",
    "new_dir.exists(), new_dir.is_dir()"
   ]
  },
  {
   "attachments": {},
   "cell_type": "markdown",
   "metadata": {},
   "source": [
    "### Iterate through Files"
   ]
  },
  {
   "cell_type": "code",
   "execution_count": 34,
   "metadata": {},
   "outputs": [
    {
     "data": {
      "text/plain": [
       "WindowsPath('c:/Users/calvin/Documents/GitHub/pathlib-os-boston-meetup')"
      ]
     },
     "execution_count": 34,
     "metadata": {},
     "output_type": "execute_result"
    }
   ],
   "source": [
    "path = Path.cwd()\n",
    "path"
   ]
  },
  {
   "cell_type": "code",
   "execution_count": 35,
   "metadata": {},
   "outputs": [
    {
     "data": {
      "text/plain": [
       "<generator object Path.iterdir at 0x0000027F8454EA40>"
      ]
     },
     "execution_count": 35,
     "metadata": {},
     "output_type": "execute_result"
    }
   ],
   "source": [
    "iter_path = path.iterdir()\n",
    "iter_path"
   ]
  },
  {
   "attachments": {},
   "cell_type": "markdown",
   "metadata": {},
   "source": [
    "If you delete or create a file after instantiating iterdir, \"whether a path object for that file be included is unspecified\"."
   ]
  },
  {
   "cell_type": "code",
   "execution_count": 36,
   "metadata": {},
   "outputs": [
    {
     "data": {
      "text/plain": [
       "[WindowsPath('c:/Users/calvin/Documents/GitHub/pathlib-os-boston-meetup/.git'),\n",
       " WindowsPath('c:/Users/calvin/Documents/GitHub/pathlib-os-boston-meetup/.gitignore'),\n",
       " WindowsPath('c:/Users/calvin/Documents/GitHub/pathlib-os-boston-meetup/.venv'),\n",
       " WindowsPath('c:/Users/calvin/Documents/GitHub/pathlib-os-boston-meetup/exercises'),\n",
       " WindowsPath('c:/Users/calvin/Documents/GitHub/pathlib-os-boston-meetup/file_list.txt'),\n",
       " WindowsPath('c:/Users/calvin/Documents/GitHub/pathlib-os-boston-meetup/gen_file_paths.py'),\n",
       " WindowsPath('c:/Users/calvin/Documents/GitHub/pathlib-os-boston-meetup/notes.txt'),\n",
       " WindowsPath('c:/Users/calvin/Documents/GitHub/pathlib-os-boston-meetup/pathlib_presentation.ipynb'),\n",
       " WindowsPath('c:/Users/calvin/Documents/GitHub/pathlib-os-boston-meetup/README.md'),\n",
       " WindowsPath('c:/Users/calvin/Documents/GitHub/pathlib-os-boston-meetup/requirements.txt'),\n",
       " WindowsPath('c:/Users/calvin/Documents/GitHub/pathlib-os-boston-meetup/sample.json'),\n",
       " WindowsPath('c:/Users/calvin/Documents/GitHub/pathlib-os-boston-meetup/sample.pickle'),\n",
       " WindowsPath('c:/Users/calvin/Documents/GitHub/pathlib-os-boston-meetup/sandbox.ipynb'),\n",
       " WindowsPath('c:/Users/calvin/Documents/GitHub/pathlib-os-boston-meetup/speedtest.py'),\n",
       " WindowsPath('c:/Users/calvin/Documents/GitHub/pathlib-os-boston-meetup/wordlist.txt')]"
      ]
     },
     "execution_count": 36,
     "metadata": {},
     "output_type": "execute_result"
    }
   ],
   "source": [
    "list(iter_path)"
   ]
  },
  {
   "attachments": {},
   "cell_type": "markdown",
   "metadata": {},
   "source": [
    ".glob and  .rglob - https://en.wikipedia.org/wiki/Glob_(programming)\n"
   ]
  },
  {
   "cell_type": "code",
   "execution_count": 37,
   "metadata": {},
   "outputs": [
    {
     "data": {
      "text/plain": [
       "[WindowsPath('c:/Users/calvin/Documents/GitHub/pathlib-os-boston-meetup/gen_file_paths.py'),\n",
       " WindowsPath('c:/Users/calvin/Documents/GitHub/pathlib-os-boston-meetup/speedtest.py')]"
      ]
     },
     "execution_count": 37,
     "metadata": {},
     "output_type": "execute_result"
    }
   ],
   "source": [
    "list(\n",
    "    Path.cwd().glob(\"*.py\")\n",
    ")"
   ]
  },
  {
   "cell_type": "code",
   "execution_count": 38,
   "metadata": {},
   "outputs": [
    {
     "data": {
      "text/plain": [
       "[WindowsPath('c:/Users/calvin/Documents/GitHub/pathlib-os-boston-meetup/gen_file_paths.py'),\n",
       " WindowsPath('c:/Users/calvin/Documents/GitHub/pathlib-os-boston-meetup/speedtest.py'),\n",
       " WindowsPath('c:/Users/calvin/Documents/GitHub/pathlib-os-boston-meetup/.venv/Lib/site-packages/decorator.py'),\n",
       " WindowsPath('c:/Users/calvin/Documents/GitHub/pathlib-os-boston-meetup/.venv/Lib/site-packages/ipykernel_launcher.py'),\n",
       " WindowsPath('c:/Users/calvin/Documents/GitHub/pathlib-os-boston-meetup/.venv/Lib/site-packages/jupyter.py'),\n",
       " WindowsPath('c:/Users/calvin/Documents/GitHub/pathlib-os-boston-meetup/.venv/Lib/site-packages/nest_asyncio.py'),\n",
       " WindowsPath('c:/Users/calvin/Documents/GitHub/pathlib-os-boston-meetup/.venv/Lib/site-packages/pickleshare.py'),\n",
       " WindowsPath('c:/Users/calvin/Documents/GitHub/pathlib-os-boston-meetup/.venv/Lib/site-packages/pythoncom.py'),\n",
       " WindowsPath('c:/Users/calvin/Documents/GitHub/pathlib-os-boston-meetup/.venv/Lib/site-packages/six.py'),\n",
       " WindowsPath('c:/Users/calvin/Documents/GitHub/pathlib-os-boston-meetup/.venv/Lib/site-packages/adodbapi/adodbapi.py'),\n",
       " WindowsPath('c:/Users/calvin/Documents/GitHub/pathlib-os-boston-meetup/.venv/Lib/site-packages/adodbapi/ado_consts.py'),\n",
       " WindowsPath('c:/Users/calvin/Documents/GitHub/pathlib-os-boston-meetup/.venv/Lib/site-packages/adodbapi/apibase.py'),\n",
       " WindowsPath('c:/Users/calvin/Documents/GitHub/pathlib-os-boston-meetup/.venv/Lib/site-packages/adodbapi/is64bit.py'),\n",
       " WindowsPath('c:/Users/calvin/Documents/GitHub/pathlib-os-boston-meetup/.venv/Lib/site-packages/adodbapi/process_connect_string.py'),\n",
       " WindowsPath('c:/Users/calvin/Documents/GitHub/pathlib-os-boston-meetup/.venv/Lib/site-packages/adodbapi/remote.py'),\n",
       " WindowsPath('c:/Users/calvin/Documents/GitHub/pathlib-os-boston-meetup/.venv/Lib/site-packages/adodbapi/schema_table.py'),\n",
       " WindowsPath('c:/Users/calvin/Documents/GitHub/pathlib-os-boston-meetup/.venv/Lib/site-packages/adodbapi/setup.py'),\n",
       " WindowsPath('c:/Users/calvin/Documents/GitHub/pathlib-os-boston-meetup/.venv/Lib/site-packages/adodbapi/__init__.py'),\n",
       " WindowsPath('c:/Users/calvin/Documents/GitHub/pathlib-os-boston-meetup/.venv/Lib/site-packages/adodbapi/examples/db_print.py'),\n",
       " WindowsPath('c:/Users/calvin/Documents/GitHub/pathlib-os-boston-meetup/.venv/Lib/site-packages/adodbapi/examples/db_table_names.py'),\n",
       " WindowsPath('c:/Users/calvin/Documents/GitHub/pathlib-os-boston-meetup/.venv/Lib/site-packages/adodbapi/examples/xls_read.py'),\n",
       " WindowsPath('c:/Users/calvin/Documents/GitHub/pathlib-os-boston-meetup/.venv/Lib/site-packages/adodbapi/examples/xls_write.py'),\n",
       " WindowsPath('c:/Users/calvin/Documents/GitHub/pathlib-os-boston-meetup/.venv/Lib/site-packages/adodbapi/test/adodbapitest.py'),\n",
       " WindowsPath('c:/Users/calvin/Documents/GitHub/pathlib-os-boston-meetup/.venv/Lib/site-packages/adodbapi/test/adodbapitestconfig.py'),\n",
       " WindowsPath('c:/Users/calvin/Documents/GitHub/pathlib-os-boston-meetup/.venv/Lib/site-packages/adodbapi/test/dbapi20.py'),\n",
       " WindowsPath('c:/Users/calvin/Documents/GitHub/pathlib-os-boston-meetup/.venv/Lib/site-packages/adodbapi/test/is64bit.py'),\n",
       " WindowsPath('c:/Users/calvin/Documents/GitHub/pathlib-os-boston-meetup/.venv/Lib/site-packages/adodbapi/test/setuptestframework.py'),\n",
       " WindowsPath('c:/Users/calvin/Documents/GitHub/pathlib-os-boston-meetup/.venv/Lib/site-packages/adodbapi/test/test_adodbapi_dbapi20.py'),\n",
       " WindowsPath('c:/Users/calvin/Documents/GitHub/pathlib-os-boston-meetup/.venv/Lib/site-packages/adodbapi/test/tryconnection.py'),\n",
       " WindowsPath('c:/Users/calvin/Documents/GitHub/pathlib-os-boston-meetup/.venv/Lib/site-packages/asttokens/astroid_compat.py'),\n",
       " WindowsPath('c:/Users/calvin/Documents/GitHub/pathlib-os-boston-meetup/.venv/Lib/site-packages/asttokens/asttokens.py'),\n",
       " WindowsPath('c:/Users/calvin/Documents/GitHub/pathlib-os-boston-meetup/.venv/Lib/site-packages/asttokens/line_numbers.py'),\n",
       " WindowsPath('c:/Users/calvin/Documents/GitHub/pathlib-os-boston-meetup/.venv/Lib/site-packages/asttokens/mark_tokens.py'),\n",
       " WindowsPath('c:/Users/calvin/Documents/GitHub/pathlib-os-boston-meetup/.venv/Lib/site-packages/asttokens/util.py'),\n",
       " WindowsPath('c:/Users/calvin/Documents/GitHub/pathlib-os-boston-meetup/.venv/Lib/site-packages/asttokens/version.py'),\n",
       " WindowsPath('c:/Users/calvin/Documents/GitHub/pathlib-os-boston-meetup/.venv/Lib/site-packages/asttokens/__init__.py'),\n",
       " WindowsPath('c:/Users/calvin/Documents/GitHub/pathlib-os-boston-meetup/.venv/Lib/site-packages/backcall/backcall.py'),\n",
       " WindowsPath('c:/Users/calvin/Documents/GitHub/pathlib-os-boston-meetup/.venv/Lib/site-packages/backcall/_signatures.py'),\n",
       " WindowsPath('c:/Users/calvin/Documents/GitHub/pathlib-os-boston-meetup/.venv/Lib/site-packages/backcall/__init__.py'),\n",
       " WindowsPath('c:/Users/calvin/Documents/GitHub/pathlib-os-boston-meetup/.venv/Lib/site-packages/certifi/core.py'),\n",
       " WindowsPath('c:/Users/calvin/Documents/GitHub/pathlib-os-boston-meetup/.venv/Lib/site-packages/certifi/__init__.py'),\n",
       " WindowsPath('c:/Users/calvin/Documents/GitHub/pathlib-os-boston-meetup/.venv/Lib/site-packages/certifi/__main__.py'),\n",
       " WindowsPath('c:/Users/calvin/Documents/GitHub/pathlib-os-boston-meetup/.venv/Lib/site-packages/charset_normalizer/api.py'),\n",
       " WindowsPath('c:/Users/calvin/Documents/GitHub/pathlib-os-boston-meetup/.venv/Lib/site-packages/charset_normalizer/cd.py'),\n",
       " WindowsPath('c:/Users/calvin/Documents/GitHub/pathlib-os-boston-meetup/.venv/Lib/site-packages/charset_normalizer/constant.py'),\n",
       " WindowsPath('c:/Users/calvin/Documents/GitHub/pathlib-os-boston-meetup/.venv/Lib/site-packages/charset_normalizer/legacy.py'),\n",
       " WindowsPath('c:/Users/calvin/Documents/GitHub/pathlib-os-boston-meetup/.venv/Lib/site-packages/charset_normalizer/md.py'),\n",
       " WindowsPath('c:/Users/calvin/Documents/GitHub/pathlib-os-boston-meetup/.venv/Lib/site-packages/charset_normalizer/models.py'),\n",
       " WindowsPath('c:/Users/calvin/Documents/GitHub/pathlib-os-boston-meetup/.venv/Lib/site-packages/charset_normalizer/utils.py'),\n",
       " WindowsPath('c:/Users/calvin/Documents/GitHub/pathlib-os-boston-meetup/.venv/Lib/site-packages/charset_normalizer/version.py'),\n",
       " WindowsPath('c:/Users/calvin/Documents/GitHub/pathlib-os-boston-meetup/.venv/Lib/site-packages/charset_normalizer/__init__.py'),\n",
       " WindowsPath('c:/Users/calvin/Documents/GitHub/pathlib-os-boston-meetup/.venv/Lib/site-packages/charset_normalizer/assets/__init__.py'),\n",
       " WindowsPath('c:/Users/calvin/Documents/GitHub/pathlib-os-boston-meetup/.venv/Lib/site-packages/charset_normalizer/cli/normalizer.py'),\n",
       " WindowsPath('c:/Users/calvin/Documents/GitHub/pathlib-os-boston-meetup/.venv/Lib/site-packages/charset_normalizer/cli/__init__.py'),\n",
       " WindowsPath('c:/Users/calvin/Documents/GitHub/pathlib-os-boston-meetup/.venv/Lib/site-packages/colorama/ansi.py'),\n",
       " WindowsPath('c:/Users/calvin/Documents/GitHub/pathlib-os-boston-meetup/.venv/Lib/site-packages/colorama/ansitowin32.py'),\n",
       " WindowsPath('c:/Users/calvin/Documents/GitHub/pathlib-os-boston-meetup/.venv/Lib/site-packages/colorama/initialise.py'),\n",
       " WindowsPath('c:/Users/calvin/Documents/GitHub/pathlib-os-boston-meetup/.venv/Lib/site-packages/colorama/win32.py'),\n",
       " WindowsPath('c:/Users/calvin/Documents/GitHub/pathlib-os-boston-meetup/.venv/Lib/site-packages/colorama/winterm.py'),\n",
       " WindowsPath('c:/Users/calvin/Documents/GitHub/pathlib-os-boston-meetup/.venv/Lib/site-packages/colorama/__init__.py'),\n",
       " WindowsPath('c:/Users/calvin/Documents/GitHub/pathlib-os-boston-meetup/.venv/Lib/site-packages/colorama/tests/ansitowin32_test.py'),\n",
       " WindowsPath('c:/Users/calvin/Documents/GitHub/pathlib-os-boston-meetup/.venv/Lib/site-packages/colorama/tests/ansi_test.py'),\n",
       " WindowsPath('c:/Users/calvin/Documents/GitHub/pathlib-os-boston-meetup/.venv/Lib/site-packages/colorama/tests/initialise_test.py'),\n",
       " WindowsPath('c:/Users/calvin/Documents/GitHub/pathlib-os-boston-meetup/.venv/Lib/site-packages/colorama/tests/isatty_test.py'),\n",
       " WindowsPath('c:/Users/calvin/Documents/GitHub/pathlib-os-boston-meetup/.venv/Lib/site-packages/colorama/tests/utils.py'),\n",
       " WindowsPath('c:/Users/calvin/Documents/GitHub/pathlib-os-boston-meetup/.venv/Lib/site-packages/colorama/tests/winterm_test.py'),\n",
       " WindowsPath('c:/Users/calvin/Documents/GitHub/pathlib-os-boston-meetup/.venv/Lib/site-packages/colorama/tests/__init__.py'),\n",
       " WindowsPath('c:/Users/calvin/Documents/GitHub/pathlib-os-boston-meetup/.venv/Lib/site-packages/comm/base_comm.py'),\n",
       " WindowsPath('c:/Users/calvin/Documents/GitHub/pathlib-os-boston-meetup/.venv/Lib/site-packages/comm/__init__.py'),\n",
       " WindowsPath('c:/Users/calvin/Documents/GitHub/pathlib-os-boston-meetup/.venv/Lib/site-packages/dateutil/easter.py'),\n",
       " WindowsPath('c:/Users/calvin/Documents/GitHub/pathlib-os-boston-meetup/.venv/Lib/site-packages/dateutil/relativedelta.py'),\n",
       " WindowsPath('c:/Users/calvin/Documents/GitHub/pathlib-os-boston-meetup/.venv/Lib/site-packages/dateutil/rrule.py'),\n",
       " WindowsPath('c:/Users/calvin/Documents/GitHub/pathlib-os-boston-meetup/.venv/Lib/site-packages/dateutil/tzwin.py'),\n",
       " WindowsPath('c:/Users/calvin/Documents/GitHub/pathlib-os-boston-meetup/.venv/Lib/site-packages/dateutil/utils.py'),\n",
       " WindowsPath('c:/Users/calvin/Documents/GitHub/pathlib-os-boston-meetup/.venv/Lib/site-packages/dateutil/_common.py'),\n",
       " WindowsPath('c:/Users/calvin/Documents/GitHub/pathlib-os-boston-meetup/.venv/Lib/site-packages/dateutil/_version.py'),\n",
       " WindowsPath('c:/Users/calvin/Documents/GitHub/pathlib-os-boston-meetup/.venv/Lib/site-packages/dateutil/__init__.py'),\n",
       " WindowsPath('c:/Users/calvin/Documents/GitHub/pathlib-os-boston-meetup/.venv/Lib/site-packages/dateutil/parser/isoparser.py'),\n",
       " WindowsPath('c:/Users/calvin/Documents/GitHub/pathlib-os-boston-meetup/.venv/Lib/site-packages/dateutil/parser/_parser.py'),\n",
       " WindowsPath('c:/Users/calvin/Documents/GitHub/pathlib-os-boston-meetup/.venv/Lib/site-packages/dateutil/parser/__init__.py'),\n",
       " WindowsPath('c:/Users/calvin/Documents/GitHub/pathlib-os-boston-meetup/.venv/Lib/site-packages/dateutil/tz/tz.py'),\n",
       " WindowsPath('c:/Users/calvin/Documents/GitHub/pathlib-os-boston-meetup/.venv/Lib/site-packages/dateutil/tz/win.py'),\n",
       " WindowsPath('c:/Users/calvin/Documents/GitHub/pathlib-os-boston-meetup/.venv/Lib/site-packages/dateutil/tz/_common.py'),\n",
       " WindowsPath('c:/Users/calvin/Documents/GitHub/pathlib-os-boston-meetup/.venv/Lib/site-packages/dateutil/tz/_factories.py'),\n",
       " WindowsPath('c:/Users/calvin/Documents/GitHub/pathlib-os-boston-meetup/.venv/Lib/site-packages/dateutil/tz/__init__.py'),\n",
       " WindowsPath('c:/Users/calvin/Documents/GitHub/pathlib-os-boston-meetup/.venv/Lib/site-packages/dateutil/zoneinfo/rebuild.py'),\n",
       " WindowsPath('c:/Users/calvin/Documents/GitHub/pathlib-os-boston-meetup/.venv/Lib/site-packages/dateutil/zoneinfo/__init__.py'),\n",
       " WindowsPath('c:/Users/calvin/Documents/GitHub/pathlib-os-boston-meetup/.venv/Lib/site-packages/debugpy/public_api.py'),\n",
       " WindowsPath('c:/Users/calvin/Documents/GitHub/pathlib-os-boston-meetup/.venv/Lib/site-packages/debugpy/_version.py'),\n",
       " WindowsPath('c:/Users/calvin/Documents/GitHub/pathlib-os-boston-meetup/.venv/Lib/site-packages/debugpy/__init__.py'),\n",
       " WindowsPath('c:/Users/calvin/Documents/GitHub/pathlib-os-boston-meetup/.venv/Lib/site-packages/debugpy/__main__.py'),\n",
       " WindowsPath('c:/Users/calvin/Documents/GitHub/pathlib-os-boston-meetup/.venv/Lib/site-packages/debugpy/adapter/clients.py'),\n",
       " WindowsPath('c:/Users/calvin/Documents/GitHub/pathlib-os-boston-meetup/.venv/Lib/site-packages/debugpy/adapter/components.py'),\n",
       " WindowsPath('c:/Users/calvin/Documents/GitHub/pathlib-os-boston-meetup/.venv/Lib/site-packages/debugpy/adapter/launchers.py'),\n",
       " WindowsPath('c:/Users/calvin/Documents/GitHub/pathlib-os-boston-meetup/.venv/Lib/site-packages/debugpy/adapter/servers.py'),\n",
       " WindowsPath('c:/Users/calvin/Documents/GitHub/pathlib-os-boston-meetup/.venv/Lib/site-packages/debugpy/adapter/sessions.py'),\n",
       " WindowsPath('c:/Users/calvin/Documents/GitHub/pathlib-os-boston-meetup/.venv/Lib/site-packages/debugpy/adapter/__init__.py'),\n",
       " WindowsPath('c:/Users/calvin/Documents/GitHub/pathlib-os-boston-meetup/.venv/Lib/site-packages/debugpy/adapter/__main__.py'),\n",
       " WindowsPath('c:/Users/calvin/Documents/GitHub/pathlib-os-boston-meetup/.venv/Lib/site-packages/debugpy/common/json.py'),\n",
       " WindowsPath('c:/Users/calvin/Documents/GitHub/pathlib-os-boston-meetup/.venv/Lib/site-packages/debugpy/common/log.py'),\n",
       " WindowsPath('c:/Users/calvin/Documents/GitHub/pathlib-os-boston-meetup/.venv/Lib/site-packages/debugpy/common/messaging.py'),\n",
       " WindowsPath('c:/Users/calvin/Documents/GitHub/pathlib-os-boston-meetup/.venv/Lib/site-packages/debugpy/common/singleton.py'),\n",
       " WindowsPath('c:/Users/calvin/Documents/GitHub/pathlib-os-boston-meetup/.venv/Lib/site-packages/debugpy/common/sockets.py'),\n",
       " WindowsPath('c:/Users/calvin/Documents/GitHub/pathlib-os-boston-meetup/.venv/Lib/site-packages/debugpy/common/stacks.py'),\n",
       " WindowsPath('c:/Users/calvin/Documents/GitHub/pathlib-os-boston-meetup/.venv/Lib/site-packages/debugpy/common/timestamp.py'),\n",
       " WindowsPath('c:/Users/calvin/Documents/GitHub/pathlib-os-boston-meetup/.venv/Lib/site-packages/debugpy/common/util.py'),\n",
       " WindowsPath('c:/Users/calvin/Documents/GitHub/pathlib-os-boston-meetup/.venv/Lib/site-packages/debugpy/common/__init__.py'),\n",
       " WindowsPath('c:/Users/calvin/Documents/GitHub/pathlib-os-boston-meetup/.venv/Lib/site-packages/debugpy/launcher/debuggee.py'),\n",
       " WindowsPath('c:/Users/calvin/Documents/GitHub/pathlib-os-boston-meetup/.venv/Lib/site-packages/debugpy/launcher/handlers.py'),\n",
       " WindowsPath('c:/Users/calvin/Documents/GitHub/pathlib-os-boston-meetup/.venv/Lib/site-packages/debugpy/launcher/output.py'),\n",
       " WindowsPath('c:/Users/calvin/Documents/GitHub/pathlib-os-boston-meetup/.venv/Lib/site-packages/debugpy/launcher/winapi.py'),\n",
       " WindowsPath('c:/Users/calvin/Documents/GitHub/pathlib-os-boston-meetup/.venv/Lib/site-packages/debugpy/launcher/__init__.py'),\n",
       " WindowsPath('c:/Users/calvin/Documents/GitHub/pathlib-os-boston-meetup/.venv/Lib/site-packages/debugpy/launcher/__main__.py'),\n",
       " WindowsPath('c:/Users/calvin/Documents/GitHub/pathlib-os-boston-meetup/.venv/Lib/site-packages/debugpy/server/api.py'),\n",
       " WindowsPath('c:/Users/calvin/Documents/GitHub/pathlib-os-boston-meetup/.venv/Lib/site-packages/debugpy/server/attach_pid_injected.py'),\n",
       " WindowsPath('c:/Users/calvin/Documents/GitHub/pathlib-os-boston-meetup/.venv/Lib/site-packages/debugpy/server/cli.py'),\n",
       " WindowsPath('c:/Users/calvin/Documents/GitHub/pathlib-os-boston-meetup/.venv/Lib/site-packages/debugpy/server/__init__.py'),\n",
       " WindowsPath('c:/Users/calvin/Documents/GitHub/pathlib-os-boston-meetup/.venv/Lib/site-packages/debugpy/_vendored/force_pydevd.py'),\n",
       " WindowsPath('c:/Users/calvin/Documents/GitHub/pathlib-os-boston-meetup/.venv/Lib/site-packages/debugpy/_vendored/_pydevd_packaging.py'),\n",
       " WindowsPath('c:/Users/calvin/Documents/GitHub/pathlib-os-boston-meetup/.venv/Lib/site-packages/debugpy/_vendored/_util.py'),\n",
       " WindowsPath('c:/Users/calvin/Documents/GitHub/pathlib-os-boston-meetup/.venv/Lib/site-packages/debugpy/_vendored/__init__.py'),\n",
       " WindowsPath('c:/Users/calvin/Documents/GitHub/pathlib-os-boston-meetup/.venv/Lib/site-packages/debugpy/_vendored/pydevd/pydevconsole.py'),\n",
       " WindowsPath('c:/Users/calvin/Documents/GitHub/pathlib-os-boston-meetup/.venv/Lib/site-packages/debugpy/_vendored/pydevd/pydevd.py'),\n",
       " WindowsPath('c:/Users/calvin/Documents/GitHub/pathlib-os-boston-meetup/.venv/Lib/site-packages/debugpy/_vendored/pydevd/pydevd_file_utils.py'),\n",
       " WindowsPath('c:/Users/calvin/Documents/GitHub/pathlib-os-boston-meetup/.venv/Lib/site-packages/debugpy/_vendored/pydevd/pydevd_tracing.py'),\n",
       " WindowsPath('c:/Users/calvin/Documents/GitHub/pathlib-os-boston-meetup/.venv/Lib/site-packages/debugpy/_vendored/pydevd/pydev_app_engine_debug_startup.py'),\n",
       " WindowsPath('c:/Users/calvin/Documents/GitHub/pathlib-os-boston-meetup/.venv/Lib/site-packages/debugpy/_vendored/pydevd/pydev_coverage.py'),\n",
       " WindowsPath('c:/Users/calvin/Documents/GitHub/pathlib-os-boston-meetup/.venv/Lib/site-packages/debugpy/_vendored/pydevd/pydev_pysrc.py'),\n",
       " WindowsPath('c:/Users/calvin/Documents/GitHub/pathlib-os-boston-meetup/.venv/Lib/site-packages/debugpy/_vendored/pydevd/pydev_run_in_console.py'),\n",
       " WindowsPath('c:/Users/calvin/Documents/GitHub/pathlib-os-boston-meetup/.venv/Lib/site-packages/debugpy/_vendored/pydevd/setup_pydevd_cython.py'),\n",
       " WindowsPath('c:/Users/calvin/Documents/GitHub/pathlib-os-boston-meetup/.venv/Lib/site-packages/debugpy/_vendored/pydevd/pydevd_attach_to_process/add_code_to_python_process.py'),\n",
       " WindowsPath('c:/Users/calvin/Documents/GitHub/pathlib-os-boston-meetup/.venv/Lib/site-packages/debugpy/_vendored/pydevd/pydevd_attach_to_process/attach_pydevd.py'),\n",
       " WindowsPath('c:/Users/calvin/Documents/GitHub/pathlib-os-boston-meetup/.venv/Lib/site-packages/debugpy/_vendored/pydevd/pydevd_attach_to_process/attach_script.py'),\n",
       " WindowsPath('c:/Users/calvin/Documents/GitHub/pathlib-os-boston-meetup/.venv/Lib/site-packages/debugpy/_vendored/pydevd/pydevd_attach_to_process/_always_live_program.py'),\n",
       " WindowsPath('c:/Users/calvin/Documents/GitHub/pathlib-os-boston-meetup/.venv/Lib/site-packages/debugpy/_vendored/pydevd/pydevd_attach_to_process/_check.py'),\n",
       " WindowsPath('c:/Users/calvin/Documents/GitHub/pathlib-os-boston-meetup/.venv/Lib/site-packages/debugpy/_vendored/pydevd/pydevd_attach_to_process/_test_attach_to_process.py'),\n",
       " WindowsPath('c:/Users/calvin/Documents/GitHub/pathlib-os-boston-meetup/.venv/Lib/site-packages/debugpy/_vendored/pydevd/pydevd_attach_to_process/_test_attach_to_process_linux.py'),\n",
       " WindowsPath('c:/Users/calvin/Documents/GitHub/pathlib-os-boston-meetup/.venv/Lib/site-packages/debugpy/_vendored/pydevd/pydevd_attach_to_process/linux_and_mac/lldb_prepare.py'),\n",
       " WindowsPath('c:/Users/calvin/Documents/GitHub/pathlib-os-boston-meetup/.venv/Lib/site-packages/debugpy/_vendored/pydevd/pydevd_attach_to_process/winappdbg/breakpoint.py'),\n",
       " WindowsPath('c:/Users/calvin/Documents/GitHub/pathlib-os-boston-meetup/.venv/Lib/site-packages/debugpy/_vendored/pydevd/pydevd_attach_to_process/winappdbg/compat.py'),\n",
       " WindowsPath('c:/Users/calvin/Documents/GitHub/pathlib-os-boston-meetup/.venv/Lib/site-packages/debugpy/_vendored/pydevd/pydevd_attach_to_process/winappdbg/crash.py'),\n",
       " WindowsPath('c:/Users/calvin/Documents/GitHub/pathlib-os-boston-meetup/.venv/Lib/site-packages/debugpy/_vendored/pydevd/pydevd_attach_to_process/winappdbg/debug.py'),\n",
       " WindowsPath('c:/Users/calvin/Documents/GitHub/pathlib-os-boston-meetup/.venv/Lib/site-packages/debugpy/_vendored/pydevd/pydevd_attach_to_process/winappdbg/disasm.py'),\n",
       " WindowsPath('c:/Users/calvin/Documents/GitHub/pathlib-os-boston-meetup/.venv/Lib/site-packages/debugpy/_vendored/pydevd/pydevd_attach_to_process/winappdbg/event.py'),\n",
       " WindowsPath('c:/Users/calvin/Documents/GitHub/pathlib-os-boston-meetup/.venv/Lib/site-packages/debugpy/_vendored/pydevd/pydevd_attach_to_process/winappdbg/interactive.py'),\n",
       " WindowsPath('c:/Users/calvin/Documents/GitHub/pathlib-os-boston-meetup/.venv/Lib/site-packages/debugpy/_vendored/pydevd/pydevd_attach_to_process/winappdbg/module.py'),\n",
       " WindowsPath('c:/Users/calvin/Documents/GitHub/pathlib-os-boston-meetup/.venv/Lib/site-packages/debugpy/_vendored/pydevd/pydevd_attach_to_process/winappdbg/process.py'),\n",
       " WindowsPath('c:/Users/calvin/Documents/GitHub/pathlib-os-boston-meetup/.venv/Lib/site-packages/debugpy/_vendored/pydevd/pydevd_attach_to_process/winappdbg/registry.py'),\n",
       " WindowsPath('c:/Users/calvin/Documents/GitHub/pathlib-os-boston-meetup/.venv/Lib/site-packages/debugpy/_vendored/pydevd/pydevd_attach_to_process/winappdbg/search.py'),\n",
       " WindowsPath('c:/Users/calvin/Documents/GitHub/pathlib-os-boston-meetup/.venv/Lib/site-packages/debugpy/_vendored/pydevd/pydevd_attach_to_process/winappdbg/sql.py'),\n",
       " WindowsPath('c:/Users/calvin/Documents/GitHub/pathlib-os-boston-meetup/.venv/Lib/site-packages/debugpy/_vendored/pydevd/pydevd_attach_to_process/winappdbg/system.py'),\n",
       " WindowsPath('c:/Users/calvin/Documents/GitHub/pathlib-os-boston-meetup/.venv/Lib/site-packages/debugpy/_vendored/pydevd/pydevd_attach_to_process/winappdbg/textio.py'),\n",
       " WindowsPath('c:/Users/calvin/Documents/GitHub/pathlib-os-boston-meetup/.venv/Lib/site-packages/debugpy/_vendored/pydevd/pydevd_attach_to_process/winappdbg/thread.py'),\n",
       " WindowsPath('c:/Users/calvin/Documents/GitHub/pathlib-os-boston-meetup/.venv/Lib/site-packages/debugpy/_vendored/pydevd/pydevd_attach_to_process/winappdbg/util.py'),\n",
       " WindowsPath('c:/Users/calvin/Documents/GitHub/pathlib-os-boston-meetup/.venv/Lib/site-packages/debugpy/_vendored/pydevd/pydevd_attach_to_process/winappdbg/window.py'),\n",
       " WindowsPath('c:/Users/calvin/Documents/GitHub/pathlib-os-boston-meetup/.venv/Lib/site-packages/debugpy/_vendored/pydevd/pydevd_attach_to_process/winappdbg/__init__.py'),\n",
       " WindowsPath('c:/Users/calvin/Documents/GitHub/pathlib-os-boston-meetup/.venv/Lib/site-packages/debugpy/_vendored/pydevd/pydevd_attach_to_process/winappdbg/win32/advapi32.py'),\n",
       " WindowsPath('c:/Users/calvin/Documents/GitHub/pathlib-os-boston-meetup/.venv/Lib/site-packages/debugpy/_vendored/pydevd/pydevd_attach_to_process/winappdbg/win32/context_amd64.py'),\n",
       " WindowsPath('c:/Users/calvin/Documents/GitHub/pathlib-os-boston-meetup/.venv/Lib/site-packages/debugpy/_vendored/pydevd/pydevd_attach_to_process/winappdbg/win32/context_i386.py'),\n",
       " WindowsPath('c:/Users/calvin/Documents/GitHub/pathlib-os-boston-meetup/.venv/Lib/site-packages/debugpy/_vendored/pydevd/pydevd_attach_to_process/winappdbg/win32/dbghelp.py'),\n",
       " WindowsPath('c:/Users/calvin/Documents/GitHub/pathlib-os-boston-meetup/.venv/Lib/site-packages/debugpy/_vendored/pydevd/pydevd_attach_to_process/winappdbg/win32/defines.py'),\n",
       " WindowsPath('c:/Users/calvin/Documents/GitHub/pathlib-os-boston-meetup/.venv/Lib/site-packages/debugpy/_vendored/pydevd/pydevd_attach_to_process/winappdbg/win32/gdi32.py'),\n",
       " WindowsPath('c:/Users/calvin/Documents/GitHub/pathlib-os-boston-meetup/.venv/Lib/site-packages/debugpy/_vendored/pydevd/pydevd_attach_to_process/winappdbg/win32/kernel32.py'),\n",
       " WindowsPath('c:/Users/calvin/Documents/GitHub/pathlib-os-boston-meetup/.venv/Lib/site-packages/debugpy/_vendored/pydevd/pydevd_attach_to_process/winappdbg/win32/ntdll.py'),\n",
       " WindowsPath('c:/Users/calvin/Documents/GitHub/pathlib-os-boston-meetup/.venv/Lib/site-packages/debugpy/_vendored/pydevd/pydevd_attach_to_process/winappdbg/win32/peb_teb.py'),\n",
       " WindowsPath('c:/Users/calvin/Documents/GitHub/pathlib-os-boston-meetup/.venv/Lib/site-packages/debugpy/_vendored/pydevd/pydevd_attach_to_process/winappdbg/win32/psapi.py'),\n",
       " WindowsPath('c:/Users/calvin/Documents/GitHub/pathlib-os-boston-meetup/.venv/Lib/site-packages/debugpy/_vendored/pydevd/pydevd_attach_to_process/winappdbg/win32/shell32.py'),\n",
       " WindowsPath('c:/Users/calvin/Documents/GitHub/pathlib-os-boston-meetup/.venv/Lib/site-packages/debugpy/_vendored/pydevd/pydevd_attach_to_process/winappdbg/win32/shlwapi.py'),\n",
       " WindowsPath('c:/Users/calvin/Documents/GitHub/pathlib-os-boston-meetup/.venv/Lib/site-packages/debugpy/_vendored/pydevd/pydevd_attach_to_process/winappdbg/win32/user32.py'),\n",
       " WindowsPath('c:/Users/calvin/Documents/GitHub/pathlib-os-boston-meetup/.venv/Lib/site-packages/debugpy/_vendored/pydevd/pydevd_attach_to_process/winappdbg/win32/version.py'),\n",
       " WindowsPath('c:/Users/calvin/Documents/GitHub/pathlib-os-boston-meetup/.venv/Lib/site-packages/debugpy/_vendored/pydevd/pydevd_attach_to_process/winappdbg/win32/wtsapi32.py'),\n",
       " WindowsPath('c:/Users/calvin/Documents/GitHub/pathlib-os-boston-meetup/.venv/Lib/site-packages/debugpy/_vendored/pydevd/pydevd_attach_to_process/winappdbg/win32/__init__.py'),\n",
       " WindowsPath('c:/Users/calvin/Documents/GitHub/pathlib-os-boston-meetup/.venv/Lib/site-packages/debugpy/_vendored/pydevd/pydevd_plugins/django_debug.py'),\n",
       " WindowsPath('c:/Users/calvin/Documents/GitHub/pathlib-os-boston-meetup/.venv/Lib/site-packages/debugpy/_vendored/pydevd/pydevd_plugins/jinja2_debug.py'),\n",
       " WindowsPath('c:/Users/calvin/Documents/GitHub/pathlib-os-boston-meetup/.venv/Lib/site-packages/debugpy/_vendored/pydevd/pydevd_plugins/pydevd_line_validation.py'),\n",
       " WindowsPath('c:/Users/calvin/Documents/GitHub/pathlib-os-boston-meetup/.venv/Lib/site-packages/debugpy/_vendored/pydevd/pydevd_plugins/__init__.py'),\n",
       " WindowsPath('c:/Users/calvin/Documents/GitHub/pathlib-os-boston-meetup/.venv/Lib/site-packages/debugpy/_vendored/pydevd/pydevd_plugins/extensions/__init__.py'),\n",
       " WindowsPath('c:/Users/calvin/Documents/GitHub/pathlib-os-boston-meetup/.venv/Lib/site-packages/debugpy/_vendored/pydevd/pydevd_plugins/extensions/types/pydevd_helpers.py'),\n",
       " WindowsPath('c:/Users/calvin/Documents/GitHub/pathlib-os-boston-meetup/.venv/Lib/site-packages/debugpy/_vendored/pydevd/pydevd_plugins/extensions/types/pydevd_plugins_django_form_str.py'),\n",
       " WindowsPath('c:/Users/calvin/Documents/GitHub/pathlib-os-boston-meetup/.venv/Lib/site-packages/debugpy/_vendored/pydevd/pydevd_plugins/extensions/types/pydevd_plugin_numpy_types.py'),\n",
       " WindowsPath('c:/Users/calvin/Documents/GitHub/pathlib-os-boston-meetup/.venv/Lib/site-packages/debugpy/_vendored/pydevd/pydevd_plugins/extensions/types/pydevd_plugin_pandas_types.py'),\n",
       " WindowsPath('c:/Users/calvin/Documents/GitHub/pathlib-os-boston-meetup/.venv/Lib/site-packages/debugpy/_vendored/pydevd/pydevd_plugins/extensions/types/__init__.py'),\n",
       " WindowsPath('c:/Users/calvin/Documents/GitHub/pathlib-os-boston-meetup/.venv/Lib/site-packages/debugpy/_vendored/pydevd/pydev_ipython/inputhook.py'),\n",
       " WindowsPath('c:/Users/calvin/Documents/GitHub/pathlib-os-boston-meetup/.venv/Lib/site-packages/debugpy/_vendored/pydevd/pydev_ipython/inputhookglut.py'),\n",
       " WindowsPath('c:/Users/calvin/Documents/GitHub/pathlib-os-boston-meetup/.venv/Lib/site-packages/debugpy/_vendored/pydevd/pydev_ipython/inputhookgtk.py'),\n",
       " WindowsPath('c:/Users/calvin/Documents/GitHub/pathlib-os-boston-meetup/.venv/Lib/site-packages/debugpy/_vendored/pydevd/pydev_ipython/inputhookgtk3.py'),\n",
       " WindowsPath('c:/Users/calvin/Documents/GitHub/pathlib-os-boston-meetup/.venv/Lib/site-packages/debugpy/_vendored/pydevd/pydev_ipython/inputhookpyglet.py'),\n",
       " WindowsPath('c:/Users/calvin/Documents/GitHub/pathlib-os-boston-meetup/.venv/Lib/site-packages/debugpy/_vendored/pydevd/pydev_ipython/inputhookqt4.py'),\n",
       " WindowsPath('c:/Users/calvin/Documents/GitHub/pathlib-os-boston-meetup/.venv/Lib/site-packages/debugpy/_vendored/pydevd/pydev_ipython/inputhookqt5.py'),\n",
       " WindowsPath('c:/Users/calvin/Documents/GitHub/pathlib-os-boston-meetup/.venv/Lib/site-packages/debugpy/_vendored/pydevd/pydev_ipython/inputhooktk.py'),\n",
       " WindowsPath('c:/Users/calvin/Documents/GitHub/pathlib-os-boston-meetup/.venv/Lib/site-packages/debugpy/_vendored/pydevd/pydev_ipython/inputhookwx.py'),\n",
       " WindowsPath('c:/Users/calvin/Documents/GitHub/pathlib-os-boston-meetup/.venv/Lib/site-packages/debugpy/_vendored/pydevd/pydev_ipython/matplotlibtools.py'),\n",
       " WindowsPath('c:/Users/calvin/Documents/GitHub/pathlib-os-boston-meetup/.venv/Lib/site-packages/debugpy/_vendored/pydevd/pydev_ipython/qt.py'),\n",
       " WindowsPath('c:/Users/calvin/Documents/GitHub/pathlib-os-boston-meetup/.venv/Lib/site-packages/debugpy/_vendored/pydevd/pydev_ipython/qt_for_kernel.py'),\n",
       " WindowsPath('c:/Users/calvin/Documents/GitHub/pathlib-os-boston-meetup/.venv/Lib/site-packages/debugpy/_vendored/pydevd/pydev_ipython/qt_loaders.py'),\n",
       " WindowsPath('c:/Users/calvin/Documents/GitHub/pathlib-os-boston-meetup/.venv/Lib/site-packages/debugpy/_vendored/pydevd/pydev_ipython/version.py'),\n",
       " WindowsPath('c:/Users/calvin/Documents/GitHub/pathlib-os-boston-meetup/.venv/Lib/site-packages/debugpy/_vendored/pydevd/pydev_ipython/__init__.py'),\n",
       " WindowsPath('c:/Users/calvin/Documents/GitHub/pathlib-os-boston-meetup/.venv/Lib/site-packages/debugpy/_vendored/pydevd/pydev_sitecustomize/sitecustomize.py'),\n",
       " WindowsPath('c:/Users/calvin/Documents/GitHub/pathlib-os-boston-meetup/.venv/Lib/site-packages/debugpy/_vendored/pydevd/_pydevd_bundle/pydevconsole_code.py'),\n",
       " WindowsPath('c:/Users/calvin/Documents/GitHub/pathlib-os-boston-meetup/.venv/Lib/site-packages/debugpy/_vendored/pydevd/_pydevd_bundle/pydevd_additional_thread_info.py'),\n",
       " WindowsPath('c:/Users/calvin/Documents/GitHub/pathlib-os-boston-meetup/.venv/Lib/site-packages/debugpy/_vendored/pydevd/_pydevd_bundle/pydevd_additional_thread_info_regular.py'),\n",
       " WindowsPath('c:/Users/calvin/Documents/GitHub/pathlib-os-boston-meetup/.venv/Lib/site-packages/debugpy/_vendored/pydevd/_pydevd_bundle/pydevd_api.py'),\n",
       " WindowsPath('c:/Users/calvin/Documents/GitHub/pathlib-os-boston-meetup/.venv/Lib/site-packages/debugpy/_vendored/pydevd/_pydevd_bundle/pydevd_breakpoints.py'),\n",
       " WindowsPath('c:/Users/calvin/Documents/GitHub/pathlib-os-boston-meetup/.venv/Lib/site-packages/debugpy/_vendored/pydevd/_pydevd_bundle/pydevd_bytecode_utils.py'),\n",
       " WindowsPath('c:/Users/calvin/Documents/GitHub/pathlib-os-boston-meetup/.venv/Lib/site-packages/debugpy/_vendored/pydevd/_pydevd_bundle/pydevd_code_to_source.py'),\n",
       " WindowsPath('c:/Users/calvin/Documents/GitHub/pathlib-os-boston-meetup/.venv/Lib/site-packages/debugpy/_vendored/pydevd/_pydevd_bundle/pydevd_collect_bytecode_info.py'),\n",
       " WindowsPath('c:/Users/calvin/Documents/GitHub/pathlib-os-boston-meetup/.venv/Lib/site-packages/debugpy/_vendored/pydevd/_pydevd_bundle/pydevd_comm.py'),\n",
       " WindowsPath('c:/Users/calvin/Documents/GitHub/pathlib-os-boston-meetup/.venv/Lib/site-packages/debugpy/_vendored/pydevd/_pydevd_bundle/pydevd_command_line_handling.py'),\n",
       " WindowsPath('c:/Users/calvin/Documents/GitHub/pathlib-os-boston-meetup/.venv/Lib/site-packages/debugpy/_vendored/pydevd/_pydevd_bundle/pydevd_comm_constants.py'),\n",
       " WindowsPath('c:/Users/calvin/Documents/GitHub/pathlib-os-boston-meetup/.venv/Lib/site-packages/debugpy/_vendored/pydevd/_pydevd_bundle/pydevd_console.py'),\n",
       " WindowsPath('c:/Users/calvin/Documents/GitHub/pathlib-os-boston-meetup/.venv/Lib/site-packages/debugpy/_vendored/pydevd/_pydevd_bundle/pydevd_constants.py'),\n",
       " WindowsPath('c:/Users/calvin/Documents/GitHub/pathlib-os-boston-meetup/.venv/Lib/site-packages/debugpy/_vendored/pydevd/_pydevd_bundle/pydevd_custom_frames.py'),\n",
       " WindowsPath('c:/Users/calvin/Documents/GitHub/pathlib-os-boston-meetup/.venv/Lib/site-packages/debugpy/_vendored/pydevd/_pydevd_bundle/pydevd_cython_wrapper.py'),\n",
       " WindowsPath('c:/Users/calvin/Documents/GitHub/pathlib-os-boston-meetup/.venv/Lib/site-packages/debugpy/_vendored/pydevd/_pydevd_bundle/pydevd_daemon_thread.py'),\n",
       " WindowsPath('c:/Users/calvin/Documents/GitHub/pathlib-os-boston-meetup/.venv/Lib/site-packages/debugpy/_vendored/pydevd/_pydevd_bundle/pydevd_defaults.py'),\n",
       " WindowsPath('c:/Users/calvin/Documents/GitHub/pathlib-os-boston-meetup/.venv/Lib/site-packages/debugpy/_vendored/pydevd/_pydevd_bundle/pydevd_dont_trace.py'),\n",
       " WindowsPath('c:/Users/calvin/Documents/GitHub/pathlib-os-boston-meetup/.venv/Lib/site-packages/debugpy/_vendored/pydevd/_pydevd_bundle/pydevd_dont_trace_files.py'),\n",
       " WindowsPath('c:/Users/calvin/Documents/GitHub/pathlib-os-boston-meetup/.venv/Lib/site-packages/debugpy/_vendored/pydevd/_pydevd_bundle/pydevd_exec2.py'),\n",
       " WindowsPath('c:/Users/calvin/Documents/GitHub/pathlib-os-boston-meetup/.venv/Lib/site-packages/debugpy/_vendored/pydevd/_pydevd_bundle/pydevd_extension_api.py'),\n",
       " WindowsPath('c:/Users/calvin/Documents/GitHub/pathlib-os-boston-meetup/.venv/Lib/site-packages/debugpy/_vendored/pydevd/_pydevd_bundle/pydevd_extension_utils.py'),\n",
       " WindowsPath('c:/Users/calvin/Documents/GitHub/pathlib-os-boston-meetup/.venv/Lib/site-packages/debugpy/_vendored/pydevd/_pydevd_bundle/pydevd_filtering.py'),\n",
       " WindowsPath('c:/Users/calvin/Documents/GitHub/pathlib-os-boston-meetup/.venv/Lib/site-packages/debugpy/_vendored/pydevd/_pydevd_bundle/pydevd_frame.py'),\n",
       " WindowsPath('c:/Users/calvin/Documents/GitHub/pathlib-os-boston-meetup/.venv/Lib/site-packages/debugpy/_vendored/pydevd/_pydevd_bundle/pydevd_frame_utils.py'),\n",
       " WindowsPath('c:/Users/calvin/Documents/GitHub/pathlib-os-boston-meetup/.venv/Lib/site-packages/debugpy/_vendored/pydevd/_pydevd_bundle/pydevd_gevent_integration.py'),\n",
       " WindowsPath('c:/Users/calvin/Documents/GitHub/pathlib-os-boston-meetup/.venv/Lib/site-packages/debugpy/_vendored/pydevd/_pydevd_bundle/pydevd_import_class.py'),\n",
       " WindowsPath('c:/Users/calvin/Documents/GitHub/pathlib-os-boston-meetup/.venv/Lib/site-packages/debugpy/_vendored/pydevd/_pydevd_bundle/pydevd_io.py'),\n",
       " WindowsPath('c:/Users/calvin/Documents/GitHub/pathlib-os-boston-meetup/.venv/Lib/site-packages/debugpy/_vendored/pydevd/_pydevd_bundle/pydevd_json_debug_options.py'),\n",
       " WindowsPath('c:/Users/calvin/Documents/GitHub/pathlib-os-boston-meetup/.venv/Lib/site-packages/debugpy/_vendored/pydevd/_pydevd_bundle/pydevd_net_command.py'),\n",
       " WindowsPath('c:/Users/calvin/Documents/GitHub/pathlib-os-boston-meetup/.venv/Lib/site-packages/debugpy/_vendored/pydevd/_pydevd_bundle/pydevd_net_command_factory_json.py'),\n",
       " WindowsPath('c:/Users/calvin/Documents/GitHub/pathlib-os-boston-meetup/.venv/Lib/site-packages/debugpy/_vendored/pydevd/_pydevd_bundle/pydevd_net_command_factory_xml.py'),\n",
       " WindowsPath('c:/Users/calvin/Documents/GitHub/pathlib-os-boston-meetup/.venv/Lib/site-packages/debugpy/_vendored/pydevd/_pydevd_bundle/pydevd_plugin_utils.py'),\n",
       " WindowsPath('c:/Users/calvin/Documents/GitHub/pathlib-os-boston-meetup/.venv/Lib/site-packages/debugpy/_vendored/pydevd/_pydevd_bundle/pydevd_process_net_command.py'),\n",
       " WindowsPath('c:/Users/calvin/Documents/GitHub/pathlib-os-boston-meetup/.venv/Lib/site-packages/debugpy/_vendored/pydevd/_pydevd_bundle/pydevd_process_net_command_json.py'),\n",
       " WindowsPath('c:/Users/calvin/Documents/GitHub/pathlib-os-boston-meetup/.venv/Lib/site-packages/debugpy/_vendored/pydevd/_pydevd_bundle/pydevd_referrers.py'),\n",
       " WindowsPath('c:/Users/calvin/Documents/GitHub/pathlib-os-boston-meetup/.venv/Lib/site-packages/debugpy/_vendored/pydevd/_pydevd_bundle/pydevd_reload.py'),\n",
       " WindowsPath('c:/Users/calvin/Documents/GitHub/pathlib-os-boston-meetup/.venv/Lib/site-packages/debugpy/_vendored/pydevd/_pydevd_bundle/pydevd_resolver.py'),\n",
       " WindowsPath('c:/Users/calvin/Documents/GitHub/pathlib-os-boston-meetup/.venv/Lib/site-packages/debugpy/_vendored/pydevd/_pydevd_bundle/pydevd_runpy.py'),\n",
       " WindowsPath('c:/Users/calvin/Documents/GitHub/pathlib-os-boston-meetup/.venv/Lib/site-packages/debugpy/_vendored/pydevd/_pydevd_bundle/pydevd_safe_repr.py'),\n",
       " WindowsPath('c:/Users/calvin/Documents/GitHub/pathlib-os-boston-meetup/.venv/Lib/site-packages/debugpy/_vendored/pydevd/_pydevd_bundle/pydevd_save_locals.py'),\n",
       " WindowsPath('c:/Users/calvin/Documents/GitHub/pathlib-os-boston-meetup/.venv/Lib/site-packages/debugpy/_vendored/pydevd/_pydevd_bundle/pydevd_signature.py'),\n",
       " WindowsPath('c:/Users/calvin/Documents/GitHub/pathlib-os-boston-meetup/.venv/Lib/site-packages/debugpy/_vendored/pydevd/_pydevd_bundle/pydevd_source_mapping.py'),\n",
       " WindowsPath('c:/Users/calvin/Documents/GitHub/pathlib-os-boston-meetup/.venv/Lib/site-packages/debugpy/_vendored/pydevd/_pydevd_bundle/pydevd_stackless.py'),\n",
       " WindowsPath('c:/Users/calvin/Documents/GitHub/pathlib-os-boston-meetup/.venv/Lib/site-packages/debugpy/_vendored/pydevd/_pydevd_bundle/pydevd_suspended_frames.py'),\n",
       " WindowsPath('c:/Users/calvin/Documents/GitHub/pathlib-os-boston-meetup/.venv/Lib/site-packages/debugpy/_vendored/pydevd/_pydevd_bundle/pydevd_thread_lifecycle.py'),\n",
       " WindowsPath('c:/Users/calvin/Documents/GitHub/pathlib-os-boston-meetup/.venv/Lib/site-packages/debugpy/_vendored/pydevd/_pydevd_bundle/pydevd_timeout.py'),\n",
       " WindowsPath('c:/Users/calvin/Documents/GitHub/pathlib-os-boston-meetup/.venv/Lib/site-packages/debugpy/_vendored/pydevd/_pydevd_bundle/pydevd_traceproperty.py'),\n",
       " WindowsPath('c:/Users/calvin/Documents/GitHub/pathlib-os-boston-meetup/.venv/Lib/site-packages/debugpy/_vendored/pydevd/_pydevd_bundle/pydevd_trace_api.py'),\n",
       " WindowsPath('c:/Users/calvin/Documents/GitHub/pathlib-os-boston-meetup/.venv/Lib/site-packages/debugpy/_vendored/pydevd/_pydevd_bundle/pydevd_trace_dispatch.py'),\n",
       " WindowsPath('c:/Users/calvin/Documents/GitHub/pathlib-os-boston-meetup/.venv/Lib/site-packages/debugpy/_vendored/pydevd/_pydevd_bundle/pydevd_trace_dispatch_regular.py'),\n",
       " WindowsPath('c:/Users/calvin/Documents/GitHub/pathlib-os-boston-meetup/.venv/Lib/site-packages/debugpy/_vendored/pydevd/_pydevd_bundle/pydevd_utils.py'),\n",
       " WindowsPath('c:/Users/calvin/Documents/GitHub/pathlib-os-boston-meetup/.venv/Lib/site-packages/debugpy/_vendored/pydevd/_pydevd_bundle/pydevd_vars.py'),\n",
       " WindowsPath('c:/Users/calvin/Documents/GitHub/pathlib-os-boston-meetup/.venv/Lib/site-packages/debugpy/_vendored/pydevd/_pydevd_bundle/pydevd_vm_type.py'),\n",
       " WindowsPath('c:/Users/calvin/Documents/GitHub/pathlib-os-boston-meetup/.venv/Lib/site-packages/debugpy/_vendored/pydevd/_pydevd_bundle/pydevd_xml.py'),\n",
       " WindowsPath('c:/Users/calvin/Documents/GitHub/pathlib-os-boston-meetup/.venv/Lib/site-packages/debugpy/_vendored/pydevd/_pydevd_bundle/__init__.py'),\n",
       " WindowsPath('c:/Users/calvin/Documents/GitHub/pathlib-os-boston-meetup/.venv/Lib/site-packages/debugpy/_vendored/pydevd/_pydevd_bundle/pydevd_concurrency_analyser/pydevd_concurrency_logger.py'),\n",
       " WindowsPath('c:/Users/calvin/Documents/GitHub/pathlib-os-boston-meetup/.venv/Lib/site-packages/debugpy/_vendored/pydevd/_pydevd_bundle/pydevd_concurrency_analyser/pydevd_thread_wrappers.py'),\n",
       " WindowsPath('c:/Users/calvin/Documents/GitHub/pathlib-os-boston-meetup/.venv/Lib/site-packages/debugpy/_vendored/pydevd/_pydevd_bundle/pydevd_concurrency_analyser/__init__.py'),\n",
       " WindowsPath('c:/Users/calvin/Documents/GitHub/pathlib-os-boston-meetup/.venv/Lib/site-packages/debugpy/_vendored/pydevd/_pydevd_bundle/_debug_adapter/pydevd_base_schema.py'),\n",
       " WindowsPath('c:/Users/calvin/Documents/GitHub/pathlib-os-boston-meetup/.venv/Lib/site-packages/debugpy/_vendored/pydevd/_pydevd_bundle/_debug_adapter/pydevd_schema.py'),\n",
       " WindowsPath('c:/Users/calvin/Documents/GitHub/pathlib-os-boston-meetup/.venv/Lib/site-packages/debugpy/_vendored/pydevd/_pydevd_bundle/_debug_adapter/pydevd_schema_log.py'),\n",
       " WindowsPath('c:/Users/calvin/Documents/GitHub/pathlib-os-boston-meetup/.venv/Lib/site-packages/debugpy/_vendored/pydevd/_pydevd_bundle/_debug_adapter/__init__.py'),\n",
       " WindowsPath('c:/Users/calvin/Documents/GitHub/pathlib-os-boston-meetup/.venv/Lib/site-packages/debugpy/_vendored/pydevd/_pydevd_bundle/_debug_adapter/__main__pydevd_gen_debug_adapter_protocol.py'),\n",
       " WindowsPath('c:/Users/calvin/Documents/GitHub/pathlib-os-boston-meetup/.venv/Lib/site-packages/debugpy/_vendored/pydevd/_pydevd_frame_eval/pydevd_frame_eval_cython_wrapper.py'),\n",
       " WindowsPath('c:/Users/calvin/Documents/GitHub/pathlib-os-boston-meetup/.venv/Lib/site-packages/debugpy/_vendored/pydevd/_pydevd_frame_eval/pydevd_frame_eval_main.py'),\n",
       " WindowsPath('c:/Users/calvin/Documents/GitHub/pathlib-os-boston-meetup/.venv/Lib/site-packages/debugpy/_vendored/pydevd/_pydevd_frame_eval/pydevd_frame_tracing.py'),\n",
       " WindowsPath('c:/Users/calvin/Documents/GitHub/pathlib-os-boston-meetup/.venv/Lib/site-packages/debugpy/_vendored/pydevd/_pydevd_frame_eval/pydevd_modify_bytecode.py'),\n",
       " WindowsPath('c:/Users/calvin/Documents/GitHub/pathlib-os-boston-meetup/.venv/Lib/site-packages/debugpy/_vendored/pydevd/_pydevd_frame_eval/__init__.py'),\n",
       " WindowsPath('c:/Users/calvin/Documents/GitHub/pathlib-os-boston-meetup/.venv/Lib/site-packages/debugpy/_vendored/pydevd/_pydevd_frame_eval/vendored/pydevd_fix_code.py'),\n",
       " WindowsPath('c:/Users/calvin/Documents/GitHub/pathlib-os-boston-meetup/.venv/Lib/site-packages/debugpy/_vendored/pydevd/_pydevd_frame_eval/vendored/__init__.py'),\n",
       " WindowsPath('c:/Users/calvin/Documents/GitHub/pathlib-os-boston-meetup/.venv/Lib/site-packages/debugpy/_vendored/pydevd/_pydevd_frame_eval/vendored/bytecode/bytecode.py'),\n",
       " WindowsPath('c:/Users/calvin/Documents/GitHub/pathlib-os-boston-meetup/.venv/Lib/site-packages/debugpy/_vendored/pydevd/_pydevd_frame_eval/vendored/bytecode/cfg.py'),\n",
       " WindowsPath('c:/Users/calvin/Documents/GitHub/pathlib-os-boston-meetup/.venv/Lib/site-packages/debugpy/_vendored/pydevd/_pydevd_frame_eval/vendored/bytecode/concrete.py'),\n",
       " WindowsPath('c:/Users/calvin/Documents/GitHub/pathlib-os-boston-meetup/.venv/Lib/site-packages/debugpy/_vendored/pydevd/_pydevd_frame_eval/vendored/bytecode/flags.py'),\n",
       " WindowsPath('c:/Users/calvin/Documents/GitHub/pathlib-os-boston-meetup/.venv/Lib/site-packages/debugpy/_vendored/pydevd/_pydevd_frame_eval/vendored/bytecode/instr.py'),\n",
       " WindowsPath('c:/Users/calvin/Documents/GitHub/pathlib-os-boston-meetup/.venv/Lib/site-packages/debugpy/_vendored/pydevd/_pydevd_frame_eval/vendored/bytecode/peephole_opt.py'),\n",
       " WindowsPath('c:/Users/calvin/Documents/GitHub/pathlib-os-boston-meetup/.venv/Lib/site-packages/debugpy/_vendored/pydevd/_pydevd_frame_eval/vendored/bytecode/__init__.py'),\n",
       " WindowsPath('c:/Users/calvin/Documents/GitHub/pathlib-os-boston-meetup/.venv/Lib/site-packages/debugpy/_vendored/pydevd/_pydevd_frame_eval/vendored/bytecode/tests/test_bytecode.py'),\n",
       " WindowsPath('c:/Users/calvin/Documents/GitHub/pathlib-os-boston-meetup/.venv/Lib/site-packages/debugpy/_vendored/pydevd/_pydevd_frame_eval/vendored/bytecode/tests/test_cfg.py'),\n",
       " WindowsPath('c:/Users/calvin/Documents/GitHub/pathlib-os-boston-meetup/.venv/Lib/site-packages/debugpy/_vendored/pydevd/_pydevd_frame_eval/vendored/bytecode/tests/test_code.py'),\n",
       " WindowsPath('c:/Users/calvin/Documents/GitHub/pathlib-os-boston-meetup/.venv/Lib/site-packages/debugpy/_vendored/pydevd/_pydevd_frame_eval/vendored/bytecode/tests/test_concrete.py'),\n",
       " WindowsPath('c:/Users/calvin/Documents/GitHub/pathlib-os-boston-meetup/.venv/Lib/site-packages/debugpy/_vendored/pydevd/_pydevd_frame_eval/vendored/bytecode/tests/test_flags.py'),\n",
       " WindowsPath('c:/Users/calvin/Documents/GitHub/pathlib-os-boston-meetup/.venv/Lib/site-packages/debugpy/_vendored/pydevd/_pydevd_frame_eval/vendored/bytecode/tests/test_instr.py'),\n",
       " WindowsPath('c:/Users/calvin/Documents/GitHub/pathlib-os-boston-meetup/.venv/Lib/site-packages/debugpy/_vendored/pydevd/_pydevd_frame_eval/vendored/bytecode/tests/test_misc.py'),\n",
       " WindowsPath('c:/Users/calvin/Documents/GitHub/pathlib-os-boston-meetup/.venv/Lib/site-packages/debugpy/_vendored/pydevd/_pydevd_frame_eval/vendored/bytecode/tests/test_peephole_opt.py'),\n",
       " WindowsPath('c:/Users/calvin/Documents/GitHub/pathlib-os-boston-meetup/.venv/Lib/site-packages/debugpy/_vendored/pydevd/_pydevd_frame_eval/vendored/bytecode/tests/util_annotation.py'),\n",
       " WindowsPath('c:/Users/calvin/Documents/GitHub/pathlib-os-boston-meetup/.venv/Lib/site-packages/debugpy/_vendored/pydevd/_pydevd_frame_eval/vendored/bytecode/tests/__init__.py'),\n",
       " WindowsPath('c:/Users/calvin/Documents/GitHub/pathlib-os-boston-meetup/.venv/Lib/site-packages/debugpy/_vendored/pydevd/_pydev_bundle/pydev_console_utils.py'),\n",
       " WindowsPath('c:/Users/calvin/Documents/GitHub/pathlib-os-boston-meetup/.venv/Lib/site-packages/debugpy/_vendored/pydevd/_pydev_bundle/pydev_imports.py'),\n",
       " WindowsPath('c:/Users/calvin/Documents/GitHub/pathlib-os-boston-meetup/.venv/Lib/site-packages/debugpy/_vendored/pydevd/_pydev_bundle/pydev_import_hook.py'),\n",
       " WindowsPath('c:/Users/calvin/Documents/GitHub/pathlib-os-boston-meetup/.venv/Lib/site-packages/debugpy/_vendored/pydevd/_pydev_bundle/pydev_ipython_console.py'),\n",
       " WindowsPath('c:/Users/calvin/Documents/GitHub/pathlib-os-boston-meetup/.venv/Lib/site-packages/debugpy/_vendored/pydevd/_pydev_bundle/pydev_ipython_console_011.py'),\n",
       " WindowsPath('c:/Users/calvin/Documents/GitHub/pathlib-os-boston-meetup/.venv/Lib/site-packages/debugpy/_vendored/pydevd/_pydev_bundle/pydev_is_thread_alive.py'),\n",
       " WindowsPath('c:/Users/calvin/Documents/GitHub/pathlib-os-boston-meetup/.venv/Lib/site-packages/debugpy/_vendored/pydevd/_pydev_bundle/pydev_localhost.py'),\n",
       " WindowsPath('c:/Users/calvin/Documents/GitHub/pathlib-os-boston-meetup/.venv/Lib/site-packages/debugpy/_vendored/pydevd/_pydev_bundle/pydev_log.py'),\n",
       " WindowsPath('c:/Users/calvin/Documents/GitHub/pathlib-os-boston-meetup/.venv/Lib/site-packages/debugpy/_vendored/pydevd/_pydev_bundle/pydev_monkey.py'),\n",
       " WindowsPath('c:/Users/calvin/Documents/GitHub/pathlib-os-boston-meetup/.venv/Lib/site-packages/debugpy/_vendored/pydevd/_pydev_bundle/pydev_monkey_qt.py'),\n",
       " WindowsPath('c:/Users/calvin/Documents/GitHub/pathlib-os-boston-meetup/.venv/Lib/site-packages/debugpy/_vendored/pydevd/_pydev_bundle/pydev_override.py'),\n",
       " WindowsPath('c:/Users/calvin/Documents/GitHub/pathlib-os-boston-meetup/.venv/Lib/site-packages/debugpy/_vendored/pydevd/_pydev_bundle/pydev_umd.py'),\n",
       " WindowsPath('c:/Users/calvin/Documents/GitHub/pathlib-os-boston-meetup/.venv/Lib/site-packages/debugpy/_vendored/pydevd/_pydev_bundle/pydev_versioncheck.py'),\n",
       " WindowsPath('c:/Users/calvin/Documents/GitHub/pathlib-os-boston-meetup/.venv/Lib/site-packages/debugpy/_vendored/pydevd/_pydev_bundle/_pydev_calltip_util.py'),\n",
       " WindowsPath('c:/Users/calvin/Documents/GitHub/pathlib-os-boston-meetup/.venv/Lib/site-packages/debugpy/_vendored/pydevd/_pydev_bundle/_pydev_completer.py'),\n",
       " WindowsPath('c:/Users/calvin/Documents/GitHub/pathlib-os-boston-meetup/.venv/Lib/site-packages/debugpy/_vendored/pydevd/_pydev_bundle/_pydev_execfile.py'),\n",
       " WindowsPath('c:/Users/calvin/Documents/GitHub/pathlib-os-boston-meetup/.venv/Lib/site-packages/debugpy/_vendored/pydevd/_pydev_bundle/_pydev_filesystem_encoding.py'),\n",
       " WindowsPath('c:/Users/calvin/Documents/GitHub/pathlib-os-boston-meetup/.venv/Lib/site-packages/debugpy/_vendored/pydevd/_pydev_bundle/_pydev_getopt.py'),\n",
       " WindowsPath('c:/Users/calvin/Documents/GitHub/pathlib-os-boston-meetup/.venv/Lib/site-packages/debugpy/_vendored/pydevd/_pydev_bundle/_pydev_imports_tipper.py'),\n",
       " WindowsPath('c:/Users/calvin/Documents/GitHub/pathlib-os-boston-meetup/.venv/Lib/site-packages/debugpy/_vendored/pydevd/_pydev_bundle/_pydev_jy_imports_tipper.py'),\n",
       " WindowsPath('c:/Users/calvin/Documents/GitHub/pathlib-os-boston-meetup/.venv/Lib/site-packages/debugpy/_vendored/pydevd/_pydev_bundle/_pydev_log.py'),\n",
       " WindowsPath('c:/Users/calvin/Documents/GitHub/pathlib-os-boston-meetup/.venv/Lib/site-packages/debugpy/_vendored/pydevd/_pydev_bundle/_pydev_saved_modules.py'),\n",
       " WindowsPath('c:/Users/calvin/Documents/GitHub/pathlib-os-boston-meetup/.venv/Lib/site-packages/debugpy/_vendored/pydevd/_pydev_bundle/_pydev_sys_patch.py'),\n",
       " WindowsPath('c:/Users/calvin/Documents/GitHub/pathlib-os-boston-meetup/.venv/Lib/site-packages/debugpy/_vendored/pydevd/_pydev_bundle/_pydev_tipper_common.py'),\n",
       " WindowsPath('c:/Users/calvin/Documents/GitHub/pathlib-os-boston-meetup/.venv/Lib/site-packages/debugpy/_vendored/pydevd/_pydev_bundle/__init__.py'),\n",
       " WindowsPath('c:/Users/calvin/Documents/GitHub/pathlib-os-boston-meetup/.venv/Lib/site-packages/debugpy/_vendored/pydevd/_pydev_bundle/fsnotify/__init__.py'),\n",
       " WindowsPath('c:/Users/calvin/Documents/GitHub/pathlib-os-boston-meetup/.venv/Lib/site-packages/debugpy/_vendored/pydevd/_pydev_runfiles/pydev_runfiles.py'),\n",
       " WindowsPath('c:/Users/calvin/Documents/GitHub/pathlib-os-boston-meetup/.venv/Lib/site-packages/debugpy/_vendored/pydevd/_pydev_runfiles/pydev_runfiles_coverage.py'),\n",
       " WindowsPath('c:/Users/calvin/Documents/GitHub/pathlib-os-boston-meetup/.venv/Lib/site-packages/debugpy/_vendored/pydevd/_pydev_runfiles/pydev_runfiles_nose.py'),\n",
       " WindowsPath('c:/Users/calvin/Documents/GitHub/pathlib-os-boston-meetup/.venv/Lib/site-packages/debugpy/_vendored/pydevd/_pydev_runfiles/pydev_runfiles_parallel.py'),\n",
       " WindowsPath('c:/Users/calvin/Documents/GitHub/pathlib-os-boston-meetup/.venv/Lib/site-packages/debugpy/_vendored/pydevd/_pydev_runfiles/pydev_runfiles_parallel_client.py'),\n",
       " WindowsPath('c:/Users/calvin/Documents/GitHub/pathlib-os-boston-meetup/.venv/Lib/site-packages/debugpy/_vendored/pydevd/_pydev_runfiles/pydev_runfiles_pytest2.py'),\n",
       " WindowsPath('c:/Users/calvin/Documents/GitHub/pathlib-os-boston-meetup/.venv/Lib/site-packages/debugpy/_vendored/pydevd/_pydev_runfiles/pydev_runfiles_unittest.py'),\n",
       " WindowsPath('c:/Users/calvin/Documents/GitHub/pathlib-os-boston-meetup/.venv/Lib/site-packages/debugpy/_vendored/pydevd/_pydev_runfiles/pydev_runfiles_xml_rpc.py'),\n",
       " WindowsPath('c:/Users/calvin/Documents/GitHub/pathlib-os-boston-meetup/.venv/Lib/site-packages/debugpy/_vendored/pydevd/_pydev_runfiles/__init__.py'),\n",
       " WindowsPath('c:/Users/calvin/Documents/GitHub/pathlib-os-boston-meetup/.venv/Lib/site-packages/executing/executing.py'),\n",
       " WindowsPath('c:/Users/calvin/Documents/GitHub/pathlib-os-boston-meetup/.venv/Lib/site-packages/executing/version.py'),\n",
       " WindowsPath('c:/Users/calvin/Documents/GitHub/pathlib-os-boston-meetup/.venv/Lib/site-packages/executing/_exceptions.py'),\n",
       " WindowsPath('c:/Users/calvin/Documents/GitHub/pathlib-os-boston-meetup/.venv/Lib/site-packages/executing/_position_node_finder.py'),\n",
       " WindowsPath('c:/Users/calvin/Documents/GitHub/pathlib-os-boston-meetup/.venv/Lib/site-packages/executing/__init__.py'),\n",
       " WindowsPath('c:/Users/calvin/Documents/GitHub/pathlib-os-boston-meetup/.venv/Lib/site-packages/idna/codec.py'),\n",
       " WindowsPath('c:/Users/calvin/Documents/GitHub/pathlib-os-boston-meetup/.venv/Lib/site-packages/idna/compat.py'),\n",
       " WindowsPath('c:/Users/calvin/Documents/GitHub/pathlib-os-boston-meetup/.venv/Lib/site-packages/idna/core.py'),\n",
       " WindowsPath('c:/Users/calvin/Documents/GitHub/pathlib-os-boston-meetup/.venv/Lib/site-packages/idna/idnadata.py'),\n",
       " WindowsPath('c:/Users/calvin/Documents/GitHub/pathlib-os-boston-meetup/.venv/Lib/site-packages/idna/intranges.py'),\n",
       " WindowsPath('c:/Users/calvin/Documents/GitHub/pathlib-os-boston-meetup/.venv/Lib/site-packages/idna/package_data.py'),\n",
       " WindowsPath('c:/Users/calvin/Documents/GitHub/pathlib-os-boston-meetup/.venv/Lib/site-packages/idna/uts46data.py'),\n",
       " WindowsPath('c:/Users/calvin/Documents/GitHub/pathlib-os-boston-meetup/.venv/Lib/site-packages/idna/__init__.py'),\n",
       " WindowsPath('c:/Users/calvin/Documents/GitHub/pathlib-os-boston-meetup/.venv/Lib/site-packages/ipykernel/compiler.py'),\n",
       " WindowsPath('c:/Users/calvin/Documents/GitHub/pathlib-os-boston-meetup/.venv/Lib/site-packages/ipykernel/connect.py'),\n",
       " WindowsPath('c:/Users/calvin/Documents/GitHub/pathlib-os-boston-meetup/.venv/Lib/site-packages/ipykernel/control.py'),\n",
       " WindowsPath('c:/Users/calvin/Documents/GitHub/pathlib-os-boston-meetup/.venv/Lib/site-packages/ipykernel/datapub.py'),\n",
       " WindowsPath('c:/Users/calvin/Documents/GitHub/pathlib-os-boston-meetup/.venv/Lib/site-packages/ipykernel/debugger.py'),\n",
       " WindowsPath('c:/Users/calvin/Documents/GitHub/pathlib-os-boston-meetup/.venv/Lib/site-packages/ipykernel/displayhook.py'),\n",
       " WindowsPath('c:/Users/calvin/Documents/GitHub/pathlib-os-boston-meetup/.venv/Lib/site-packages/ipykernel/embed.py'),\n",
       " WindowsPath('c:/Users/calvin/Documents/GitHub/pathlib-os-boston-meetup/.venv/Lib/site-packages/ipykernel/eventloops.py'),\n",
       " WindowsPath('c:/Users/calvin/Documents/GitHub/pathlib-os-boston-meetup/.venv/Lib/site-packages/ipykernel/heartbeat.py'),\n",
       " WindowsPath('c:/Users/calvin/Documents/GitHub/pathlib-os-boston-meetup/.venv/Lib/site-packages/ipykernel/iostream.py'),\n",
       " WindowsPath('c:/Users/calvin/Documents/GitHub/pathlib-os-boston-meetup/.venv/Lib/site-packages/ipykernel/ipkernel.py'),\n",
       " WindowsPath('c:/Users/calvin/Documents/GitHub/pathlib-os-boston-meetup/.venv/Lib/site-packages/ipykernel/jsonutil.py'),\n",
       " WindowsPath('c:/Users/calvin/Documents/GitHub/pathlib-os-boston-meetup/.venv/Lib/site-packages/ipykernel/kernelapp.py'),\n",
       " WindowsPath('c:/Users/calvin/Documents/GitHub/pathlib-os-boston-meetup/.venv/Lib/site-packages/ipykernel/kernelbase.py'),\n",
       " WindowsPath('c:/Users/calvin/Documents/GitHub/pathlib-os-boston-meetup/.venv/Lib/site-packages/ipykernel/kernelspec.py'),\n",
       " WindowsPath('c:/Users/calvin/Documents/GitHub/pathlib-os-boston-meetup/.venv/Lib/site-packages/ipykernel/log.py'),\n",
       " WindowsPath('c:/Users/calvin/Documents/GitHub/pathlib-os-boston-meetup/.venv/Lib/site-packages/ipykernel/parentpoller.py'),\n",
       " WindowsPath('c:/Users/calvin/Documents/GitHub/pathlib-os-boston-meetup/.venv/Lib/site-packages/ipykernel/pickleutil.py'),\n",
       " WindowsPath('c:/Users/calvin/Documents/GitHub/pathlib-os-boston-meetup/.venv/Lib/site-packages/ipykernel/serialize.py'),\n",
       " WindowsPath('c:/Users/calvin/Documents/GitHub/pathlib-os-boston-meetup/.venv/Lib/site-packages/ipykernel/trio_runner.py'),\n",
       " WindowsPath('c:/Users/calvin/Documents/GitHub/pathlib-os-boston-meetup/.venv/Lib/site-packages/ipykernel/zmqshell.py'),\n",
       " WindowsPath('c:/Users/calvin/Documents/GitHub/pathlib-os-boston-meetup/.venv/Lib/site-packages/ipykernel/_eventloop_macos.py'),\n",
       " WindowsPath('c:/Users/calvin/Documents/GitHub/pathlib-os-boston-meetup/.venv/Lib/site-packages/ipykernel/_version.py'),\n",
       " WindowsPath('c:/Users/calvin/Documents/GitHub/pathlib-os-boston-meetup/.venv/Lib/site-packages/ipykernel/__init__.py'),\n",
       " WindowsPath('c:/Users/calvin/Documents/GitHub/pathlib-os-boston-meetup/.venv/Lib/site-packages/ipykernel/__main__.py'),\n",
       " WindowsPath('c:/Users/calvin/Documents/GitHub/pathlib-os-boston-meetup/.venv/Lib/site-packages/ipykernel/comm/comm.py'),\n",
       " WindowsPath('c:/Users/calvin/Documents/GitHub/pathlib-os-boston-meetup/.venv/Lib/site-packages/ipykernel/comm/manager.py'),\n",
       " WindowsPath('c:/Users/calvin/Documents/GitHub/pathlib-os-boston-meetup/.venv/Lib/site-packages/ipykernel/comm/__init__.py'),\n",
       " WindowsPath('c:/Users/calvin/Documents/GitHub/pathlib-os-boston-meetup/.venv/Lib/site-packages/ipykernel/gui/gtk3embed.py'),\n",
       " WindowsPath('c:/Users/calvin/Documents/GitHub/pathlib-os-boston-meetup/.venv/Lib/site-packages/ipykernel/gui/gtkembed.py'),\n",
       " WindowsPath('c:/Users/calvin/Documents/GitHub/pathlib-os-boston-meetup/.venv/Lib/site-packages/ipykernel/gui/__init__.py'),\n",
       " WindowsPath('c:/Users/calvin/Documents/GitHub/pathlib-os-boston-meetup/.venv/Lib/site-packages/ipykernel/inprocess/blocking.py'),\n",
       " WindowsPath('c:/Users/calvin/Documents/GitHub/pathlib-os-boston-meetup/.venv/Lib/site-packages/ipykernel/inprocess/channels.py'),\n",
       " WindowsPath('c:/Users/calvin/Documents/GitHub/pathlib-os-boston-meetup/.venv/Lib/site-packages/ipykernel/inprocess/client.py'),\n",
       " WindowsPath('c:/Users/calvin/Documents/GitHub/pathlib-os-boston-meetup/.venv/Lib/site-packages/ipykernel/inprocess/constants.py'),\n",
       " WindowsPath('c:/Users/calvin/Documents/GitHub/pathlib-os-boston-meetup/.venv/Lib/site-packages/ipykernel/inprocess/ipkernel.py'),\n",
       " WindowsPath('c:/Users/calvin/Documents/GitHub/pathlib-os-boston-meetup/.venv/Lib/site-packages/ipykernel/inprocess/manager.py'),\n",
       " WindowsPath('c:/Users/calvin/Documents/GitHub/pathlib-os-boston-meetup/.venv/Lib/site-packages/ipykernel/inprocess/socket.py'),\n",
       " WindowsPath('c:/Users/calvin/Documents/GitHub/pathlib-os-boston-meetup/.venv/Lib/site-packages/ipykernel/inprocess/__init__.py'),\n",
       " WindowsPath('c:/Users/calvin/Documents/GitHub/pathlib-os-boston-meetup/.venv/Lib/site-packages/ipykernel/inprocess/tests/test_kernel.py'),\n",
       " WindowsPath('c:/Users/calvin/Documents/GitHub/pathlib-os-boston-meetup/.venv/Lib/site-packages/ipykernel/inprocess/tests/test_kernelmanager.py'),\n",
       " WindowsPath('c:/Users/calvin/Documents/GitHub/pathlib-os-boston-meetup/.venv/Lib/site-packages/ipykernel/inprocess/tests/__init__.py'),\n",
       " WindowsPath('c:/Users/calvin/Documents/GitHub/pathlib-os-boston-meetup/.venv/Lib/site-packages/ipykernel/pylab/backend_inline.py'),\n",
       " WindowsPath('c:/Users/calvin/Documents/GitHub/pathlib-os-boston-meetup/.venv/Lib/site-packages/ipykernel/pylab/config.py'),\n",
       " WindowsPath('c:/Users/calvin/Documents/GitHub/pathlib-os-boston-meetup/.venv/Lib/site-packages/ipykernel/pylab/__init__.py'),\n",
       " WindowsPath('c:/Users/calvin/Documents/GitHub/pathlib-os-boston-meetup/.venv/Lib/site-packages/ipykernel/tests/conftest.py'),\n",
       " WindowsPath('c:/Users/calvin/Documents/GitHub/pathlib-os-boston-meetup/.venv/Lib/site-packages/ipykernel/tests/test_async.py'),\n",
       " WindowsPath('c:/Users/calvin/Documents/GitHub/pathlib-os-boston-meetup/.venv/Lib/site-packages/ipykernel/tests/test_comm.py'),\n",
       " WindowsPath('c:/Users/calvin/Documents/GitHub/pathlib-os-boston-meetup/.venv/Lib/site-packages/ipykernel/tests/test_connect.py'),\n",
       " WindowsPath('c:/Users/calvin/Documents/GitHub/pathlib-os-boston-meetup/.venv/Lib/site-packages/ipykernel/tests/test_debugger.py'),\n",
       " WindowsPath('c:/Users/calvin/Documents/GitHub/pathlib-os-boston-meetup/.venv/Lib/site-packages/ipykernel/tests/test_embed_kernel.py'),\n",
       " WindowsPath('c:/Users/calvin/Documents/GitHub/pathlib-os-boston-meetup/.venv/Lib/site-packages/ipykernel/tests/test_eventloop.py'),\n",
       " WindowsPath('c:/Users/calvin/Documents/GitHub/pathlib-os-boston-meetup/.venv/Lib/site-packages/ipykernel/tests/test_heartbeat.py'),\n",
       " WindowsPath('c:/Users/calvin/Documents/GitHub/pathlib-os-boston-meetup/.venv/Lib/site-packages/ipykernel/tests/test_io.py'),\n",
       " WindowsPath('c:/Users/calvin/Documents/GitHub/pathlib-os-boston-meetup/.venv/Lib/site-packages/ipykernel/tests/test_ipkernel_direct.py'),\n",
       " WindowsPath('c:/Users/calvin/Documents/GitHub/pathlib-os-boston-meetup/.venv/Lib/site-packages/ipykernel/tests/test_jsonutil.py'),\n",
       " WindowsPath('c:/Users/calvin/Documents/GitHub/pathlib-os-boston-meetup/.venv/Lib/site-packages/ipykernel/tests/test_kernel.py'),\n",
       " WindowsPath('c:/Users/calvin/Documents/GitHub/pathlib-os-boston-meetup/.venv/Lib/site-packages/ipykernel/tests/test_kernelapp.py'),\n",
       " WindowsPath('c:/Users/calvin/Documents/GitHub/pathlib-os-boston-meetup/.venv/Lib/site-packages/ipykernel/tests/test_kernelspec.py'),\n",
       " WindowsPath('c:/Users/calvin/Documents/GitHub/pathlib-os-boston-meetup/.venv/Lib/site-packages/ipykernel/tests/test_kernel_direct.py'),\n",
       " WindowsPath('c:/Users/calvin/Documents/GitHub/pathlib-os-boston-meetup/.venv/Lib/site-packages/ipykernel/tests/test_message_spec.py'),\n",
       " WindowsPath('c:/Users/calvin/Documents/GitHub/pathlib-os-boston-meetup/.venv/Lib/site-packages/ipykernel/tests/test_parentpoller.py'),\n",
       " WindowsPath('c:/Users/calvin/Documents/GitHub/pathlib-os-boston-meetup/.venv/Lib/site-packages/ipykernel/tests/test_pickleutil.py'),\n",
       " WindowsPath('c:/Users/calvin/Documents/GitHub/pathlib-os-boston-meetup/.venv/Lib/site-packages/ipykernel/tests/test_start_kernel.py'),\n",
       " WindowsPath('c:/Users/calvin/Documents/GitHub/pathlib-os-boston-meetup/.venv/Lib/site-packages/ipykernel/tests/test_zmq_shell.py'),\n",
       " WindowsPath('c:/Users/calvin/Documents/GitHub/pathlib-os-boston-meetup/.venv/Lib/site-packages/ipykernel/tests/utils.py'),\n",
       " WindowsPath('c:/Users/calvin/Documents/GitHub/pathlib-os-boston-meetup/.venv/Lib/site-packages/ipykernel/tests/_asyncio_utils.py'),\n",
       " WindowsPath('c:/Users/calvin/Documents/GitHub/pathlib-os-boston-meetup/.venv/Lib/site-packages/ipykernel/tests/__init__.py'),\n",
       " WindowsPath('c:/Users/calvin/Documents/GitHub/pathlib-os-boston-meetup/.venv/Lib/site-packages/IPython/conftest.py'),\n",
       " WindowsPath('c:/Users/calvin/Documents/GitHub/pathlib-os-boston-meetup/.venv/Lib/site-packages/IPython/consoleapp.py'),\n",
       " WindowsPath('c:/Users/calvin/Documents/GitHub/pathlib-os-boston-meetup/.venv/Lib/site-packages/IPython/display.py'),\n",
       " WindowsPath('c:/Users/calvin/Documents/GitHub/pathlib-os-boston-meetup/.venv/Lib/site-packages/IPython/paths.py'),\n",
       " WindowsPath('c:/Users/calvin/Documents/GitHub/pathlib-os-boston-meetup/.venv/Lib/site-packages/IPython/__init__.py'),\n",
       " WindowsPath('c:/Users/calvin/Documents/GitHub/pathlib-os-boston-meetup/.venv/Lib/site-packages/IPython/__main__.py'),\n",
       " WindowsPath('c:/Users/calvin/Documents/GitHub/pathlib-os-boston-meetup/.venv/Lib/site-packages/IPython/core/alias.py'),\n",
       " WindowsPath('c:/Users/calvin/Documents/GitHub/pathlib-os-boston-meetup/.venv/Lib/site-packages/IPython/core/application.py'),\n",
       " WindowsPath('c:/Users/calvin/Documents/GitHub/pathlib-os-boston-meetup/.venv/Lib/site-packages/IPython/core/async_helpers.py'),\n",
       " WindowsPath('c:/Users/calvin/Documents/GitHub/pathlib-os-boston-meetup/.venv/Lib/site-packages/IPython/core/autocall.py'),\n",
       " WindowsPath('c:/Users/calvin/Documents/GitHub/pathlib-os-boston-meetup/.venv/Lib/site-packages/IPython/core/builtin_trap.py'),\n",
       " WindowsPath('c:/Users/calvin/Documents/GitHub/pathlib-os-boston-meetup/.venv/Lib/site-packages/IPython/core/compilerop.py'),\n",
       " WindowsPath('c:/Users/calvin/Documents/GitHub/pathlib-os-boston-meetup/.venv/Lib/site-packages/IPython/core/completer.py'),\n",
       " WindowsPath('c:/Users/calvin/Documents/GitHub/pathlib-os-boston-meetup/.venv/Lib/site-packages/IPython/core/completerlib.py'),\n",
       " WindowsPath('c:/Users/calvin/Documents/GitHub/pathlib-os-boston-meetup/.venv/Lib/site-packages/IPython/core/crashhandler.py'),\n",
       " WindowsPath('c:/Users/calvin/Documents/GitHub/pathlib-os-boston-meetup/.venv/Lib/site-packages/IPython/core/debugger.py'),\n",
       " WindowsPath('c:/Users/calvin/Documents/GitHub/pathlib-os-boston-meetup/.venv/Lib/site-packages/IPython/core/display.py'),\n",
       " WindowsPath('c:/Users/calvin/Documents/GitHub/pathlib-os-boston-meetup/.venv/Lib/site-packages/IPython/core/displayhook.py'),\n",
       " WindowsPath('c:/Users/calvin/Documents/GitHub/pathlib-os-boston-meetup/.venv/Lib/site-packages/IPython/core/displaypub.py'),\n",
       " WindowsPath('c:/Users/calvin/Documents/GitHub/pathlib-os-boston-meetup/.venv/Lib/site-packages/IPython/core/display_functions.py'),\n",
       " WindowsPath('c:/Users/calvin/Documents/GitHub/pathlib-os-boston-meetup/.venv/Lib/site-packages/IPython/core/display_trap.py'),\n",
       " WindowsPath('c:/Users/calvin/Documents/GitHub/pathlib-os-boston-meetup/.venv/Lib/site-packages/IPython/core/error.py'),\n",
       " WindowsPath('c:/Users/calvin/Documents/GitHub/pathlib-os-boston-meetup/.venv/Lib/site-packages/IPython/core/events.py'),\n",
       " WindowsPath('c:/Users/calvin/Documents/GitHub/pathlib-os-boston-meetup/.venv/Lib/site-packages/IPython/core/excolors.py'),\n",
       " WindowsPath('c:/Users/calvin/Documents/GitHub/pathlib-os-boston-meetup/.venv/Lib/site-packages/IPython/core/extensions.py'),\n",
       " WindowsPath('c:/Users/calvin/Documents/GitHub/pathlib-os-boston-meetup/.venv/Lib/site-packages/IPython/core/formatters.py'),\n",
       " WindowsPath('c:/Users/calvin/Documents/GitHub/pathlib-os-boston-meetup/.venv/Lib/site-packages/IPython/core/getipython.py'),\n",
       " WindowsPath('c:/Users/calvin/Documents/GitHub/pathlib-os-boston-meetup/.venv/Lib/site-packages/IPython/core/guarded_eval.py'),\n",
       " WindowsPath('c:/Users/calvin/Documents/GitHub/pathlib-os-boston-meetup/.venv/Lib/site-packages/IPython/core/history.py'),\n",
       " WindowsPath('c:/Users/calvin/Documents/GitHub/pathlib-os-boston-meetup/.venv/Lib/site-packages/IPython/core/historyapp.py'),\n",
       " WindowsPath('c:/Users/calvin/Documents/GitHub/pathlib-os-boston-meetup/.venv/Lib/site-packages/IPython/core/hooks.py'),\n",
       " WindowsPath('c:/Users/calvin/Documents/GitHub/pathlib-os-boston-meetup/.venv/Lib/site-packages/IPython/core/inputsplitter.py'),\n",
       " WindowsPath('c:/Users/calvin/Documents/GitHub/pathlib-os-boston-meetup/.venv/Lib/site-packages/IPython/core/inputtransformer.py'),\n",
       " WindowsPath('c:/Users/calvin/Documents/GitHub/pathlib-os-boston-meetup/.venv/Lib/site-packages/IPython/core/inputtransformer2.py'),\n",
       " WindowsPath('c:/Users/calvin/Documents/GitHub/pathlib-os-boston-meetup/.venv/Lib/site-packages/IPython/core/interactiveshell.py'),\n",
       " WindowsPath('c:/Users/calvin/Documents/GitHub/pathlib-os-boston-meetup/.venv/Lib/site-packages/IPython/core/latex_symbols.py'),\n",
       " WindowsPath('c:/Users/calvin/Documents/GitHub/pathlib-os-boston-meetup/.venv/Lib/site-packages/IPython/core/logger.py'),\n",
       " WindowsPath('c:/Users/calvin/Documents/GitHub/pathlib-os-boston-meetup/.venv/Lib/site-packages/IPython/core/macro.py'),\n",
       " WindowsPath('c:/Users/calvin/Documents/GitHub/pathlib-os-boston-meetup/.venv/Lib/site-packages/IPython/core/magic.py'),\n",
       " WindowsPath('c:/Users/calvin/Documents/GitHub/pathlib-os-boston-meetup/.venv/Lib/site-packages/IPython/core/magic_arguments.py'),\n",
       " WindowsPath('c:/Users/calvin/Documents/GitHub/pathlib-os-boston-meetup/.venv/Lib/site-packages/IPython/core/oinspect.py'),\n",
       " WindowsPath('c:/Users/calvin/Documents/GitHub/pathlib-os-boston-meetup/.venv/Lib/site-packages/IPython/core/page.py'),\n",
       " WindowsPath('c:/Users/calvin/Documents/GitHub/pathlib-os-boston-meetup/.venv/Lib/site-packages/IPython/core/payload.py'),\n",
       " WindowsPath('c:/Users/calvin/Documents/GitHub/pathlib-os-boston-meetup/.venv/Lib/site-packages/IPython/core/payloadpage.py'),\n",
       " WindowsPath('c:/Users/calvin/Documents/GitHub/pathlib-os-boston-meetup/.venv/Lib/site-packages/IPython/core/prefilter.py'),\n",
       " WindowsPath('c:/Users/calvin/Documents/GitHub/pathlib-os-boston-meetup/.venv/Lib/site-packages/IPython/core/profileapp.py'),\n",
       " WindowsPath('c:/Users/calvin/Documents/GitHub/pathlib-os-boston-meetup/.venv/Lib/site-packages/IPython/core/profiledir.py'),\n",
       " WindowsPath('c:/Users/calvin/Documents/GitHub/pathlib-os-boston-meetup/.venv/Lib/site-packages/IPython/core/prompts.py'),\n",
       " WindowsPath('c:/Users/calvin/Documents/GitHub/pathlib-os-boston-meetup/.venv/Lib/site-packages/IPython/core/pylabtools.py'),\n",
       " WindowsPath('c:/Users/calvin/Documents/GitHub/pathlib-os-boston-meetup/.venv/Lib/site-packages/IPython/core/release.py'),\n",
       " WindowsPath('c:/Users/calvin/Documents/GitHub/pathlib-os-boston-meetup/.venv/Lib/site-packages/IPython/core/shellapp.py'),\n",
       " WindowsPath('c:/Users/calvin/Documents/GitHub/pathlib-os-boston-meetup/.venv/Lib/site-packages/IPython/core/splitinput.py'),\n",
       " WindowsPath('c:/Users/calvin/Documents/GitHub/pathlib-os-boston-meetup/.venv/Lib/site-packages/IPython/core/ultratb.py'),\n",
       " WindowsPath('c:/Users/calvin/Documents/GitHub/pathlib-os-boston-meetup/.venv/Lib/site-packages/IPython/core/usage.py'),\n",
       " WindowsPath('c:/Users/calvin/Documents/GitHub/pathlib-os-boston-meetup/.venv/Lib/site-packages/IPython/core/__init__.py'),\n",
       " WindowsPath('c:/Users/calvin/Documents/GitHub/pathlib-os-boston-meetup/.venv/Lib/site-packages/IPython/core/magics/auto.py'),\n",
       " WindowsPath('c:/Users/calvin/Documents/GitHub/pathlib-os-boston-meetup/.venv/Lib/site-packages/IPython/core/magics/basic.py'),\n",
       " WindowsPath('c:/Users/calvin/Documents/GitHub/pathlib-os-boston-meetup/.venv/Lib/site-packages/IPython/core/magics/code.py'),\n",
       " WindowsPath('c:/Users/calvin/Documents/GitHub/pathlib-os-boston-meetup/.venv/Lib/site-packages/IPython/core/magics/config.py'),\n",
       " WindowsPath('c:/Users/calvin/Documents/GitHub/pathlib-os-boston-meetup/.venv/Lib/site-packages/IPython/core/magics/display.py'),\n",
       " WindowsPath('c:/Users/calvin/Documents/GitHub/pathlib-os-boston-meetup/.venv/Lib/site-packages/IPython/core/magics/execution.py'),\n",
       " WindowsPath('c:/Users/calvin/Documents/GitHub/pathlib-os-boston-meetup/.venv/Lib/site-packages/IPython/core/magics/extension.py'),\n",
       " WindowsPath('c:/Users/calvin/Documents/GitHub/pathlib-os-boston-meetup/.venv/Lib/site-packages/IPython/core/magics/history.py'),\n",
       " WindowsPath('c:/Users/calvin/Documents/GitHub/pathlib-os-boston-meetup/.venv/Lib/site-packages/IPython/core/magics/logging.py'),\n",
       " WindowsPath('c:/Users/calvin/Documents/GitHub/pathlib-os-boston-meetup/.venv/Lib/site-packages/IPython/core/magics/namespace.py'),\n",
       " WindowsPath('c:/Users/calvin/Documents/GitHub/pathlib-os-boston-meetup/.venv/Lib/site-packages/IPython/core/magics/osm.py'),\n",
       " WindowsPath('c:/Users/calvin/Documents/GitHub/pathlib-os-boston-meetup/.venv/Lib/site-packages/IPython/core/magics/packaging.py'),\n",
       " WindowsPath('c:/Users/calvin/Documents/GitHub/pathlib-os-boston-meetup/.venv/Lib/site-packages/IPython/core/magics/pylab.py'),\n",
       " WindowsPath('c:/Users/calvin/Documents/GitHub/pathlib-os-boston-meetup/.venv/Lib/site-packages/IPython/core/magics/script.py'),\n",
       " WindowsPath('c:/Users/calvin/Documents/GitHub/pathlib-os-boston-meetup/.venv/Lib/site-packages/IPython/core/magics/__init__.py'),\n",
       " WindowsPath('c:/Users/calvin/Documents/GitHub/pathlib-os-boston-meetup/.venv/Lib/site-packages/IPython/core/tests/bad_all.py'),\n",
       " WindowsPath('c:/Users/calvin/Documents/GitHub/pathlib-os-boston-meetup/.venv/Lib/site-packages/IPython/core/tests/nonascii.py'),\n",
       " WindowsPath('c:/Users/calvin/Documents/GitHub/pathlib-os-boston-meetup/.venv/Lib/site-packages/IPython/core/tests/nonascii2.py'),\n",
       " WindowsPath('c:/Users/calvin/Documents/GitHub/pathlib-os-boston-meetup/.venv/Lib/site-packages/IPython/core/tests/print_argv.py'),\n",
       " WindowsPath('c:/Users/calvin/Documents/GitHub/pathlib-os-boston-meetup/.venv/Lib/site-packages/IPython/core/tests/refbug.py'),\n",
       " WindowsPath('c:/Users/calvin/Documents/GitHub/pathlib-os-boston-meetup/.venv/Lib/site-packages/IPython/core/tests/simpleerr.py'),\n",
       " WindowsPath('c:/Users/calvin/Documents/GitHub/pathlib-os-boston-meetup/.venv/Lib/site-packages/IPython/core/tests/tclass.py'),\n",
       " WindowsPath('c:/Users/calvin/Documents/GitHub/pathlib-os-boston-meetup/.venv/Lib/site-packages/IPython/core/tests/test_alias.py'),\n",
       " WindowsPath('c:/Users/calvin/Documents/GitHub/pathlib-os-boston-meetup/.venv/Lib/site-packages/IPython/core/tests/test_application.py'),\n",
       " WindowsPath('c:/Users/calvin/Documents/GitHub/pathlib-os-boston-meetup/.venv/Lib/site-packages/IPython/core/tests/test_async_helpers.py'),\n",
       " WindowsPath('c:/Users/calvin/Documents/GitHub/pathlib-os-boston-meetup/.venv/Lib/site-packages/IPython/core/tests/test_autocall.py'),\n",
       " WindowsPath('c:/Users/calvin/Documents/GitHub/pathlib-os-boston-meetup/.venv/Lib/site-packages/IPython/core/tests/test_compilerop.py'),\n",
       " WindowsPath('c:/Users/calvin/Documents/GitHub/pathlib-os-boston-meetup/.venv/Lib/site-packages/IPython/core/tests/test_completer.py'),\n",
       " WindowsPath('c:/Users/calvin/Documents/GitHub/pathlib-os-boston-meetup/.venv/Lib/site-packages/IPython/core/tests/test_completerlib.py'),\n",
       " WindowsPath('c:/Users/calvin/Documents/GitHub/pathlib-os-boston-meetup/.venv/Lib/site-packages/IPython/core/tests/test_debugger.py'),\n",
       " WindowsPath('c:/Users/calvin/Documents/GitHub/pathlib-os-boston-meetup/.venv/Lib/site-packages/IPython/core/tests/test_display.py'),\n",
       " WindowsPath('c:/Users/calvin/Documents/GitHub/pathlib-os-boston-meetup/.venv/Lib/site-packages/IPython/core/tests/test_displayhook.py'),\n",
       " WindowsPath('c:/Users/calvin/Documents/GitHub/pathlib-os-boston-meetup/.venv/Lib/site-packages/IPython/core/tests/test_events.py'),\n",
       " WindowsPath('c:/Users/calvin/Documents/GitHub/pathlib-os-boston-meetup/.venv/Lib/site-packages/IPython/core/tests/test_extension.py'),\n",
       " WindowsPath('c:/Users/calvin/Documents/GitHub/pathlib-os-boston-meetup/.venv/Lib/site-packages/IPython/core/tests/test_formatters.py'),\n",
       " WindowsPath('c:/Users/calvin/Documents/GitHub/pathlib-os-boston-meetup/.venv/Lib/site-packages/IPython/core/tests/test_guarded_eval.py'),\n",
       " WindowsPath('c:/Users/calvin/Documents/GitHub/pathlib-os-boston-meetup/.venv/Lib/site-packages/IPython/core/tests/test_handlers.py'),\n",
       " WindowsPath('c:/Users/calvin/Documents/GitHub/pathlib-os-boston-meetup/.venv/Lib/site-packages/IPython/core/tests/test_history.py'),\n",
       " WindowsPath('c:/Users/calvin/Documents/GitHub/pathlib-os-boston-meetup/.venv/Lib/site-packages/IPython/core/tests/test_hooks.py'),\n",
       " WindowsPath('c:/Users/calvin/Documents/GitHub/pathlib-os-boston-meetup/.venv/Lib/site-packages/IPython/core/tests/test_imports.py'),\n",
       " WindowsPath('c:/Users/calvin/Documents/GitHub/pathlib-os-boston-meetup/.venv/Lib/site-packages/IPython/core/tests/test_inputsplitter.py'),\n",
       " WindowsPath('c:/Users/calvin/Documents/GitHub/pathlib-os-boston-meetup/.venv/Lib/site-packages/IPython/core/tests/test_inputtransformer.py'),\n",
       " WindowsPath('c:/Users/calvin/Documents/GitHub/pathlib-os-boston-meetup/.venv/Lib/site-packages/IPython/core/tests/test_inputtransformer2.py'),\n",
       " WindowsPath('c:/Users/calvin/Documents/GitHub/pathlib-os-boston-meetup/.venv/Lib/site-packages/IPython/core/tests/test_inputtransformer2_line.py'),\n",
       " WindowsPath('c:/Users/calvin/Documents/GitHub/pathlib-os-boston-meetup/.venv/Lib/site-packages/IPython/core/tests/test_interactiveshell.py'),\n",
       " WindowsPath('c:/Users/calvin/Documents/GitHub/pathlib-os-boston-meetup/.venv/Lib/site-packages/IPython/core/tests/test_iplib.py'),\n",
       " WindowsPath('c:/Users/calvin/Documents/GitHub/pathlib-os-boston-meetup/.venv/Lib/site-packages/IPython/core/tests/test_logger.py'),\n",
       " WindowsPath('c:/Users/calvin/Documents/GitHub/pathlib-os-boston-meetup/.venv/Lib/site-packages/IPython/core/tests/test_magic.py'),\n",
       " WindowsPath('c:/Users/calvin/Documents/GitHub/pathlib-os-boston-meetup/.venv/Lib/site-packages/IPython/core/tests/test_magic_arguments.py'),\n",
       " WindowsPath('c:/Users/calvin/Documents/GitHub/pathlib-os-boston-meetup/.venv/Lib/site-packages/IPython/core/tests/test_magic_terminal.py'),\n",
       " WindowsPath('c:/Users/calvin/Documents/GitHub/pathlib-os-boston-meetup/.venv/Lib/site-packages/IPython/core/tests/test_oinspect.py'),\n",
       " WindowsPath('c:/Users/calvin/Documents/GitHub/pathlib-os-boston-meetup/.venv/Lib/site-packages/IPython/core/tests/test_page.py'),\n",
       " WindowsPath('c:/Users/calvin/Documents/GitHub/pathlib-os-boston-meetup/.venv/Lib/site-packages/IPython/core/tests/test_paths.py'),\n",
       " WindowsPath('c:/Users/calvin/Documents/GitHub/pathlib-os-boston-meetup/.venv/Lib/site-packages/IPython/core/tests/test_prefilter.py'),\n",
       " WindowsPath('c:/Users/calvin/Documents/GitHub/pathlib-os-boston-meetup/.venv/Lib/site-packages/IPython/core/tests/test_profile.py'),\n",
       " WindowsPath('c:/Users/calvin/Documents/GitHub/pathlib-os-boston-meetup/.venv/Lib/site-packages/IPython/core/tests/test_prompts.py'),\n",
       " WindowsPath('c:/Users/calvin/Documents/GitHub/pathlib-os-boston-meetup/.venv/Lib/site-packages/IPython/core/tests/test_pylabtools.py'),\n",
       " WindowsPath('c:/Users/calvin/Documents/GitHub/pathlib-os-boston-meetup/.venv/Lib/site-packages/IPython/core/tests/test_run.py'),\n",
       " WindowsPath('c:/Users/calvin/Documents/GitHub/pathlib-os-boston-meetup/.venv/Lib/site-packages/IPython/core/tests/test_shellapp.py'),\n",
       " WindowsPath('c:/Users/calvin/Documents/GitHub/pathlib-os-boston-meetup/.venv/Lib/site-packages/IPython/core/tests/test_splitinput.py'),\n",
       " WindowsPath('c:/Users/calvin/Documents/GitHub/pathlib-os-boston-meetup/.venv/Lib/site-packages/IPython/core/tests/test_ultratb.py'),\n",
       " WindowsPath('c:/Users/calvin/Documents/GitHub/pathlib-os-boston-meetup/.venv/Lib/site-packages/IPython/core/tests/__init__.py'),\n",
       " WindowsPath('c:/Users/calvin/Documents/GitHub/pathlib-os-boston-meetup/.venv/Lib/site-packages/IPython/core/tests/daft_extension/daft_extension.py'),\n",
       " WindowsPath('c:/Users/calvin/Documents/GitHub/pathlib-os-boston-meetup/.venv/Lib/site-packages/IPython/extensions/autoreload.py'),\n",
       " WindowsPath('c:/Users/calvin/Documents/GitHub/pathlib-os-boston-meetup/.venv/Lib/site-packages/IPython/extensions/storemagic.py'),\n",
       " WindowsPath('c:/Users/calvin/Documents/GitHub/pathlib-os-boston-meetup/.venv/Lib/site-packages/IPython/extensions/__init__.py'),\n",
       " WindowsPath('c:/Users/calvin/Documents/GitHub/pathlib-os-boston-meetup/.venv/Lib/site-packages/IPython/extensions/tests/test_autoreload.py'),\n",
       " WindowsPath('c:/Users/calvin/Documents/GitHub/pathlib-os-boston-meetup/.venv/Lib/site-packages/IPython/extensions/tests/test_storemagic.py'),\n",
       " WindowsPath('c:/Users/calvin/Documents/GitHub/pathlib-os-boston-meetup/.venv/Lib/site-packages/IPython/extensions/tests/__init__.py'),\n",
       " WindowsPath('c:/Users/calvin/Documents/GitHub/pathlib-os-boston-meetup/.venv/Lib/site-packages/IPython/external/qt_for_kernel.py'),\n",
       " WindowsPath('c:/Users/calvin/Documents/GitHub/pathlib-os-boston-meetup/.venv/Lib/site-packages/IPython/external/qt_loaders.py'),\n",
       " WindowsPath('c:/Users/calvin/Documents/GitHub/pathlib-os-boston-meetup/.venv/Lib/site-packages/IPython/external/__init__.py'),\n",
       " WindowsPath('c:/Users/calvin/Documents/GitHub/pathlib-os-boston-meetup/.venv/Lib/site-packages/IPython/external/tests/test_qt_loaders.py'),\n",
       " WindowsPath('c:/Users/calvin/Documents/GitHub/pathlib-os-boston-meetup/.venv/Lib/site-packages/IPython/external/tests/__init__.py'),\n",
       " WindowsPath('c:/Users/calvin/Documents/GitHub/pathlib-os-boston-meetup/.venv/Lib/site-packages/IPython/lib/backgroundjobs.py'),\n",
       " WindowsPath('c:/Users/calvin/Documents/GitHub/pathlib-os-boston-meetup/.venv/Lib/site-packages/IPython/lib/clipboard.py'),\n",
       " WindowsPath('c:/Users/calvin/Documents/GitHub/pathlib-os-boston-meetup/.venv/Lib/site-packages/IPython/lib/deepreload.py'),\n",
       " WindowsPath('c:/Users/calvin/Documents/GitHub/pathlib-os-boston-meetup/.venv/Lib/site-packages/IPython/lib/demo.py'),\n",
       " WindowsPath('c:/Users/calvin/Documents/GitHub/pathlib-os-boston-meetup/.venv/Lib/site-packages/IPython/lib/display.py'),\n",
       " WindowsPath('c:/Users/calvin/Documents/GitHub/pathlib-os-boston-meetup/.venv/Lib/site-packages/IPython/lib/editorhooks.py'),\n",
       " WindowsPath('c:/Users/calvin/Documents/GitHub/pathlib-os-boston-meetup/.venv/Lib/site-packages/IPython/lib/guisupport.py'),\n",
       " WindowsPath('c:/Users/calvin/Documents/GitHub/pathlib-os-boston-meetup/.venv/Lib/site-packages/IPython/lib/latextools.py'),\n",
       " WindowsPath('c:/Users/calvin/Documents/GitHub/pathlib-os-boston-meetup/.venv/Lib/site-packages/IPython/lib/lexers.py'),\n",
       " WindowsPath('c:/Users/calvin/Documents/GitHub/pathlib-os-boston-meetup/.venv/Lib/site-packages/IPython/lib/pretty.py'),\n",
       " WindowsPath('c:/Users/calvin/Documents/GitHub/pathlib-os-boston-meetup/.venv/Lib/site-packages/IPython/lib/__init__.py'),\n",
       " WindowsPath('c:/Users/calvin/Documents/GitHub/pathlib-os-boston-meetup/.venv/Lib/site-packages/IPython/lib/tests/test_backgroundjobs.py'),\n",
       " WindowsPath('c:/Users/calvin/Documents/GitHub/pathlib-os-boston-meetup/.venv/Lib/site-packages/IPython/lib/tests/test_clipboard.py'),\n",
       " WindowsPath('c:/Users/calvin/Documents/GitHub/pathlib-os-boston-meetup/.venv/Lib/site-packages/IPython/lib/tests/test_deepreload.py'),\n",
       " WindowsPath('c:/Users/calvin/Documents/GitHub/pathlib-os-boston-meetup/.venv/Lib/site-packages/IPython/lib/tests/test_display.py'),\n",
       " WindowsPath('c:/Users/calvin/Documents/GitHub/pathlib-os-boston-meetup/.venv/Lib/site-packages/IPython/lib/tests/test_editorhooks.py'),\n",
       " WindowsPath('c:/Users/calvin/Documents/GitHub/pathlib-os-boston-meetup/.venv/Lib/site-packages/IPython/lib/tests/test_imports.py'),\n",
       " WindowsPath('c:/Users/calvin/Documents/GitHub/pathlib-os-boston-meetup/.venv/Lib/site-packages/IPython/lib/tests/test_latextools.py'),\n",
       " WindowsPath('c:/Users/calvin/Documents/GitHub/pathlib-os-boston-meetup/.venv/Lib/site-packages/IPython/lib/tests/test_lexers.py'),\n",
       " WindowsPath('c:/Users/calvin/Documents/GitHub/pathlib-os-boston-meetup/.venv/Lib/site-packages/IPython/lib/tests/test_pretty.py'),\n",
       " WindowsPath('c:/Users/calvin/Documents/GitHub/pathlib-os-boston-meetup/.venv/Lib/site-packages/IPython/lib/tests/test_pygments.py'),\n",
       " WindowsPath('c:/Users/calvin/Documents/GitHub/pathlib-os-boston-meetup/.venv/Lib/site-packages/IPython/lib/tests/__init__.py'),\n",
       " WindowsPath('c:/Users/calvin/Documents/GitHub/pathlib-os-boston-meetup/.venv/Lib/site-packages/IPython/sphinxext/custom_doctests.py'),\n",
       " WindowsPath('c:/Users/calvin/Documents/GitHub/pathlib-os-boston-meetup/.venv/Lib/site-packages/IPython/sphinxext/ipython_console_highlighting.py'),\n",
       " WindowsPath('c:/Users/calvin/Documents/GitHub/pathlib-os-boston-meetup/.venv/Lib/site-packages/IPython/sphinxext/ipython_directive.py'),\n",
       " WindowsPath('c:/Users/calvin/Documents/GitHub/pathlib-os-boston-meetup/.venv/Lib/site-packages/IPython/sphinxext/__init__.py'),\n",
       " WindowsPath('c:/Users/calvin/Documents/GitHub/pathlib-os-boston-meetup/.venv/Lib/site-packages/IPython/terminal/console.py'),\n",
       " WindowsPath('c:/Users/calvin/Documents/GitHub/pathlib-os-boston-meetup/.venv/Lib/site-packages/IPython/terminal/debugger.py'),\n",
       " WindowsPath('c:/Users/calvin/Documents/GitHub/pathlib-os-boston-meetup/.venv/Lib/site-packages/IPython/terminal/embed.py'),\n",
       " WindowsPath('c:/Users/calvin/Documents/GitHub/pathlib-os-boston-meetup/.venv/Lib/site-packages/IPython/terminal/interactiveshell.py'),\n",
       " WindowsPath('c:/Users/calvin/Documents/GitHub/pathlib-os-boston-meetup/.venv/Lib/site-packages/IPython/terminal/ipapp.py'),\n",
       " WindowsPath('c:/Users/calvin/Documents/GitHub/pathlib-os-boston-meetup/.venv/Lib/site-packages/IPython/terminal/magics.py'),\n",
       " WindowsPath('c:/Users/calvin/Documents/GitHub/pathlib-os-boston-meetup/.venv/Lib/site-packages/IPython/terminal/prompts.py'),\n",
       " WindowsPath('c:/Users/calvin/Documents/GitHub/pathlib-os-boston-meetup/.venv/Lib/site-packages/IPython/terminal/ptutils.py'),\n",
       " WindowsPath('c:/Users/calvin/Documents/GitHub/pathlib-os-boston-meetup/.venv/Lib/site-packages/IPython/terminal/__init__.py'),\n",
       " WindowsPath('c:/Users/calvin/Documents/GitHub/pathlib-os-boston-meetup/.venv/Lib/site-packages/IPython/terminal/pt_inputhooks/asyncio.py'),\n",
       " WindowsPath('c:/Users/calvin/Documents/GitHub/pathlib-os-boston-meetup/.venv/Lib/site-packages/IPython/terminal/pt_inputhooks/glut.py'),\n",
       " WindowsPath('c:/Users/calvin/Documents/GitHub/pathlib-os-boston-meetup/.venv/Lib/site-packages/IPython/terminal/pt_inputhooks/gtk.py'),\n",
       " WindowsPath('c:/Users/calvin/Documents/GitHub/pathlib-os-boston-meetup/.venv/Lib/site-packages/IPython/terminal/pt_inputhooks/gtk3.py'),\n",
       " WindowsPath('c:/Users/calvin/Documents/GitHub/pathlib-os-boston-meetup/.venv/Lib/site-packages/IPython/terminal/pt_inputhooks/gtk4.py'),\n",
       " WindowsPath('c:/Users/calvin/Documents/GitHub/pathlib-os-boston-meetup/.venv/Lib/site-packages/IPython/terminal/pt_inputhooks/osx.py'),\n",
       " WindowsPath('c:/Users/calvin/Documents/GitHub/pathlib-os-boston-meetup/.venv/Lib/site-packages/IPython/terminal/pt_inputhooks/pyglet.py'),\n",
       " WindowsPath('c:/Users/calvin/Documents/GitHub/pathlib-os-boston-meetup/.venv/Lib/site-packages/IPython/terminal/pt_inputhooks/qt.py'),\n",
       " WindowsPath('c:/Users/calvin/Documents/GitHub/pathlib-os-boston-meetup/.venv/Lib/site-packages/IPython/terminal/pt_inputhooks/tk.py'),\n",
       " WindowsPath('c:/Users/calvin/Documents/GitHub/pathlib-os-boston-meetup/.venv/Lib/site-packages/IPython/terminal/pt_inputhooks/wx.py'),\n",
       " WindowsPath('c:/Users/calvin/Documents/GitHub/pathlib-os-boston-meetup/.venv/Lib/site-packages/IPython/terminal/pt_inputhooks/__init__.py'),\n",
       " WindowsPath('c:/Users/calvin/Documents/GitHub/pathlib-os-boston-meetup/.venv/Lib/site-packages/IPython/terminal/shortcuts/auto_match.py'),\n",
       " WindowsPath('c:/Users/calvin/Documents/GitHub/pathlib-os-boston-meetup/.venv/Lib/site-packages/IPython/terminal/shortcuts/auto_suggest.py'),\n",
       " WindowsPath('c:/Users/calvin/Documents/GitHub/pathlib-os-boston-meetup/.venv/Lib/site-packages/IPython/terminal/shortcuts/filters.py'),\n",
       " WindowsPath('c:/Users/calvin/Documents/GitHub/pathlib-os-boston-meetup/.venv/Lib/site-packages/IPython/terminal/shortcuts/__init__.py'),\n",
       " WindowsPath('c:/Users/calvin/Documents/GitHub/pathlib-os-boston-meetup/.venv/Lib/site-packages/IPython/terminal/tests/test_debug_magic.py'),\n",
       " WindowsPath('c:/Users/calvin/Documents/GitHub/pathlib-os-boston-meetup/.venv/Lib/site-packages/IPython/terminal/tests/test_embed.py'),\n",
       " WindowsPath('c:/Users/calvin/Documents/GitHub/pathlib-os-boston-meetup/.venv/Lib/site-packages/IPython/terminal/tests/test_help.py'),\n",
       " WindowsPath('c:/Users/calvin/Documents/GitHub/pathlib-os-boston-meetup/.venv/Lib/site-packages/IPython/terminal/tests/test_interactivshell.py'),\n",
       " WindowsPath('c:/Users/calvin/Documents/GitHub/pathlib-os-boston-meetup/.venv/Lib/site-packages/IPython/terminal/tests/test_pt_inputhooks.py'),\n",
       " WindowsPath('c:/Users/calvin/Documents/GitHub/pathlib-os-boston-meetup/.venv/Lib/site-packages/IPython/terminal/tests/test_shortcuts.py'),\n",
       " WindowsPath('c:/Users/calvin/Documents/GitHub/pathlib-os-boston-meetup/.venv/Lib/site-packages/IPython/terminal/tests/__init__.py'),\n",
       " WindowsPath('c:/Users/calvin/Documents/GitHub/pathlib-os-boston-meetup/.venv/Lib/site-packages/IPython/testing/decorators.py'),\n",
       " WindowsPath('c:/Users/calvin/Documents/GitHub/pathlib-os-boston-meetup/.venv/Lib/site-packages/IPython/testing/globalipapp.py'),\n",
       " WindowsPath('c:/Users/calvin/Documents/GitHub/pathlib-os-boston-meetup/.venv/Lib/site-packages/IPython/testing/ipunittest.py'),\n",
       " WindowsPath('c:/Users/calvin/Documents/GitHub/pathlib-os-boston-meetup/.venv/Lib/site-packages/IPython/testing/skipdoctest.py'),\n",
       " WindowsPath('c:/Users/calvin/Documents/GitHub/pathlib-os-boston-meetup/.venv/Lib/site-packages/IPython/testing/tools.py'),\n",
       " WindowsPath('c:/Users/calvin/Documents/GitHub/pathlib-os-boston-meetup/.venv/Lib/site-packages/IPython/testing/__init__.py'),\n",
       " WindowsPath('c:/Users/calvin/Documents/GitHub/pathlib-os-boston-meetup/.venv/Lib/site-packages/IPython/testing/plugin/dtexample.py'),\n",
       " WindowsPath('c:/Users/calvin/Documents/GitHub/pathlib-os-boston-meetup/.venv/Lib/site-packages/IPython/testing/plugin/ipdoctest.py'),\n",
       " WindowsPath('c:/Users/calvin/Documents/GitHub/pathlib-os-boston-meetup/.venv/Lib/site-packages/IPython/testing/plugin/pytest_ipdoctest.py'),\n",
       " WindowsPath('c:/Users/calvin/Documents/GitHub/pathlib-os-boston-meetup/.venv/Lib/site-packages/IPython/testing/plugin/setup.py'),\n",
       " WindowsPath('c:/Users/calvin/Documents/GitHub/pathlib-os-boston-meetup/.venv/Lib/site-packages/IPython/testing/plugin/simple.py'),\n",
       " WindowsPath('c:/Users/calvin/Documents/GitHub/pathlib-os-boston-meetup/.venv/Lib/site-packages/IPython/testing/plugin/simplevars.py'),\n",
       " WindowsPath('c:/Users/calvin/Documents/GitHub/pathlib-os-boston-meetup/.venv/Lib/site-packages/IPython/testing/plugin/test_ipdoctest.py'),\n",
       " WindowsPath('c:/Users/calvin/Documents/GitHub/pathlib-os-boston-meetup/.venv/Lib/site-packages/IPython/testing/plugin/test_refs.py'),\n",
       " WindowsPath('c:/Users/calvin/Documents/GitHub/pathlib-os-boston-meetup/.venv/Lib/site-packages/IPython/testing/plugin/__init__.py'),\n",
       " WindowsPath('c:/Users/calvin/Documents/GitHub/pathlib-os-boston-meetup/.venv/Lib/site-packages/IPython/testing/tests/test_decorators.py'),\n",
       " WindowsPath('c:/Users/calvin/Documents/GitHub/pathlib-os-boston-meetup/.venv/Lib/site-packages/IPython/testing/tests/test_ipunittest.py'),\n",
       " WindowsPath('c:/Users/calvin/Documents/GitHub/pathlib-os-boston-meetup/.venv/Lib/site-packages/IPython/testing/tests/test_tools.py'),\n",
       " WindowsPath('c:/Users/calvin/Documents/GitHub/pathlib-os-boston-meetup/.venv/Lib/site-packages/IPython/testing/tests/__init__.py'),\n",
       " WindowsPath('c:/Users/calvin/Documents/GitHub/pathlib-os-boston-meetup/.venv/Lib/site-packages/IPython/utils/capture.py'),\n",
       " WindowsPath('c:/Users/calvin/Documents/GitHub/pathlib-os-boston-meetup/.venv/Lib/site-packages/IPython/utils/colorable.py'),\n",
       " WindowsPath('c:/Users/calvin/Documents/GitHub/pathlib-os-boston-meetup/.venv/Lib/site-packages/IPython/utils/coloransi.py'),\n",
       " WindowsPath('c:/Users/calvin/Documents/GitHub/pathlib-os-boston-meetup/.venv/Lib/site-packages/IPython/utils/contexts.py'),\n",
       " WindowsPath('c:/Users/calvin/Documents/GitHub/pathlib-os-boston-meetup/.venv/Lib/site-packages/IPython/utils/daemonize.py'),\n",
       " WindowsPath('c:/Users/calvin/Documents/GitHub/pathlib-os-boston-meetup/.venv/Lib/site-packages/IPython/utils/data.py'),\n",
       " WindowsPath('c:/Users/calvin/Documents/GitHub/pathlib-os-boston-meetup/.venv/Lib/site-packages/IPython/utils/decorators.py'),\n",
       " WindowsPath('c:/Users/calvin/Documents/GitHub/pathlib-os-boston-meetup/.venv/Lib/site-packages/IPython/utils/dir2.py'),\n",
       " WindowsPath('c:/Users/calvin/Documents/GitHub/pathlib-os-boston-meetup/.venv/Lib/site-packages/IPython/utils/docs.py'),\n",
       " WindowsPath('c:/Users/calvin/Documents/GitHub/pathlib-os-boston-meetup/.venv/Lib/site-packages/IPython/utils/encoding.py'),\n",
       " WindowsPath('c:/Users/calvin/Documents/GitHub/pathlib-os-boston-meetup/.venv/Lib/site-packages/IPython/utils/eventful.py'),\n",
       " WindowsPath('c:/Users/calvin/Documents/GitHub/pathlib-os-boston-meetup/.venv/Lib/site-packages/IPython/utils/frame.py'),\n",
       " WindowsPath('c:/Users/calvin/Documents/GitHub/pathlib-os-boston-meetup/.venv/Lib/site-packages/IPython/utils/generics.py'),\n",
       " WindowsPath('c:/Users/calvin/Documents/GitHub/pathlib-os-boston-meetup/.venv/Lib/site-packages/IPython/utils/importstring.py'),\n",
       " WindowsPath('c:/Users/calvin/Documents/GitHub/pathlib-os-boston-meetup/.venv/Lib/site-packages/IPython/utils/io.py'),\n",
       " WindowsPath('c:/Users/calvin/Documents/GitHub/pathlib-os-boston-meetup/.venv/Lib/site-packages/IPython/utils/ipstruct.py'),\n",
       " WindowsPath('c:/Users/calvin/Documents/GitHub/pathlib-os-boston-meetup/.venv/Lib/site-packages/IPython/utils/jsonutil.py'),\n",
       " WindowsPath('c:/Users/calvin/Documents/GitHub/pathlib-os-boston-meetup/.venv/Lib/site-packages/IPython/utils/localinterfaces.py'),\n",
       " WindowsPath('c:/Users/calvin/Documents/GitHub/pathlib-os-boston-meetup/.venv/Lib/site-packages/IPython/utils/log.py'),\n",
       " WindowsPath('c:/Users/calvin/Documents/GitHub/pathlib-os-boston-meetup/.venv/Lib/site-packages/IPython/utils/module_paths.py'),\n",
       " WindowsPath('c:/Users/calvin/Documents/GitHub/pathlib-os-boston-meetup/.venv/Lib/site-packages/IPython/utils/openpy.py'),\n",
       " WindowsPath('c:/Users/calvin/Documents/GitHub/pathlib-os-boston-meetup/.venv/Lib/site-packages/IPython/utils/path.py'),\n",
       " WindowsPath('c:/Users/calvin/Documents/GitHub/pathlib-os-boston-meetup/.venv/Lib/site-packages/IPython/utils/process.py'),\n",
       " WindowsPath('c:/Users/calvin/Documents/GitHub/pathlib-os-boston-meetup/.venv/Lib/site-packages/IPython/utils/py3compat.py'),\n",
       " WindowsPath('c:/Users/calvin/Documents/GitHub/pathlib-os-boston-meetup/.venv/Lib/site-packages/IPython/utils/PyColorize.py'),\n",
       " WindowsPath('c:/Users/calvin/Documents/GitHub/pathlib-os-boston-meetup/.venv/Lib/site-packages/IPython/utils/sentinel.py'),\n",
       " WindowsPath('c:/Users/calvin/Documents/GitHub/pathlib-os-boston-meetup/.venv/Lib/site-packages/IPython/utils/shimmodule.py'),\n",
       " WindowsPath('c:/Users/calvin/Documents/GitHub/pathlib-os-boston-meetup/.venv/Lib/site-packages/IPython/utils/signatures.py'),\n",
       " WindowsPath('c:/Users/calvin/Documents/GitHub/pathlib-os-boston-meetup/.venv/Lib/site-packages/IPython/utils/strdispatch.py'),\n",
       " WindowsPath('c:/Users/calvin/Documents/GitHub/pathlib-os-boston-meetup/.venv/Lib/site-packages/IPython/utils/sysinfo.py'),\n",
       " WindowsPath('c:/Users/calvin/Documents/GitHub/pathlib-os-boston-meetup/.venv/Lib/site-packages/IPython/utils/syspathcontext.py'),\n",
       " WindowsPath('c:/Users/calvin/Documents/GitHub/pathlib-os-boston-meetup/.venv/Lib/site-packages/IPython/utils/tempdir.py'),\n",
       " WindowsPath('c:/Users/calvin/Documents/GitHub/pathlib-os-boston-meetup/.venv/Lib/site-packages/IPython/utils/terminal.py'),\n",
       " WindowsPath('c:/Users/calvin/Documents/GitHub/pathlib-os-boston-meetup/.venv/Lib/site-packages/IPython/utils/text.py'),\n",
       " WindowsPath('c:/Users/calvin/Documents/GitHub/pathlib-os-boston-meetup/.venv/Lib/site-packages/IPython/utils/timing.py'),\n",
       " WindowsPath('c:/Users/calvin/Documents/GitHub/pathlib-os-boston-meetup/.venv/Lib/site-packages/IPython/utils/tokenutil.py'),\n",
       " WindowsPath('c:/Users/calvin/Documents/GitHub/pathlib-os-boston-meetup/.venv/Lib/site-packages/IPython/utils/traitlets.py'),\n",
       " WindowsPath('c:/Users/calvin/Documents/GitHub/pathlib-os-boston-meetup/.venv/Lib/site-packages/IPython/utils/tz.py'),\n",
       " WindowsPath('c:/Users/calvin/Documents/GitHub/pathlib-os-boston-meetup/.venv/Lib/site-packages/IPython/utils/ulinecache.py'),\n",
       " WindowsPath('c:/Users/calvin/Documents/GitHub/pathlib-os-boston-meetup/.venv/Lib/site-packages/IPython/utils/version.py'),\n",
       " WindowsPath('c:/Users/calvin/Documents/GitHub/pathlib-os-boston-meetup/.venv/Lib/site-packages/IPython/utils/wildcard.py'),\n",
       " WindowsPath('c:/Users/calvin/Documents/GitHub/pathlib-os-boston-meetup/.venv/Lib/site-packages/IPython/utils/_process_cli.py'),\n",
       " WindowsPath('c:/Users/calvin/Documents/GitHub/pathlib-os-boston-meetup/.venv/Lib/site-packages/IPython/utils/_process_common.py'),\n",
       " WindowsPath('c:/Users/calvin/Documents/GitHub/pathlib-os-boston-meetup/.venv/Lib/site-packages/IPython/utils/_process_posix.py'),\n",
       " WindowsPath('c:/Users/calvin/Documents/GitHub/pathlib-os-boston-meetup/.venv/Lib/site-packages/IPython/utils/_process_win32.py'),\n",
       " WindowsPath('c:/Users/calvin/Documents/GitHub/pathlib-os-boston-meetup/.venv/Lib/site-packages/IPython/utils/_process_win32_controller.py'),\n",
       " WindowsPath('c:/Users/calvin/Documents/GitHub/pathlib-os-boston-meetup/.venv/Lib/site-packages/IPython/utils/_sysinfo.py'),\n",
       " WindowsPath('c:/Users/calvin/Documents/GitHub/pathlib-os-boston-meetup/.venv/Lib/site-packages/IPython/utils/__init__.py'),\n",
       " WindowsPath('c:/Users/calvin/Documents/GitHub/pathlib-os-boston-meetup/.venv/Lib/site-packages/IPython/utils/tests/test_capture.py'),\n",
       " WindowsPath('c:/Users/calvin/Documents/GitHub/pathlib-os-boston-meetup/.venv/Lib/site-packages/IPython/utils/tests/test_decorators.py'),\n",
       " WindowsPath('c:/Users/calvin/Documents/GitHub/pathlib-os-boston-meetup/.venv/Lib/site-packages/IPython/utils/tests/test_deprecated.py'),\n",
       " WindowsPath('c:/Users/calvin/Documents/GitHub/pathlib-os-boston-meetup/.venv/Lib/site-packages/IPython/utils/tests/test_dir2.py'),\n",
       " WindowsPath('c:/Users/calvin/Documents/GitHub/pathlib-os-boston-meetup/.venv/Lib/site-packages/IPython/utils/tests/test_imports.py'),\n",
       " WindowsPath('c:/Users/calvin/Documents/GitHub/pathlib-os-boston-meetup/.venv/Lib/site-packages/IPython/utils/tests/test_importstring.py'),\n",
       " WindowsPath('c:/Users/calvin/Documents/GitHub/pathlib-os-boston-meetup/.venv/Lib/site-packages/IPython/utils/tests/test_io.py'),\n",
       " WindowsPath('c:/Users/calvin/Documents/GitHub/pathlib-os-boston-meetup/.venv/Lib/site-packages/IPython/utils/tests/test_module_paths.py'),\n",
       " WindowsPath('c:/Users/calvin/Documents/GitHub/pathlib-os-boston-meetup/.venv/Lib/site-packages/IPython/utils/tests/test_openpy.py'),\n",
       " WindowsPath('c:/Users/calvin/Documents/GitHub/pathlib-os-boston-meetup/.venv/Lib/site-packages/IPython/utils/tests/test_path.py'),\n",
       " WindowsPath('c:/Users/calvin/Documents/GitHub/pathlib-os-boston-meetup/.venv/Lib/site-packages/IPython/utils/tests/test_process.py'),\n",
       " WindowsPath('c:/Users/calvin/Documents/GitHub/pathlib-os-boston-meetup/.venv/Lib/site-packages/IPython/utils/tests/test_pycolorize.py'),\n",
       " WindowsPath('c:/Users/calvin/Documents/GitHub/pathlib-os-boston-meetup/.venv/Lib/site-packages/IPython/utils/tests/test_shimmodule.py'),\n",
       " WindowsPath('c:/Users/calvin/Documents/GitHub/pathlib-os-boston-meetup/.venv/Lib/site-packages/IPython/utils/tests/test_sysinfo.py'),\n",
       " WindowsPath('c:/Users/calvin/Documents/GitHub/pathlib-os-boston-meetup/.venv/Lib/site-packages/IPython/utils/tests/test_tempdir.py'),\n",
       " WindowsPath('c:/Users/calvin/Documents/GitHub/pathlib-os-boston-meetup/.venv/Lib/site-packages/IPython/utils/tests/test_text.py'),\n",
       " WindowsPath('c:/Users/calvin/Documents/GitHub/pathlib-os-boston-meetup/.venv/Lib/site-packages/IPython/utils/tests/test_tokenutil.py'),\n",
       " WindowsPath('c:/Users/calvin/Documents/GitHub/pathlib-os-boston-meetup/.venv/Lib/site-packages/IPython/utils/tests/test_wildcard.py'),\n",
       " WindowsPath('c:/Users/calvin/Documents/GitHub/pathlib-os-boston-meetup/.venv/Lib/site-packages/IPython/utils/tests/__init__.py'),\n",
       " WindowsPath('c:/Users/calvin/Documents/GitHub/pathlib-os-boston-meetup/.venv/Lib/site-packages/isapi/install.py'),\n",
       " WindowsPath('c:/Users/calvin/Documents/GitHub/pathlib-os-boston-meetup/.venv/Lib/site-packages/isapi/isapicon.py'),\n",
       " WindowsPath('c:/Users/calvin/Documents/GitHub/pathlib-os-boston-meetup/.venv/Lib/site-packages/isapi/simple.py'),\n",
       " WindowsPath('c:/Users/calvin/Documents/GitHub/pathlib-os-boston-meetup/.venv/Lib/site-packages/isapi/threaded_extension.py'),\n",
       " WindowsPath('c:/Users/calvin/Documents/GitHub/pathlib-os-boston-meetup/.venv/Lib/site-packages/isapi/__init__.py'),\n",
       " WindowsPath('c:/Users/calvin/Documents/GitHub/pathlib-os-boston-meetup/.venv/Lib/site-packages/isapi/samples/advanced.py'),\n",
       " WindowsPath('c:/Users/calvin/Documents/GitHub/pathlib-os-boston-meetup/.venv/Lib/site-packages/isapi/samples/redirector.py'),\n",
       " WindowsPath('c:/Users/calvin/Documents/GitHub/pathlib-os-boston-meetup/.venv/Lib/site-packages/isapi/samples/redirector_asynch.py'),\n",
       " WindowsPath('c:/Users/calvin/Documents/GitHub/pathlib-os-boston-meetup/.venv/Lib/site-packages/isapi/samples/redirector_with_filter.py'),\n",
       " WindowsPath('c:/Users/calvin/Documents/GitHub/pathlib-os-boston-meetup/.venv/Lib/site-packages/isapi/samples/test.py'),\n",
       " WindowsPath('c:/Users/calvin/Documents/GitHub/pathlib-os-boston-meetup/.venv/Lib/site-packages/isapi/test/extension_simple.py'),\n",
       " WindowsPath('c:/Users/calvin/Documents/GitHub/pathlib-os-boston-meetup/.venv/Lib/site-packages/jedi/cache.py'),\n",
       " WindowsPath('c:/Users/calvin/Documents/GitHub/pathlib-os-boston-meetup/.venv/Lib/site-packages/jedi/common.py'),\n",
       " WindowsPath('c:/Users/calvin/Documents/GitHub/pathlib-os-boston-meetup/.venv/Lib/site-packages/jedi/debug.py'),\n",
       " WindowsPath('c:/Users/calvin/Documents/GitHub/pathlib-os-boston-meetup/.venv/Lib/site-packages/jedi/file_io.py'),\n",
       " WindowsPath('c:/Users/calvin/Documents/GitHub/pathlib-os-boston-meetup/.venv/Lib/site-packages/jedi/parser_utils.py'),\n",
       " WindowsPath('c:/Users/calvin/Documents/GitHub/pathlib-os-boston-meetup/.venv/Lib/site-packages/jedi/settings.py'),\n",
       " WindowsPath('c:/Users/calvin/Documents/GitHub/pathlib-os-boston-meetup/.venv/Lib/site-packages/jedi/utils.py'),\n",
       " WindowsPath('c:/Users/calvin/Documents/GitHub/pathlib-os-boston-meetup/.venv/Lib/site-packages/jedi/_compatibility.py'),\n",
       " WindowsPath('c:/Users/calvin/Documents/GitHub/pathlib-os-boston-meetup/.venv/Lib/site-packages/jedi/__init__.py'),\n",
       " WindowsPath('c:/Users/calvin/Documents/GitHub/pathlib-os-boston-meetup/.venv/Lib/site-packages/jedi/__main__.py'),\n",
       " WindowsPath('c:/Users/calvin/Documents/GitHub/pathlib-os-boston-meetup/.venv/Lib/site-packages/jedi/api/classes.py'),\n",
       " WindowsPath('c:/Users/calvin/Documents/GitHub/pathlib-os-boston-meetup/.venv/Lib/site-packages/jedi/api/completion.py'),\n",
       " WindowsPath('c:/Users/calvin/Documents/GitHub/pathlib-os-boston-meetup/.venv/Lib/site-packages/jedi/api/completion_cache.py'),\n",
       " WindowsPath('c:/Users/calvin/Documents/GitHub/pathlib-os-boston-meetup/.venv/Lib/site-packages/jedi/api/environment.py'),\n",
       " WindowsPath('c:/Users/calvin/Documents/GitHub/pathlib-os-boston-meetup/.venv/Lib/site-packages/jedi/api/errors.py'),\n",
       " WindowsPath('c:/Users/calvin/Documents/GitHub/pathlib-os-boston-meetup/.venv/Lib/site-packages/jedi/api/exceptions.py'),\n",
       " WindowsPath('c:/Users/calvin/Documents/GitHub/pathlib-os-boston-meetup/.venv/Lib/site-packages/jedi/api/file_name.py'),\n",
       " WindowsPath('c:/Users/calvin/Documents/GitHub/pathlib-os-boston-meetup/.venv/Lib/site-packages/jedi/api/helpers.py'),\n",
       " WindowsPath('c:/Users/calvin/Documents/GitHub/pathlib-os-boston-meetup/.venv/Lib/site-packages/jedi/api/interpreter.py'),\n",
       " WindowsPath('c:/Users/calvin/Documents/GitHub/pathlib-os-boston-meetup/.venv/Lib/site-packages/jedi/api/keywords.py'),\n",
       " WindowsPath('c:/Users/calvin/Documents/GitHub/pathlib-os-boston-meetup/.venv/Lib/site-packages/jedi/api/project.py'),\n",
       " WindowsPath('c:/Users/calvin/Documents/GitHub/pathlib-os-boston-meetup/.venv/Lib/site-packages/jedi/api/replstartup.py'),\n",
       " WindowsPath('c:/Users/calvin/Documents/GitHub/pathlib-os-boston-meetup/.venv/Lib/site-packages/jedi/api/strings.py'),\n",
       " WindowsPath('c:/Users/calvin/Documents/GitHub/pathlib-os-boston-meetup/.venv/Lib/site-packages/jedi/api/__init__.py'),\n",
       " WindowsPath('c:/Users/calvin/Documents/GitHub/pathlib-os-boston-meetup/.venv/Lib/site-packages/jedi/api/refactoring/extract.py'),\n",
       " WindowsPath('c:/Users/calvin/Documents/GitHub/pathlib-os-boston-meetup/.venv/Lib/site-packages/jedi/api/refactoring/__init__.py'),\n",
       " WindowsPath('c:/Users/calvin/Documents/GitHub/pathlib-os-boston-meetup/.venv/Lib/site-packages/jedi/inference/analysis.py'),\n",
       " WindowsPath('c:/Users/calvin/Documents/GitHub/pathlib-os-boston-meetup/.venv/Lib/site-packages/jedi/inference/arguments.py'),\n",
       " WindowsPath('c:/Users/calvin/Documents/GitHub/pathlib-os-boston-meetup/.venv/Lib/site-packages/jedi/inference/base_value.py'),\n",
       " WindowsPath('c:/Users/calvin/Documents/GitHub/pathlib-os-boston-meetup/.venv/Lib/site-packages/jedi/inference/cache.py'),\n",
       " WindowsPath('c:/Users/calvin/Documents/GitHub/pathlib-os-boston-meetup/.venv/Lib/site-packages/jedi/inference/context.py'),\n",
       " WindowsPath('c:/Users/calvin/Documents/GitHub/pathlib-os-boston-meetup/.venv/Lib/site-packages/jedi/inference/docstrings.py'),\n",
       " WindowsPath('c:/Users/calvin/Documents/GitHub/pathlib-os-boston-meetup/.venv/Lib/site-packages/jedi/inference/docstring_utils.py'),\n",
       " WindowsPath('c:/Users/calvin/Documents/GitHub/pathlib-os-boston-meetup/.venv/Lib/site-packages/jedi/inference/dynamic_params.py'),\n",
       " WindowsPath('c:/Users/calvin/Documents/GitHub/pathlib-os-boston-meetup/.venv/Lib/site-packages/jedi/inference/filters.py'),\n",
       " WindowsPath('c:/Users/calvin/Documents/GitHub/pathlib-os-boston-meetup/.venv/Lib/site-packages/jedi/inference/finder.py'),\n",
       " WindowsPath('c:/Users/calvin/Documents/GitHub/pathlib-os-boston-meetup/.venv/Lib/site-packages/jedi/inference/flow_analysis.py'),\n",
       " WindowsPath('c:/Users/calvin/Documents/GitHub/pathlib-os-boston-meetup/.venv/Lib/site-packages/jedi/inference/helpers.py'),\n",
       " WindowsPath('c:/Users/calvin/Documents/GitHub/pathlib-os-boston-meetup/.venv/Lib/site-packages/jedi/inference/imports.py'),\n",
       " WindowsPath('c:/Users/calvin/Documents/GitHub/pathlib-os-boston-meetup/.venv/Lib/site-packages/jedi/inference/lazy_value.py'),\n",
       " WindowsPath('c:/Users/calvin/Documents/GitHub/pathlib-os-boston-meetup/.venv/Lib/site-packages/jedi/inference/names.py'),\n",
       " WindowsPath('c:/Users/calvin/Documents/GitHub/pathlib-os-boston-meetup/.venv/Lib/site-packages/jedi/inference/param.py'),\n",
       " WindowsPath('c:/Users/calvin/Documents/GitHub/pathlib-os-boston-meetup/.venv/Lib/site-packages/jedi/inference/parser_cache.py'),\n",
       " WindowsPath('c:/Users/calvin/Documents/GitHub/pathlib-os-boston-meetup/.venv/Lib/site-packages/jedi/inference/recursion.py'),\n",
       " WindowsPath('c:/Users/calvin/Documents/GitHub/pathlib-os-boston-meetup/.venv/Lib/site-packages/jedi/inference/references.py'),\n",
       " WindowsPath('c:/Users/calvin/Documents/GitHub/pathlib-os-boston-meetup/.venv/Lib/site-packages/jedi/inference/signature.py'),\n",
       " WindowsPath('c:/Users/calvin/Documents/GitHub/pathlib-os-boston-meetup/.venv/Lib/site-packages/jedi/inference/star_args.py'),\n",
       " WindowsPath('c:/Users/calvin/Documents/GitHub/pathlib-os-boston-meetup/.venv/Lib/site-packages/jedi/inference/syntax_tree.py'),\n",
       " WindowsPath('c:/Users/calvin/Documents/GitHub/pathlib-os-boston-meetup/.venv/Lib/site-packages/jedi/inference/sys_path.py'),\n",
       " WindowsPath('c:/Users/calvin/Documents/GitHub/pathlib-os-boston-meetup/.venv/Lib/site-packages/jedi/inference/utils.py'),\n",
       " WindowsPath('c:/Users/calvin/Documents/GitHub/pathlib-os-boston-meetup/.venv/Lib/site-packages/jedi/inference/__init__.py'),\n",
       " WindowsPath('c:/Users/calvin/Documents/GitHub/pathlib-os-boston-meetup/.venv/Lib/site-packages/jedi/inference/compiled/access.py'),\n",
       " WindowsPath('c:/Users/calvin/Documents/GitHub/pathlib-os-boston-meetup/.venv/Lib/site-packages/jedi/inference/compiled/getattr_static.py'),\n",
       " WindowsPath('c:/Users/calvin/Documents/GitHub/pathlib-os-boston-meetup/.venv/Lib/site-packages/jedi/inference/compiled/mixed.py'),\n",
       " WindowsPath('c:/Users/calvin/Documents/GitHub/pathlib-os-boston-meetup/.venv/Lib/site-packages/jedi/inference/compiled/value.py'),\n",
       " WindowsPath('c:/Users/calvin/Documents/GitHub/pathlib-os-boston-meetup/.venv/Lib/site-packages/jedi/inference/compiled/__init__.py'),\n",
       " WindowsPath('c:/Users/calvin/Documents/GitHub/pathlib-os-boston-meetup/.venv/Lib/site-packages/jedi/inference/compiled/subprocess/functions.py'),\n",
       " WindowsPath('c:/Users/calvin/Documents/GitHub/pathlib-os-boston-meetup/.venv/Lib/site-packages/jedi/inference/compiled/subprocess/__init__.py'),\n",
       " WindowsPath('c:/Users/calvin/Documents/GitHub/pathlib-os-boston-meetup/.venv/Lib/site-packages/jedi/inference/compiled/subprocess/__main__.py'),\n",
       " WindowsPath('c:/Users/calvin/Documents/GitHub/pathlib-os-boston-meetup/.venv/Lib/site-packages/jedi/inference/gradual/annotation.py'),\n",
       " WindowsPath('c:/Users/calvin/Documents/GitHub/pathlib-os-boston-meetup/.venv/Lib/site-packages/jedi/inference/gradual/base.py'),\n",
       " WindowsPath('c:/Users/calvin/Documents/GitHub/pathlib-os-boston-meetup/.venv/Lib/site-packages/jedi/inference/gradual/conversion.py'),\n",
       " WindowsPath('c:/Users/calvin/Documents/GitHub/pathlib-os-boston-meetup/.venv/Lib/site-packages/jedi/inference/gradual/generics.py'),\n",
       " WindowsPath('c:/Users/calvin/Documents/GitHub/pathlib-os-boston-meetup/.venv/Lib/site-packages/jedi/inference/gradual/stub_value.py'),\n",
       " WindowsPath('c:/Users/calvin/Documents/GitHub/pathlib-os-boston-meetup/.venv/Lib/site-packages/jedi/inference/gradual/typeshed.py'),\n",
       " WindowsPath('c:/Users/calvin/Documents/GitHub/pathlib-os-boston-meetup/.venv/Lib/site-packages/jedi/inference/gradual/type_var.py'),\n",
       " WindowsPath('c:/Users/calvin/Documents/GitHub/pathlib-os-boston-meetup/.venv/Lib/site-packages/jedi/inference/gradual/typing.py'),\n",
       " WindowsPath('c:/Users/calvin/Documents/GitHub/pathlib-os-boston-meetup/.venv/Lib/site-packages/jedi/inference/gradual/utils.py'),\n",
       " WindowsPath('c:/Users/calvin/Documents/GitHub/pathlib-os-boston-meetup/.venv/Lib/site-packages/jedi/inference/gradual/__init__.py'),\n",
       " WindowsPath('c:/Users/calvin/Documents/GitHub/pathlib-os-boston-meetup/.venv/Lib/site-packages/jedi/inference/value/decorator.py'),\n",
       " WindowsPath('c:/Users/calvin/Documents/GitHub/pathlib-os-boston-meetup/.venv/Lib/site-packages/jedi/inference/value/dynamic_arrays.py'),\n",
       " WindowsPath('c:/Users/calvin/Documents/GitHub/pathlib-os-boston-meetup/.venv/Lib/site-packages/jedi/inference/value/function.py'),\n",
       " WindowsPath('c:/Users/calvin/Documents/GitHub/pathlib-os-boston-meetup/.venv/Lib/site-packages/jedi/inference/value/instance.py'),\n",
       " WindowsPath('c:/Users/calvin/Documents/GitHub/pathlib-os-boston-meetup/.venv/Lib/site-packages/jedi/inference/value/iterable.py'),\n",
       " WindowsPath('c:/Users/calvin/Documents/GitHub/pathlib-os-boston-meetup/.venv/Lib/site-packages/jedi/inference/value/klass.py'),\n",
       " WindowsPath('c:/Users/calvin/Documents/GitHub/pathlib-os-boston-meetup/.venv/Lib/site-packages/jedi/inference/value/module.py'),\n",
       " WindowsPath('c:/Users/calvin/Documents/GitHub/pathlib-os-boston-meetup/.venv/Lib/site-packages/jedi/inference/value/namespace.py'),\n",
       " WindowsPath('c:/Users/calvin/Documents/GitHub/pathlib-os-boston-meetup/.venv/Lib/site-packages/jedi/inference/value/__init__.py'),\n",
       " WindowsPath('c:/Users/calvin/Documents/GitHub/pathlib-os-boston-meetup/.venv/Lib/site-packages/jedi/plugins/django.py'),\n",
       " WindowsPath('c:/Users/calvin/Documents/GitHub/pathlib-os-boston-meetup/.venv/Lib/site-packages/jedi/plugins/flask.py'),\n",
       " WindowsPath('c:/Users/calvin/Documents/GitHub/pathlib-os-boston-meetup/.venv/Lib/site-packages/jedi/plugins/pytest.py'),\n",
       " WindowsPath('c:/Users/calvin/Documents/GitHub/pathlib-os-boston-meetup/.venv/Lib/site-packages/jedi/plugins/registry.py'),\n",
       " WindowsPath('c:/Users/calvin/Documents/GitHub/pathlib-os-boston-meetup/.venv/Lib/site-packages/jedi/plugins/stdlib.py'),\n",
       " WindowsPath('c:/Users/calvin/Documents/GitHub/pathlib-os-boston-meetup/.venv/Lib/site-packages/jedi/plugins/__init__.py'),\n",
       " WindowsPath('c:/Users/calvin/Documents/GitHub/pathlib-os-boston-meetup/.venv/Lib/site-packages/jupyter_client/adapter.py'),\n",
       " WindowsPath('c:/Users/calvin/Documents/GitHub/pathlib-os-boston-meetup/.venv/Lib/site-packages/jupyter_client/channels.py'),\n",
       " WindowsPath('c:/Users/calvin/Documents/GitHub/pathlib-os-boston-meetup/.venv/Lib/site-packages/jupyter_client/channelsabc.py'),\n",
       " WindowsPath('c:/Users/calvin/Documents/GitHub/pathlib-os-boston-meetup/.venv/Lib/site-packages/jupyter_client/client.py'),\n",
       " WindowsPath('c:/Users/calvin/Documents/GitHub/pathlib-os-boston-meetup/.venv/Lib/site-packages/jupyter_client/clientabc.py'),\n",
       " WindowsPath('c:/Users/calvin/Documents/GitHub/pathlib-os-boston-meetup/.venv/Lib/site-packages/jupyter_client/connect.py'),\n",
       " WindowsPath('c:/Users/calvin/Documents/GitHub/pathlib-os-boston-meetup/.venv/Lib/site-packages/jupyter_client/consoleapp.py'),\n",
       " WindowsPath('c:/Users/calvin/Documents/GitHub/pathlib-os-boston-meetup/.venv/Lib/site-packages/jupyter_client/jsonutil.py'),\n",
       " WindowsPath('c:/Users/calvin/Documents/GitHub/pathlib-os-boston-meetup/.venv/Lib/site-packages/jupyter_client/kernelapp.py'),\n",
       " WindowsPath('c:/Users/calvin/Documents/GitHub/pathlib-os-boston-meetup/.venv/Lib/site-packages/jupyter_client/kernelspec.py'),\n",
       " WindowsPath('c:/Users/calvin/Documents/GitHub/pathlib-os-boston-meetup/.venv/Lib/site-packages/jupyter_client/kernelspecapp.py'),\n",
       " WindowsPath('c:/Users/calvin/Documents/GitHub/pathlib-os-boston-meetup/.venv/Lib/site-packages/jupyter_client/launcher.py'),\n",
       " WindowsPath('c:/Users/calvin/Documents/GitHub/pathlib-os-boston-meetup/.venv/Lib/site-packages/jupyter_client/localinterfaces.py'),\n",
       " WindowsPath('c:/Users/calvin/Documents/GitHub/pathlib-os-boston-meetup/.venv/Lib/site-packages/jupyter_client/manager.py'),\n",
       " WindowsPath('c:/Users/calvin/Documents/GitHub/pathlib-os-boston-meetup/.venv/Lib/site-packages/jupyter_client/managerabc.py'),\n",
       " WindowsPath('c:/Users/calvin/Documents/GitHub/pathlib-os-boston-meetup/.venv/Lib/site-packages/jupyter_client/multikernelmanager.py'),\n",
       " WindowsPath('c:/Users/calvin/Documents/GitHub/pathlib-os-boston-meetup/.venv/Lib/site-packages/jupyter_client/restarter.py'),\n",
       " WindowsPath('c:/Users/calvin/Documents/GitHub/pathlib-os-boston-meetup/.venv/Lib/site-packages/jupyter_client/runapp.py'),\n",
       " WindowsPath('c:/Users/calvin/Documents/GitHub/pathlib-os-boston-meetup/.venv/Lib/site-packages/jupyter_client/session.py'),\n",
       " WindowsPath('c:/Users/calvin/Documents/GitHub/pathlib-os-boston-meetup/.venv/Lib/site-packages/jupyter_client/threaded.py'),\n",
       " WindowsPath('c:/Users/calvin/Documents/GitHub/pathlib-os-boston-meetup/.venv/Lib/site-packages/jupyter_client/utils.py'),\n",
       " WindowsPath('c:/Users/calvin/Documents/GitHub/pathlib-os-boston-meetup/.venv/Lib/site-packages/jupyter_client/win_interrupt.py'),\n",
       " WindowsPath('c:/Users/calvin/Documents/GitHub/pathlib-os-boston-meetup/.venv/Lib/site-packages/jupyter_client/_version.py'),\n",
       " WindowsPath('c:/Users/calvin/Documents/GitHub/pathlib-os-boston-meetup/.venv/Lib/site-packages/jupyter_client/__init__.py'),\n",
       " WindowsPath('c:/Users/calvin/Documents/GitHub/pathlib-os-boston-meetup/.venv/Lib/site-packages/jupyter_client/asynchronous/client.py'),\n",
       " WindowsPath('c:/Users/calvin/Documents/GitHub/pathlib-os-boston-meetup/.venv/Lib/site-packages/jupyter_client/asynchronous/__init__.py'),\n",
       " WindowsPath('c:/Users/calvin/Documents/GitHub/pathlib-os-boston-meetup/.venv/Lib/site-packages/jupyter_client/blocking/client.py'),\n",
       " WindowsPath('c:/Users/calvin/Documents/GitHub/pathlib-os-boston-meetup/.venv/Lib/site-packages/jupyter_client/blocking/__init__.py'),\n",
       " WindowsPath('c:/Users/calvin/Documents/GitHub/pathlib-os-boston-meetup/.venv/Lib/site-packages/jupyter_client/ioloop/manager.py'),\n",
       " WindowsPath('c:/Users/calvin/Documents/GitHub/pathlib-os-boston-meetup/.venv/Lib/site-packages/jupyter_client/ioloop/restarter.py'),\n",
       " WindowsPath('c:/Users/calvin/Documents/GitHub/pathlib-os-boston-meetup/.venv/Lib/site-packages/jupyter_client/ioloop/__init__.py'),\n",
       " WindowsPath('c:/Users/calvin/Documents/GitHub/pathlib-os-boston-meetup/.venv/Lib/site-packages/jupyter_client/provisioning/factory.py'),\n",
       " WindowsPath('c:/Users/calvin/Documents/GitHub/pathlib-os-boston-meetup/.venv/Lib/site-packages/jupyter_client/provisioning/local_provisioner.py'),\n",
       " WindowsPath('c:/Users/calvin/Documents/GitHub/pathlib-os-boston-meetup/.venv/Lib/site-packages/jupyter_client/provisioning/provisioner_base.py'),\n",
       " WindowsPath('c:/Users/calvin/Documents/GitHub/pathlib-os-boston-meetup/.venv/Lib/site-packages/jupyter_client/provisioning/__init__.py'),\n",
       " WindowsPath('c:/Users/calvin/Documents/GitHub/pathlib-os-boston-meetup/.venv/Lib/site-packages/jupyter_client/ssh/forward.py'),\n",
       " WindowsPath('c:/Users/calvin/Documents/GitHub/pathlib-os-boston-meetup/.venv/Lib/site-packages/jupyter_client/ssh/tunnel.py'),\n",
       " WindowsPath('c:/Users/calvin/Documents/GitHub/pathlib-os-boston-meetup/.venv/Lib/site-packages/jupyter_client/ssh/__init__.py'),\n",
       " WindowsPath('c:/Users/calvin/Documents/GitHub/pathlib-os-boston-meetup/.venv/Lib/site-packages/jupyter_core/application.py'),\n",
       " WindowsPath('c:/Users/calvin/Documents/GitHub/pathlib-os-boston-meetup/.venv/Lib/site-packages/jupyter_core/command.py'),\n",
       " WindowsPath('c:/Users/calvin/Documents/GitHub/pathlib-os-boston-meetup/.venv/Lib/site-packages/jupyter_core/migrate.py'),\n",
       " WindowsPath('c:/Users/calvin/Documents/GitHub/pathlib-os-boston-meetup/.venv/Lib/site-packages/jupyter_core/paths.py'),\n",
       " WindowsPath('c:/Users/calvin/Documents/GitHub/pathlib-os-boston-meetup/.venv/Lib/site-packages/jupyter_core/troubleshoot.py'),\n",
       " WindowsPath('c:/Users/calvin/Documents/GitHub/pathlib-os-boston-meetup/.venv/Lib/site-packages/jupyter_core/version.py'),\n",
       " WindowsPath('c:/Users/calvin/Documents/GitHub/pathlib-os-boston-meetup/.venv/Lib/site-packages/jupyter_core/__init__.py'),\n",
       " WindowsPath('c:/Users/calvin/Documents/GitHub/pathlib-os-boston-meetup/.venv/Lib/site-packages/jupyter_core/__main__.py'),\n",
       " WindowsPath('c:/Users/calvin/Documents/GitHub/pathlib-os-boston-meetup/.venv/Lib/site-packages/jupyter_core/tests/mocking.py'),\n",
       " WindowsPath('c:/Users/calvin/Documents/GitHub/pathlib-os-boston-meetup/.venv/Lib/site-packages/jupyter_core/tests/test_application.py'),\n",
       " WindowsPath('c:/Users/calvin/Documents/GitHub/pathlib-os-boston-meetup/.venv/Lib/site-packages/jupyter_core/tests/test_async.py'),\n",
       " WindowsPath('c:/Users/calvin/Documents/GitHub/pathlib-os-boston-meetup/.venv/Lib/site-packages/jupyter_core/tests/test_command.py'),\n",
       " WindowsPath('c:/Users/calvin/Documents/GitHub/pathlib-os-boston-meetup/.venv/Lib/site-packages/jupyter_core/tests/test_migrate.py'),\n",
       " WindowsPath('c:/Users/calvin/Documents/GitHub/pathlib-os-boston-meetup/.venv/Lib/site-packages/jupyter_core/tests/test_paths.py'),\n",
       " WindowsPath('c:/Users/calvin/Documents/GitHub/pathlib-os-boston-meetup/.venv/Lib/site-packages/jupyter_core/tests/__init__.py'),\n",
       " WindowsPath('c:/Users/calvin/Documents/GitHub/pathlib-os-boston-meetup/.venv/Lib/site-packages/jupyter_core/tests/dotipython/profile_default/ipython_config.py'),\n",
       " WindowsPath('c:/Users/calvin/Documents/GitHub/pathlib-os-boston-meetup/.venv/Lib/site-packages/jupyter_core/tests/dotipython/profile_default/ipython_console_config.py'),\n",
       " WindowsPath('c:/Users/calvin/Documents/GitHub/pathlib-os-boston-meetup/.venv/Lib/site-packages/jupyter_core/tests/dotipython/profile_default/ipython_kernel_config.py'),\n",
       " WindowsPath('c:/Users/calvin/Documents/GitHub/pathlib-os-boston-meetup/.venv/Lib/site-packages/jupyter_core/tests/dotipython/profile_default/ipython_nbconvert_config.py'),\n",
       " WindowsPath('c:/Users/calvin/Documents/GitHub/pathlib-os-boston-meetup/.venv/Lib/site-packages/jupyter_core/tests/dotipython/profile_default/ipython_notebook_config.py'),\n",
       " WindowsPath('c:/Users/calvin/Documents/GitHub/pathlib-os-boston-meetup/.venv/Lib/site-packages/jupyter_core/tests/dotipython_empty/profile_default/ipython_config.py'),\n",
       " WindowsPath('c:/Users/calvin/Documents/GitHub/pathlib-os-boston-meetup/.venv/Lib/site-packages/jupyter_core/tests/dotipython_empty/profile_default/ipython_console_config.py'),\n",
       " WindowsPath('c:/Users/calvin/Documents/GitHub/pathlib-os-boston-meetup/.venv/Lib/site-packages/jupyter_core/tests/dotipython_empty/profile_default/ipython_kernel_config.py'),\n",
       " WindowsPath('c:/Users/calvin/Documents/GitHub/pathlib-os-boston-meetup/.venv/Lib/site-packages/jupyter_core/tests/dotipython_empty/profile_default/ipython_nbconvert_config.py'),\n",
       " WindowsPath('c:/Users/calvin/Documents/GitHub/pathlib-os-boston-meetup/.venv/Lib/site-packages/jupyter_core/tests/dotipython_empty/profile_default/ipython_notebook_config.py'),\n",
       " WindowsPath('c:/Users/calvin/Documents/GitHub/pathlib-os-boston-meetup/.venv/Lib/site-packages/jupyter_core/utils/__init__.py'),\n",
       " WindowsPath('c:/Users/calvin/Documents/GitHub/pathlib-os-boston-meetup/.venv/Lib/site-packages/matplotlib_inline/backend_inline.py'),\n",
       " WindowsPath('c:/Users/calvin/Documents/GitHub/pathlib-os-boston-meetup/.venv/Lib/site-packages/matplotlib_inline/config.py'),\n",
       " WindowsPath('c:/Users/calvin/Documents/GitHub/pathlib-os-boston-meetup/.venv/Lib/site-packages/matplotlib_inline/__init__.py'),\n",
       " WindowsPath('c:/Users/calvin/Documents/GitHub/pathlib-os-boston-meetup/.venv/Lib/site-packages/packaging/markers.py'),\n",
       " WindowsPath('c:/Users/calvin/Documents/GitHub/pathlib-os-boston-meetup/.venv/Lib/site-packages/packaging/metadata.py'),\n",
       " WindowsPath('c:/Users/calvin/Documents/GitHub/pathlib-os-boston-meetup/.venv/Lib/site-packages/packaging/requirements.py'),\n",
       " WindowsPath('c:/Users/calvin/Documents/GitHub/pathlib-os-boston-meetup/.venv/Lib/site-packages/packaging/specifiers.py'),\n",
       " WindowsPath('c:/Users/calvin/Documents/GitHub/pathlib-os-boston-meetup/.venv/Lib/site-packages/packaging/tags.py'),\n",
       " WindowsPath('c:/Users/calvin/Documents/GitHub/pathlib-os-boston-meetup/.venv/Lib/site-packages/packaging/utils.py'),\n",
       " WindowsPath('c:/Users/calvin/Documents/GitHub/pathlib-os-boston-meetup/.venv/Lib/site-packages/packaging/version.py'),\n",
       " WindowsPath('c:/Users/calvin/Documents/GitHub/pathlib-os-boston-meetup/.venv/Lib/site-packages/packaging/_elffile.py'),\n",
       " WindowsPath('c:/Users/calvin/Documents/GitHub/pathlib-os-boston-meetup/.venv/Lib/site-packages/packaging/_manylinux.py'),\n",
       " WindowsPath('c:/Users/calvin/Documents/GitHub/pathlib-os-boston-meetup/.venv/Lib/site-packages/packaging/_musllinux.py'),\n",
       " WindowsPath('c:/Users/calvin/Documents/GitHub/pathlib-os-boston-meetup/.venv/Lib/site-packages/packaging/_parser.py'),\n",
       " WindowsPath('c:/Users/calvin/Documents/GitHub/pathlib-os-boston-meetup/.venv/Lib/site-packages/packaging/_structures.py'),\n",
       " WindowsPath('c:/Users/calvin/Documents/GitHub/pathlib-os-boston-meetup/.venv/Lib/site-packages/packaging/_tokenizer.py'),\n",
       " WindowsPath('c:/Users/calvin/Documents/GitHub/pathlib-os-boston-meetup/.venv/Lib/site-packages/packaging/__init__.py'),\n",
       " WindowsPath('c:/Users/calvin/Documents/GitHub/pathlib-os-boston-meetup/.venv/Lib/site-packages/parso/cache.py'),\n",
       " WindowsPath('c:/Users/calvin/Documents/GitHub/pathlib-os-boston-meetup/.venv/Lib/site-packages/parso/file_io.py'),\n",
       " WindowsPath('c:/Users/calvin/Documents/GitHub/pathlib-os-boston-meetup/.venv/Lib/site-packages/parso/grammar.py'),\n",
       " WindowsPath('c:/Users/calvin/Documents/GitHub/pathlib-os-boston-meetup/.venv/Lib/site-packages/parso/normalizer.py'),\n",
       " WindowsPath('c:/Users/calvin/Documents/GitHub/pathlib-os-boston-meetup/.venv/Lib/site-packages/parso/parser.py'),\n",
       " WindowsPath('c:/Users/calvin/Documents/GitHub/pathlib-os-boston-meetup/.venv/Lib/site-packages/parso/tree.py'),\n",
       " WindowsPath('c:/Users/calvin/Documents/GitHub/pathlib-os-boston-meetup/.venv/Lib/site-packages/parso/utils.py'),\n",
       " WindowsPath('c:/Users/calvin/Documents/GitHub/pathlib-os-boston-meetup/.venv/Lib/site-packages/parso/_compatibility.py'),\n",
       " WindowsPath('c:/Users/calvin/Documents/GitHub/pathlib-os-boston-meetup/.venv/Lib/site-packages/parso/__init__.py'),\n",
       " WindowsPath('c:/Users/calvin/Documents/GitHub/pathlib-os-boston-meetup/.venv/Lib/site-packages/parso/pgen2/generator.py'),\n",
       " WindowsPath('c:/Users/calvin/Documents/GitHub/pathlib-os-boston-meetup/.venv/Lib/site-packages/parso/pgen2/grammar_parser.py'),\n",
       " WindowsPath('c:/Users/calvin/Documents/GitHub/pathlib-os-boston-meetup/.venv/Lib/site-packages/parso/pgen2/__init__.py'),\n",
       " WindowsPath('c:/Users/calvin/Documents/GitHub/pathlib-os-boston-meetup/.venv/Lib/site-packages/parso/python/diff.py'),\n",
       " WindowsPath('c:/Users/calvin/Documents/GitHub/pathlib-os-boston-meetup/.venv/Lib/site-packages/parso/python/errors.py'),\n",
       " WindowsPath('c:/Users/calvin/Documents/GitHub/pathlib-os-boston-meetup/.venv/Lib/site-packages/parso/python/parser.py'),\n",
       " WindowsPath('c:/Users/calvin/Documents/GitHub/pathlib-os-boston-meetup/.venv/Lib/site-packages/parso/python/pep8.py'),\n",
       " WindowsPath('c:/Users/calvin/Documents/GitHub/pathlib-os-boston-meetup/.venv/Lib/site-packages/parso/python/prefix.py'),\n",
       " WindowsPath('c:/Users/calvin/Documents/GitHub/pathlib-os-boston-meetup/.venv/Lib/site-packages/parso/python/token.py'),\n",
       " WindowsPath('c:/Users/calvin/Documents/GitHub/pathlib-os-boston-meetup/.venv/Lib/site-packages/parso/python/tokenize.py'),\n",
       " WindowsPath('c:/Users/calvin/Documents/GitHub/pathlib-os-boston-meetup/.venv/Lib/site-packages/parso/python/tree.py'),\n",
       " WindowsPath('c:/Users/calvin/Documents/GitHub/pathlib-os-boston-meetup/.venv/Lib/site-packages/parso/python/__init__.py'),\n",
       " WindowsPath('c:/Users/calvin/Documents/GitHub/pathlib-os-boston-meetup/.venv/Lib/site-packages/pip/__init__.py'),\n",
       " WindowsPath('c:/Users/calvin/Documents/GitHub/pathlib-os-boston-meetup/.venv/Lib/site-packages/pip/__main__.py'),\n",
       " WindowsPath('c:/Users/calvin/Documents/GitHub/pathlib-os-boston-meetup/.venv/Lib/site-packages/pip/__pip-runner__.py'),\n",
       " WindowsPath('c:/Users/calvin/Documents/GitHub/pathlib-os-boston-meetup/.venv/Lib/site-packages/pip/_internal/build_env.py'),\n",
       " WindowsPath('c:/Users/calvin/Documents/GitHub/pathlib-os-boston-meetup/.venv/Lib/site-packages/pip/_internal/cache.py'),\n",
       " WindowsPath('c:/Users/calvin/Documents/GitHub/pathlib-os-boston-meetup/.venv/Lib/site-packages/pip/_internal/configuration.py'),\n",
       " WindowsPath('c:/Users/calvin/Documents/GitHub/pathlib-os-boston-meetup/.venv/Lib/site-packages/pip/_internal/exceptions.py'),\n",
       " WindowsPath('c:/Users/calvin/Documents/GitHub/pathlib-os-boston-meetup/.venv/Lib/site-packages/pip/_internal/main.py'),\n",
       " WindowsPath('c:/Users/calvin/Documents/GitHub/pathlib-os-boston-meetup/.venv/Lib/site-packages/pip/_internal/pyproject.py'),\n",
       " WindowsPath('c:/Users/calvin/Documents/GitHub/pathlib-os-boston-meetup/.venv/Lib/site-packages/pip/_internal/self_outdated_check.py'),\n",
       " WindowsPath('c:/Users/calvin/Documents/GitHub/pathlib-os-boston-meetup/.venv/Lib/site-packages/pip/_internal/wheel_builder.py'),\n",
       " WindowsPath('c:/Users/calvin/Documents/GitHub/pathlib-os-boston-meetup/.venv/Lib/site-packages/pip/_internal/__init__.py'),\n",
       " WindowsPath('c:/Users/calvin/Documents/GitHub/pathlib-os-boston-meetup/.venv/Lib/site-packages/pip/_internal/cli/autocompletion.py'),\n",
       " WindowsPath('c:/Users/calvin/Documents/GitHub/pathlib-os-boston-meetup/.venv/Lib/site-packages/pip/_internal/cli/base_command.py'),\n",
       " WindowsPath('c:/Users/calvin/Documents/GitHub/pathlib-os-boston-meetup/.venv/Lib/site-packages/pip/_internal/cli/cmdoptions.py'),\n",
       " WindowsPath('c:/Users/calvin/Documents/GitHub/pathlib-os-boston-meetup/.venv/Lib/site-packages/pip/_internal/cli/command_context.py'),\n",
       " WindowsPath('c:/Users/calvin/Documents/GitHub/pathlib-os-boston-meetup/.venv/Lib/site-packages/pip/_internal/cli/main.py'),\n",
       " WindowsPath('c:/Users/calvin/Documents/GitHub/pathlib-os-boston-meetup/.venv/Lib/site-packages/pip/_internal/cli/main_parser.py'),\n",
       " WindowsPath('c:/Users/calvin/Documents/GitHub/pathlib-os-boston-meetup/.venv/Lib/site-packages/pip/_internal/cli/parser.py'),\n",
       " WindowsPath('c:/Users/calvin/Documents/GitHub/pathlib-os-boston-meetup/.venv/Lib/site-packages/pip/_internal/cli/progress_bars.py'),\n",
       " WindowsPath('c:/Users/calvin/Documents/GitHub/pathlib-os-boston-meetup/.venv/Lib/site-packages/pip/_internal/cli/req_command.py'),\n",
       " WindowsPath('c:/Users/calvin/Documents/GitHub/pathlib-os-boston-meetup/.venv/Lib/site-packages/pip/_internal/cli/spinners.py'),\n",
       " WindowsPath('c:/Users/calvin/Documents/GitHub/pathlib-os-boston-meetup/.venv/Lib/site-packages/pip/_internal/cli/status_codes.py'),\n",
       " WindowsPath('c:/Users/calvin/Documents/GitHub/pathlib-os-boston-meetup/.venv/Lib/site-packages/pip/_internal/cli/__init__.py'),\n",
       " WindowsPath('c:/Users/calvin/Documents/GitHub/pathlib-os-boston-meetup/.venv/Lib/site-packages/pip/_internal/commands/cache.py'),\n",
       " WindowsPath('c:/Users/calvin/Documents/GitHub/pathlib-os-boston-meetup/.venv/Lib/site-packages/pip/_internal/commands/check.py'),\n",
       " WindowsPath('c:/Users/calvin/Documents/GitHub/pathlib-os-boston-meetup/.venv/Lib/site-packages/pip/_internal/commands/completion.py'),\n",
       " WindowsPath('c:/Users/calvin/Documents/GitHub/pathlib-os-boston-meetup/.venv/Lib/site-packages/pip/_internal/commands/configuration.py'),\n",
       " WindowsPath('c:/Users/calvin/Documents/GitHub/pathlib-os-boston-meetup/.venv/Lib/site-packages/pip/_internal/commands/debug.py'),\n",
       " WindowsPath('c:/Users/calvin/Documents/GitHub/pathlib-os-boston-meetup/.venv/Lib/site-packages/pip/_internal/commands/download.py'),\n",
       " WindowsPath('c:/Users/calvin/Documents/GitHub/pathlib-os-boston-meetup/.venv/Lib/site-packages/pip/_internal/commands/freeze.py'),\n",
       " WindowsPath('c:/Users/calvin/Documents/GitHub/pathlib-os-boston-meetup/.venv/Lib/site-packages/pip/_internal/commands/hash.py'),\n",
       " WindowsPath('c:/Users/calvin/Documents/GitHub/pathlib-os-boston-meetup/.venv/Lib/site-packages/pip/_internal/commands/help.py'),\n",
       " WindowsPath('c:/Users/calvin/Documents/GitHub/pathlib-os-boston-meetup/.venv/Lib/site-packages/pip/_internal/commands/index.py'),\n",
       " WindowsPath('c:/Users/calvin/Documents/GitHub/pathlib-os-boston-meetup/.venv/Lib/site-packages/pip/_internal/commands/inspect.py'),\n",
       " WindowsPath('c:/Users/calvin/Documents/GitHub/pathlib-os-boston-meetup/.venv/Lib/site-packages/pip/_internal/commands/install.py'),\n",
       " WindowsPath('c:/Users/calvin/Documents/GitHub/pathlib-os-boston-meetup/.venv/Lib/site-packages/pip/_internal/commands/list.py'),\n",
       " WindowsPath('c:/Users/calvin/Documents/GitHub/pathlib-os-boston-meetup/.venv/Lib/site-packages/pip/_internal/commands/search.py'),\n",
       " WindowsPath('c:/Users/calvin/Documents/GitHub/pathlib-os-boston-meetup/.venv/Lib/site-packages/pip/_internal/commands/show.py'),\n",
       " WindowsPath('c:/Users/calvin/Documents/GitHub/pathlib-os-boston-meetup/.venv/Lib/site-packages/pip/_internal/commands/uninstall.py'),\n",
       " WindowsPath('c:/Users/calvin/Documents/GitHub/pathlib-os-boston-meetup/.venv/Lib/site-packages/pip/_internal/commands/wheel.py'),\n",
       " WindowsPath('c:/Users/calvin/Documents/GitHub/pathlib-os-boston-meetup/.venv/Lib/site-packages/pip/_internal/commands/__init__.py'),\n",
       " WindowsPath('c:/Users/calvin/Documents/GitHub/pathlib-os-boston-meetup/.venv/Lib/site-packages/pip/_internal/distributions/base.py'),\n",
       " WindowsPath('c:/Users/calvin/Documents/GitHub/pathlib-os-boston-meetup/.venv/Lib/site-packages/pip/_internal/distributions/installed.py'),\n",
       " WindowsPath('c:/Users/calvin/Documents/GitHub/pathlib-os-boston-meetup/.venv/Lib/site-packages/pip/_internal/distributions/sdist.py'),\n",
       " WindowsPath('c:/Users/calvin/Documents/GitHub/pathlib-os-boston-meetup/.venv/Lib/site-packages/pip/_internal/distributions/wheel.py'),\n",
       " WindowsPath('c:/Users/calvin/Documents/GitHub/pathlib-os-boston-meetup/.venv/Lib/site-packages/pip/_internal/distributions/__init__.py'),\n",
       " WindowsPath('c:/Users/calvin/Documents/GitHub/pathlib-os-boston-meetup/.venv/Lib/site-packages/pip/_internal/index/collector.py'),\n",
       " WindowsPath('c:/Users/calvin/Documents/GitHub/pathlib-os-boston-meetup/.venv/Lib/site-packages/pip/_internal/index/package_finder.py'),\n",
       " WindowsPath('c:/Users/calvin/Documents/GitHub/pathlib-os-boston-meetup/.venv/Lib/site-packages/pip/_internal/index/sources.py'),\n",
       " WindowsPath('c:/Users/calvin/Documents/GitHub/pathlib-os-boston-meetup/.venv/Lib/site-packages/pip/_internal/index/__init__.py'),\n",
       " WindowsPath('c:/Users/calvin/Documents/GitHub/pathlib-os-boston-meetup/.venv/Lib/site-packages/pip/_internal/locations/base.py'),\n",
       " WindowsPath('c:/Users/calvin/Documents/GitHub/pathlib-os-boston-meetup/.venv/Lib/site-packages/pip/_internal/locations/_distutils.py'),\n",
       " WindowsPath('c:/Users/calvin/Documents/GitHub/pathlib-os-boston-meetup/.venv/Lib/site-packages/pip/_internal/locations/_sysconfig.py'),\n",
       " WindowsPath('c:/Users/calvin/Documents/GitHub/pathlib-os-boston-meetup/.venv/Lib/site-packages/pip/_internal/locations/__init__.py'),\n",
       " WindowsPath('c:/Users/calvin/Documents/GitHub/pathlib-os-boston-meetup/.venv/Lib/site-packages/pip/_internal/metadata/base.py'),\n",
       " WindowsPath('c:/Users/calvin/Documents/GitHub/pathlib-os-boston-meetup/.venv/Lib/site-packages/pip/_internal/metadata/pkg_resources.py'),\n",
       " WindowsPath('c:/Users/calvin/Documents/GitHub/pathlib-os-boston-meetup/.venv/Lib/site-packages/pip/_internal/metadata/_json.py'),\n",
       " WindowsPath('c:/Users/calvin/Documents/GitHub/pathlib-os-boston-meetup/.venv/Lib/site-packages/pip/_internal/metadata/__init__.py'),\n",
       " WindowsPath('c:/Users/calvin/Documents/GitHub/pathlib-os-boston-meetup/.venv/Lib/site-packages/pip/_internal/metadata/importlib/_compat.py'),\n",
       " WindowsPath('c:/Users/calvin/Documents/GitHub/pathlib-os-boston-meetup/.venv/Lib/site-packages/pip/_internal/metadata/importlib/_dists.py'),\n",
       " WindowsPath('c:/Users/calvin/Documents/GitHub/pathlib-os-boston-meetup/.venv/Lib/site-packages/pip/_internal/metadata/importlib/_envs.py'),\n",
       " WindowsPath('c:/Users/calvin/Documents/GitHub/pathlib-os-boston-meetup/.venv/Lib/site-packages/pip/_internal/metadata/importlib/__init__.py'),\n",
       " WindowsPath('c:/Users/calvin/Documents/GitHub/pathlib-os-boston-meetup/.venv/Lib/site-packages/pip/_internal/models/candidate.py'),\n",
       " WindowsPath('c:/Users/calvin/Documents/GitHub/pathlib-os-boston-meetup/.venv/Lib/site-packages/pip/_internal/models/direct_url.py'),\n",
       " WindowsPath('c:/Users/calvin/Documents/GitHub/pathlib-os-boston-meetup/.venv/Lib/site-packages/pip/_internal/models/format_control.py'),\n",
       " WindowsPath('c:/Users/calvin/Documents/GitHub/pathlib-os-boston-meetup/.venv/Lib/site-packages/pip/_internal/models/index.py'),\n",
       " WindowsPath('c:/Users/calvin/Documents/GitHub/pathlib-os-boston-meetup/.venv/Lib/site-packages/pip/_internal/models/installation_report.py'),\n",
       " WindowsPath('c:/Users/calvin/Documents/GitHub/pathlib-os-boston-meetup/.venv/Lib/site-packages/pip/_internal/models/link.py'),\n",
       " WindowsPath('c:/Users/calvin/Documents/GitHub/pathlib-os-boston-meetup/.venv/Lib/site-packages/pip/_internal/models/scheme.py'),\n",
       " WindowsPath('c:/Users/calvin/Documents/GitHub/pathlib-os-boston-meetup/.venv/Lib/site-packages/pip/_internal/models/search_scope.py'),\n",
       " WindowsPath('c:/Users/calvin/Documents/GitHub/pathlib-os-boston-meetup/.venv/Lib/site-packages/pip/_internal/models/selection_prefs.py'),\n",
       " WindowsPath('c:/Users/calvin/Documents/GitHub/pathlib-os-boston-meetup/.venv/Lib/site-packages/pip/_internal/models/target_python.py'),\n",
       " WindowsPath('c:/Users/calvin/Documents/GitHub/pathlib-os-boston-meetup/.venv/Lib/site-packages/pip/_internal/models/wheel.py'),\n",
       " WindowsPath('c:/Users/calvin/Documents/GitHub/pathlib-os-boston-meetup/.venv/Lib/site-packages/pip/_internal/models/__init__.py'),\n",
       " WindowsPath('c:/Users/calvin/Documents/GitHub/pathlib-os-boston-meetup/.venv/Lib/site-packages/pip/_internal/network/auth.py'),\n",
       " WindowsPath('c:/Users/calvin/Documents/GitHub/pathlib-os-boston-meetup/.venv/Lib/site-packages/pip/_internal/network/cache.py'),\n",
       " WindowsPath('c:/Users/calvin/Documents/GitHub/pathlib-os-boston-meetup/.venv/Lib/site-packages/pip/_internal/network/download.py'),\n",
       " WindowsPath('c:/Users/calvin/Documents/GitHub/pathlib-os-boston-meetup/.venv/Lib/site-packages/pip/_internal/network/lazy_wheel.py'),\n",
       " WindowsPath('c:/Users/calvin/Documents/GitHub/pathlib-os-boston-meetup/.venv/Lib/site-packages/pip/_internal/network/session.py'),\n",
       " WindowsPath('c:/Users/calvin/Documents/GitHub/pathlib-os-boston-meetup/.venv/Lib/site-packages/pip/_internal/network/utils.py'),\n",
       " WindowsPath('c:/Users/calvin/Documents/GitHub/pathlib-os-boston-meetup/.venv/Lib/site-packages/pip/_internal/network/xmlrpc.py'),\n",
       " WindowsPath('c:/Users/calvin/Documents/GitHub/pathlib-os-boston-meetup/.venv/Lib/site-packages/pip/_internal/network/__init__.py'),\n",
       " WindowsPath('c:/Users/calvin/Documents/GitHub/pathlib-os-boston-meetup/.venv/Lib/site-packages/pip/_internal/operations/check.py'),\n",
       " WindowsPath('c:/Users/calvin/Documents/GitHub/pathlib-os-boston-meetup/.venv/Lib/site-packages/pip/_internal/operations/freeze.py'),\n",
       " WindowsPath('c:/Users/calvin/Documents/GitHub/pathlib-os-boston-meetup/.venv/Lib/site-packages/pip/_internal/operations/prepare.py'),\n",
       " WindowsPath('c:/Users/calvin/Documents/GitHub/pathlib-os-boston-meetup/.venv/Lib/site-packages/pip/_internal/operations/__init__.py'),\n",
       " WindowsPath('c:/Users/calvin/Documents/GitHub/pathlib-os-boston-meetup/.venv/Lib/site-packages/pip/_internal/operations/build/build_tracker.py'),\n",
       " WindowsPath('c:/Users/calvin/Documents/GitHub/pathlib-os-boston-meetup/.venv/Lib/site-packages/pip/_internal/operations/build/metadata.py'),\n",
       " WindowsPath('c:/Users/calvin/Documents/GitHub/pathlib-os-boston-meetup/.venv/Lib/site-packages/pip/_internal/operations/build/metadata_editable.py'),\n",
       " WindowsPath('c:/Users/calvin/Documents/GitHub/pathlib-os-boston-meetup/.venv/Lib/site-packages/pip/_internal/operations/build/metadata_legacy.py'),\n",
       " WindowsPath('c:/Users/calvin/Documents/GitHub/pathlib-os-boston-meetup/.venv/Lib/site-packages/pip/_internal/operations/build/wheel.py'),\n",
       " WindowsPath('c:/Users/calvin/Documents/GitHub/pathlib-os-boston-meetup/.venv/Lib/site-packages/pip/_internal/operations/build/wheel_editable.py'),\n",
       " WindowsPath('c:/Users/calvin/Documents/GitHub/pathlib-os-boston-meetup/.venv/Lib/site-packages/pip/_internal/operations/build/wheel_legacy.py'),\n",
       " WindowsPath('c:/Users/calvin/Documents/GitHub/pathlib-os-boston-meetup/.venv/Lib/site-packages/pip/_internal/operations/build/__init__.py'),\n",
       " WindowsPath('c:/Users/calvin/Documents/GitHub/pathlib-os-boston-meetup/.venv/Lib/site-packages/pip/_internal/operations/install/editable_legacy.py'),\n",
       " WindowsPath('c:/Users/calvin/Documents/GitHub/pathlib-os-boston-meetup/.venv/Lib/site-packages/pip/_internal/operations/install/legacy.py'),\n",
       " WindowsPath('c:/Users/calvin/Documents/GitHub/pathlib-os-boston-meetup/.venv/Lib/site-packages/pip/_internal/operations/install/wheel.py'),\n",
       " WindowsPath('c:/Users/calvin/Documents/GitHub/pathlib-os-boston-meetup/.venv/Lib/site-packages/pip/_internal/operations/install/__init__.py'),\n",
       " WindowsPath('c:/Users/calvin/Documents/GitHub/pathlib-os-boston-meetup/.venv/Lib/site-packages/pip/_internal/req/constructors.py'),\n",
       " WindowsPath('c:/Users/calvin/Documents/GitHub/pathlib-os-boston-meetup/.venv/Lib/site-packages/pip/_internal/req/req_file.py'),\n",
       " WindowsPath('c:/Users/calvin/Documents/GitHub/pathlib-os-boston-meetup/.venv/Lib/site-packages/pip/_internal/req/req_install.py'),\n",
       " WindowsPath('c:/Users/calvin/Documents/GitHub/pathlib-os-boston-meetup/.venv/Lib/site-packages/pip/_internal/req/req_set.py'),\n",
       " WindowsPath('c:/Users/calvin/Documents/GitHub/pathlib-os-boston-meetup/.venv/Lib/site-packages/pip/_internal/req/req_uninstall.py'),\n",
       " WindowsPath('c:/Users/calvin/Documents/GitHub/pathlib-os-boston-meetup/.venv/Lib/site-packages/pip/_internal/req/__init__.py'),\n",
       " WindowsPath('c:/Users/calvin/Documents/GitHub/pathlib-os-boston-meetup/.venv/Lib/site-packages/pip/_internal/resolution/base.py'),\n",
       " WindowsPath('c:/Users/calvin/Documents/GitHub/pathlib-os-boston-meetup/.venv/Lib/site-packages/pip/_internal/resolution/__init__.py'),\n",
       " WindowsPath('c:/Users/calvin/Documents/GitHub/pathlib-os-boston-meetup/.venv/Lib/site-packages/pip/_internal/resolution/legacy/resolver.py'),\n",
       " WindowsPath('c:/Users/calvin/Documents/GitHub/pathlib-os-boston-meetup/.venv/Lib/site-packages/pip/_internal/resolution/legacy/__init__.py'),\n",
       " WindowsPath('c:/Users/calvin/Documents/GitHub/pathlib-os-boston-meetup/.venv/Lib/site-packages/pip/_internal/resolution/resolvelib/base.py'),\n",
       " WindowsPath('c:/Users/calvin/Documents/GitHub/pathlib-os-boston-meetup/.venv/Lib/site-packages/pip/_internal/resolution/resolvelib/candidates.py'),\n",
       " WindowsPath('c:/Users/calvin/Documents/GitHub/pathlib-os-boston-meetup/.venv/Lib/site-packages/pip/_internal/resolution/resolvelib/factory.py'),\n",
       " WindowsPath('c:/Users/calvin/Documents/GitHub/pathlib-os-boston-meetup/.venv/Lib/site-packages/pip/_internal/resolution/resolvelib/found_candidates.py'),\n",
       " WindowsPath('c:/Users/calvin/Documents/GitHub/pathlib-os-boston-meetup/.venv/Lib/site-packages/pip/_internal/resolution/resolvelib/provider.py'),\n",
       " WindowsPath('c:/Users/calvin/Documents/GitHub/pathlib-os-boston-meetup/.venv/Lib/site-packages/pip/_internal/resolution/resolvelib/reporter.py'),\n",
       " WindowsPath('c:/Users/calvin/Documents/GitHub/pathlib-os-boston-meetup/.venv/Lib/site-packages/pip/_internal/resolution/resolvelib/requirements.py'),\n",
       " WindowsPath('c:/Users/calvin/Documents/GitHub/pathlib-os-boston-meetup/.venv/Lib/site-packages/pip/_internal/resolution/resolvelib/resolver.py'),\n",
       " WindowsPath('c:/Users/calvin/Documents/GitHub/pathlib-os-boston-meetup/.venv/Lib/site-packages/pip/_internal/resolution/resolvelib/__init__.py'),\n",
       " WindowsPath('c:/Users/calvin/Documents/GitHub/pathlib-os-boston-meetup/.venv/Lib/site-packages/pip/_internal/utils/appdirs.py'),\n",
       " WindowsPath('c:/Users/calvin/Documents/GitHub/pathlib-os-boston-meetup/.venv/Lib/site-packages/pip/_internal/utils/compat.py'),\n",
       " WindowsPath('c:/Users/calvin/Documents/GitHub/pathlib-os-boston-meetup/.venv/Lib/site-packages/pip/_internal/utils/compatibility_tags.py'),\n",
       " WindowsPath('c:/Users/calvin/Documents/GitHub/pathlib-os-boston-meetup/.venv/Lib/site-packages/pip/_internal/utils/datetime.py'),\n",
       " WindowsPath('c:/Users/calvin/Documents/GitHub/pathlib-os-boston-meetup/.venv/Lib/site-packages/pip/_internal/utils/deprecation.py'),\n",
       " WindowsPath('c:/Users/calvin/Documents/GitHub/pathlib-os-boston-meetup/.venv/Lib/site-packages/pip/_internal/utils/direct_url_helpers.py'),\n",
       " WindowsPath('c:/Users/calvin/Documents/GitHub/pathlib-os-boston-meetup/.venv/Lib/site-packages/pip/_internal/utils/distutils_args.py'),\n",
       " WindowsPath('c:/Users/calvin/Documents/GitHub/pathlib-os-boston-meetup/.venv/Lib/site-packages/pip/_internal/utils/egg_link.py'),\n",
       " WindowsPath('c:/Users/calvin/Documents/GitHub/pathlib-os-boston-meetup/.venv/Lib/site-packages/pip/_internal/utils/encoding.py'),\n",
       " WindowsPath('c:/Users/calvin/Documents/GitHub/pathlib-os-boston-meetup/.venv/Lib/site-packages/pip/_internal/utils/entrypoints.py'),\n",
       " WindowsPath('c:/Users/calvin/Documents/GitHub/pathlib-os-boston-meetup/.venv/Lib/site-packages/pip/_internal/utils/filesystem.py'),\n",
       " ...]"
      ]
     },
     "execution_count": 38,
     "metadata": {},
     "output_type": "execute_result"
    }
   ],
   "source": [
    "# Recursive Glob - equivilent to glob with \"**/*.py\"\n",
    "list(\n",
    "    Path.cwd().rglob(\"*.py\")\n",
    ")"
   ]
  },
  {
   "attachments": {},
   "cell_type": "markdown",
   "metadata": {},
   "source": [
    "### Reading and Writing Files\n",
    "\n",
    "1. Context manager way with path string\n",
    "2. Context manager way with Path object\n",
    "3. Path read/write methods - open and close automatically.\n"
   ]
  },
  {
   "cell_type": "code",
   "execution_count": 39,
   "metadata": {},
   "outputs": [],
   "source": [
    "import json\n",
    "import pickle\n",
    "text_file = \"file_list.txt\"\n",
    "json_file = \"sample.json\"\n",
    "pickle_file = \"sample.pickle\"\n"
   ]
  },
  {
   "attachments": {},
   "cell_type": "markdown",
   "metadata": {},
   "source": [
    "Text File"
   ]
  },
  {
   "cell_type": "code",
   "execution_count": 40,
   "metadata": {},
   "outputs": [],
   "source": [
    "# 1\n",
    "with open(text_file) as f:\n",
    "    result = f.read()\n",
    "    \n",
    "# 2    \n",
    "path = Path(text_file)\n",
    "with path.open() as f:\n",
    "    result = f.read()\n",
    "    \n",
    "# 3\n",
    "result = path.read_text()"
   ]
  },
  {
   "attachments": {},
   "cell_type": "markdown",
   "metadata": {},
   "source": [
    "JSON"
   ]
  },
  {
   "cell_type": "code",
   "execution_count": 41,
   "metadata": {},
   "outputs": [
    {
     "data": {
      "text/plain": [
       "{'animals': ['cat', 'dog', 'rabbit', 'rat']}"
      ]
     },
     "execution_count": 41,
     "metadata": {},
     "output_type": "execute_result"
    }
   ],
   "source": [
    "\n",
    "# 1\n",
    "with open(json_file) as f:\n",
    "    result = json.load(f)\n",
    "    \n",
    "# 2    \n",
    "path = Path(json_file)\n",
    "with path.open() as f:\n",
    "    result = json.load(f)\n",
    "    \n",
    "# 3\n",
    "result = json.loads(path.read_text())\n",
    "result"
   ]
  },
  {
   "attachments": {},
   "cell_type": "markdown",
   "metadata": {},
   "source": [
    "Pickle - bytes"
   ]
  },
  {
   "cell_type": "code",
   "execution_count": 42,
   "metadata": {},
   "outputs": [
    {
     "data": {
      "text/plain": [
       "'thisisapythonobject'"
      ]
     },
     "execution_count": 42,
     "metadata": {},
     "output_type": "execute_result"
    }
   ],
   "source": [
    "# 1\n",
    "with open(pickle_file, \"rb\") as f:\n",
    "    result = pickle.load(f)\n",
    "    \n",
    "# 2\n",
    "path = Path(pickle_file)\n",
    "with path.open(\"rb\") as f:\n",
    "    result = pickle.load(f)\n",
    "    \n",
    "# 3\n",
    "result = pickle.loads(path.read_bytes())\n",
    "result"
   ]
  },
  {
   "attachments": {},
   "cell_type": "markdown",
   "metadata": {},
   "source": [
    "### some notes/comparisons - os.path\n",
    "* The os.path will return a string. Pathlib will return an object. \n",
    "* Some os methods are less intuitive, harder to remember.\n",
    "* os.walk() alternatives - glob\n",
    "* os.Pathlike - ABC for pathlib and os.path objects"
   ]
  },
  {
   "attachments": {},
   "cell_type": "markdown",
   "metadata": {},
   "source": [
    "## APPENDIX"
   ]
  },
  {
   "attachments": {},
   "cell_type": "markdown",
   "metadata": {},
   "source": [
    "### PurePath vs Path speed"
   ]
  },
  {
   "attachments": {},
   "cell_type": "markdown",
   "metadata": {},
   "source": [
    "Almost no difference in speed between the two."
   ]
  },
  {
   "cell_type": "code",
   "execution_count": 43,
   "metadata": {},
   "outputs": [],
   "source": [
    "# Load a bunch of file path strings (1 million)\n",
    "# file_list.txt created by gen_file_paths.py\n",
    "lots_of_paths = Path(\"file_list.txt\").read_text().splitlines()"
   ]
  },
  {
   "cell_type": "code",
   "execution_count": 44,
   "metadata": {},
   "outputs": [
    {
     "name": "stdout",
     "output_type": "stream",
     "text": [
      "3.81 s ± 81.2 ms per loop (mean ± std. dev. of 7 runs, 1 loop each)\n"
     ]
    }
   ],
   "source": [
    "%%timeit\n",
    "# Path\n",
    "for i in lots_of_paths:\n",
    "    p = Path(i)\n",
    "    p.name"
   ]
  },
  {
   "cell_type": "code",
   "execution_count": 45,
   "metadata": {},
   "outputs": [
    {
     "name": "stdout",
     "output_type": "stream",
     "text": [
      "3.63 s ± 67.3 ms per loop (mean ± std. dev. of 7 runs, 1 loop each)\n"
     ]
    }
   ],
   "source": [
    "%%timeit\n",
    "# PurePath\n",
    "for i in lots_of_paths:\n",
    "    p = PurePath(i)\n",
    "    p.name"
   ]
  },
  {
   "cell_type": "code",
   "execution_count": null,
   "metadata": {},
   "outputs": [],
   "source": []
  }
 ],
 "metadata": {
  "kernelspec": {
   "display_name": ".venv",
   "language": "python",
   "name": "python3"
  },
  "language_info": {
   "codemirror_mode": {
    "name": "ipython",
    "version": 3
   },
   "file_extension": ".py",
   "mimetype": "text/x-python",
   "name": "python",
   "nbconvert_exporter": "python",
   "pygments_lexer": "ipython3",
   "version": "3.11.2"
  },
  "orig_nbformat": 4
 },
 "nbformat": 4,
 "nbformat_minor": 2
}
